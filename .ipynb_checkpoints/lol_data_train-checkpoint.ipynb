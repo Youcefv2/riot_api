{
 "cells": [
  {
   "cell_type": "code",
   "execution_count": 1,
   "id": "18f8a218",
   "metadata": {},
   "outputs": [],
   "source": [
    "import requests, json, time\n",
    "\n",
    "# variables \n",
    "Patch = \"11.24.1\"\n",
    "MinimumGamesPlayed = 100\n",
    "Champion = \"Evelynn\""
   ]
  },
  {
   "cell_type": "code",
   "execution_count": 4,
   "id": "9bc01fb5",
   "metadata": {
    "scrolled": true
   },
   "outputs": [],
   "source": [
    "# Recupere la list des chall\n",
    "api_key = \"RGAPI-1c22544f-63d8-4b94-86d6-a049ac2cd996\"\n",
    "GetChallPlayers = \"https://euw1.api.riotgames.com/lol/league/v4/challengerleagues/by-queue/RANKED_SOLO_5x5\"+ \"?api_key=\" + api_key\n",
    "response1 = requests.get(GetChallPlayers).json()"
   ]
  },
  {
   "cell_type": "code",
   "execution_count": 5,
   "id": "66c388c6",
   "metadata": {
    "scrolled": true
   },
   "outputs": [
    {
     "name": "stdout",
     "output_type": "stream",
     "text": [
      "14 : 00 : 16\n",
      "end\n",
      "14 : 10 : 55\n",
      "14 : 10 : 55\n",
      "end\n",
      "14 : 21 : 33\n",
      "2489\n",
      "1648\n",
      "14 : 21 : 33\n",
      "end\n",
      "15 : 21 : 33\n"
     ]
    }
   ],
   "source": [
    "# recupere le puuid des chall\n",
    "print (time.strftime(\"%H : %M : %S\"))\n",
    "info = (response1['entries'])\n",
    "playersPuuid = []\n",
    "playersName = []\n",
    "for i in range(299):\n",
    "        GetPlayersPuuid = \"https://euw1.api.riotgames.com/lol/summoner/v4/summoners/\"+info[i]['summonerId']+ \"?api_key=\" + api_key\n",
    "        response2 = requests.get(GetPlayersPuuid).json()\n",
    "        playersPuuid.append(response2[\"puuid\"])\n",
    "        time.sleep(2)\n",
    "print(\"end\")\n",
    "print (time.strftime(\"%H : %M : %S\"))\n",
    "# recupere les 20 dernieres games de chaque joueur depuis une certaine date\n",
    "print (time.strftime(\"%H : %M : %S\"))\n",
    "PlayersGames = []\n",
    "date = \"1639029600\"\n",
    "for i in range(299):\n",
    "        GetPlayersGames = \"https://europe.api.riotgames.com/lol/match/v5/matches/by-puuid/\" + playersPuuid[i] + \"/ids?startTime=\" + date +\"&queue=420&type=ranked&start=0&count=20&api_key=\" + api_key\n",
    "        response2 = requests.get(GetPlayersGames).json()\n",
    "        PlayersGames = PlayersGames + response2\n",
    "        time.sleep(2)\n",
    "print(\"end\")\n",
    "print (time.strftime(\"%H : %M : %S\"))\n",
    "PlayersGames.sort()\n",
    "# verifie que la liste des games a ete trie\n",
    "print(len(PlayersGames))\n",
    "PlayersGames = list(set(PlayersGames))\n",
    "seen = set()\n",
    "result = []\n",
    "for item in PlayersGames:\n",
    "    if item not in seen:\n",
    "        seen.add(item)\n",
    "        result.append(item)\n",
    "print(len(result))\n",
    "# recupere les infos de chaque game\n",
    "print (time.strftime(\"%H : %M : %S\"))\n",
    "GamesInfo = []\n",
    "PlayersGamesRange = len(PlayersGames) - 1\n",
    "for i in range(PlayersGamesRange):\n",
    "    GetGamesInfo = \"https://europe.api.riotgames.com/lol/match/v5/matches/\" + PlayersGames[i] + \"?api_key=\" + api_key\n",
    "    response3 = requests.get(GetGamesInfo).json()\n",
    "    GamesInfo.append(response3)\n",
    "    time.sleep(2)\n",
    "print(\"end\")\n",
    "print (time.strftime(\"%H : %M : %S\"))\n"
   ]
  },
  {
   "cell_type": "code",
   "execution_count": 6,
   "id": "bf7db7e1",
   "metadata": {
    "scrolled": true
   },
   "outputs": [],
   "source": [
    "#nb de games par champions\n",
    "# recupere la liste des champions joue sur toutes les games dispo, et on tri par ordre alphabet\n",
    "from operator import itemgetter\n",
    "champsList = []\n",
    "count = len(GamesInfo) - 1\n",
    "for j in range (count):\n",
    "    for i in range (10):\n",
    "        champsList.append(GamesInfo[j][\"info\"][\"participants\"][i][\"championName\"])\n",
    "# compte le nombre d apparition d un champion\n",
    "ChampWinList = [[x,champsList.count(x)] for x in set(champsList)]\n",
    "ChampPickedCounter = [[x,champsList.count(x)] for x in set(champsList)]\n",
    "# pour trier par nb de games : , key=itemgetter(1), reverse=True\n",
    "ChampPickedCounter = sorted(ChampPickedCounter)\n",
    "ChampWinList = sorted(ChampWinList)\n",
    "#nb de loose par champions\n",
    "# recupere la liste des champions joue sur toutes les games dispo, et on tri par ordre alphabet\n",
    "from operator import itemgetter\n",
    "ChampLoseList = []\n",
    "count = len(GamesInfo) - 1\n",
    "for j in range (count):\n",
    "    for i in range (10):\n",
    "        if GamesInfo[j][\"info\"][\"participants\"][i][\"win\"] == False:\n",
    "            ChampLoseList.append(GamesInfo[j][\"info\"][\"participants\"][i][\"championName\"])\n",
    "# compte le nombre d apparition d un champion\n",
    "ChampLoseListCounter = [[x,ChampLoseList.count(x)] for x in set(ChampLoseList)]\n",
    "# pour trier par nb de games : , key=itemgetter(1), reverse=True\n",
    "ChampLoseListCounter = sorted(ChampLoseListCounter)\n",
    "#nb de games loose par champions\n",
    "import copy\n",
    "champWinRate = []\n",
    "countLose =  len(ChampLoseListCounter) - 1\n",
    "countPick = len(ChampPickedCounter) - 1\n",
    "# calcul du winrate d un champion \n",
    "for i in range (countPick):\n",
    "    for j in range (countLose):\n",
    "        if ChampWinList[i][0] == ChampLoseListCounter[j][0]:\n",
    "            ChampWinList[i][1] = ChampWinList[i][1] - ChampLoseListCounter[j][1]\n",
    "            winrate = round(ChampWinList[i][1] * 100 / ChampPickedCounter[i][1], 2)\n",
    "            if ChampPickedCounter[i][1] > MinimumGamesPlayed:\n",
    "                champWinRate.append([ChampWinList[i][0], winrate])\n",
    "champWinRate = sorted(champWinRate, key=lambda x: x[1], reverse=True)"
   ]
  },
  {
   "cell_type": "code",
   "execution_count": 7,
   "id": "badfebc6",
   "metadata": {},
   "outputs": [
    {
     "name": "stdout",
     "output_type": "stream",
     "text": [
      "------------Picks-----------------\n",
      "[['LeeSin', 556], ['Viego', 440], ['Jinx', 412], ['Jhin', 395], ['Qiyana', 358], ['Lux', 356], ['Viktor', 354], ['Kaisa', 352], ['Lulu', 330], ['Jayce', 323], ['Yone', 317], ['Caitlyn', 304], ['Akshan', 301], ['Ezreal', 288], ['Karma', 262], ['Zed', 256], ['Rakan', 247], ['Vex', 246], ['Thresh', 241], ['Talon', 238], ['Akali', 236], ['Graves', 232], ['Irelia', 229], ['Lucian', 216], ['Syndra', 215], ['Corki', 214], ['Fiora', 212], ['Nidalee', 201], ['Sylas', 201], ['Nami', 199], ['Yasuo', 197], ['Janna', 192], ['Leblanc', 181], ['Gragas', 177], ['Leona', 176], ['XinZhao', 169], ['Nautilus', 165], ['Ekko', 163], ['Pyke', 157], ['Draven', 153], ['Vayne', 152], ['TwistedFate', 146], ['Aphelios', 142], ['Kayn', 132], ['Singed', 120], ['Camille', 115], ['Twitch', 113], ['Jax', 111], ['Zoe', 110], ['Sona', 109], ['Bard', 107], ['Kassadin', 102], ['Xerath', 99], ['Riven', 94], ['Ashe', 92], ['Orianna', 92], ['Blitzcrank', 89], ['Hecarim', 88], ['Tryndamere', 86], ['Yuumi', 86], ['Renekton', 83], ['Soraka', 83], ['Gangplank', 81], ['Warwick', 81], ['Karthus', 80], ['Urgot', 78], ['Ryze', 77], ['Gwen', 76], ['Khazix', 76], ['Xayah', 76], ['Tristana', 73], ['Ziggs', 73], ['Rengar', 71], ['Rell', 70], ['Ornn', 69], ['Pantheon', 69], ['Varus', 69], ['Rumble', 68], ['Poppy', 67], ['TahmKench', 65], ['Vladimir', 65], ['Sett', 63], ['Shen', 62], ['Zilean', 62], ['Sion', 58], ['Cassiopeia', 55], ['Kennen', 55], ['Darius', 54], ['Kayle', 54], ['Trundle', 54], ['Senna', 53], ['KogMaw', 52], ['JarvanIV', 49], ['Morgana', 49], ['Aatrox', 47], ['Seraphine', 47], ['Shaco', 47], ['Alistar', 46], ['Galio', 46], ['RekSai', 46], ['Kindred', 45], ['Teemo', 45], ['Evelynn', 44], ['MissFortune', 44], ['Fizz', 43], ['Quinn', 43], ['Braum', 41], ['Katarina', 40], ['Lillia', 40], ['Malphite', 40], ['Samira', 40], ['Veigar', 38], ['Brand', 36], ['Kalista', 35], ['Sejuani', 32], ['MasterYi', 30], ['Taric', 30], ['FiddleSticks', 27], ['Ivern', 26], ['Olaf', 25], ['Diana', 24], ['MonkeyKing', 24], ['Nunu', 24], ['Taliyah', 24], ['Chogath', 23], ['Zac', 22], ['Anivia', 21], ['Annie', 21], ['Neeko', 19], ['Nasus', 18], ['Sivir', 18], ['Azir', 17], ['DrMundo', 17], ['Gnar', 17], ['Lissandra', 17], ['Elise', 16], ['Ahri', 15], ['Kled', 15], ['Malzahar', 15], ['Maokai', 14], ['Nocturne', 14], ['Swain', 13], ['Udyr', 13], ['Volibear', 13], ['Velkoz', 12], ['Vi', 12], ['Illaoi', 10], ['Zyra', 10], ['Amumu', 9], ['Heimerdinger', 8], ['Garen', 5], ['Shyvana', 5], ['Yorick', 5], ['Rammus', 4], ['Mordekaiser', 3], ['Skarner', 3], ['AurelionSol', 1]]\n",
      "-------------Win rate----------------\n",
      "[['Janna', 57.29], ['Lulu', 56.36], ['TwistedFate', 56.16], ['Vayne', 55.92], ['Camille', 55.65], ['Sona', 55.05], ['Vex', 54.88], ['Thresh', 54.36], ['Leblanc', 54.14], ['Jinx', 53.4], ['Qiyana', 53.35], ['Jax', 53.15], ['Gragas', 53.11], ['Karma', 53.05], ['Kayn', 53.03], ['Kassadin', 52.94], ['Jhin', 52.91], ['Fiora', 52.36], ['LeeSin', 52.34], ['Draven', 52.29], ['Sylas', 51.74], ['Graves', 51.72], ['Rakan', 51.42], ['Viktor', 51.41], ['Zoe', 50.91], ['Yone', 50.47], ['Ekko', 50.31], ['XinZhao', 50.3], ['Viego', 50.23], ['Syndra', 49.77], ['Nidalee', 48.76], ['Twitch', 48.67], ['Lucian', 48.61], ['Bard', 48.6], ['Nami', 48.24], ['Talon', 47.48], ['Nautilus', 47.27], ['Kaisa', 46.88], ['Akshan', 46.84], ['Jayce', 46.75], ['Yasuo', 46.7], ['Singed', 46.67], ['Leona', 46.59], ['Pyke', 46.5], ['Zed', 46.48], ['Lux', 46.07], ['Akali', 45.76], ['Caitlyn', 45.72], ['Irelia', 44.98], ['Ezreal', 43.4], ['Aphelios', 42.96], ['Corki', 39.72]]\n",
      "------------win nb-----------------\n",
      "[['Aatrox', 30], ['Ahri', 8], ['Akali', 108], ['Akshan', 141], ['Alistar', 24], ['Amumu', 4], ['Anivia', 14], ['Annie', 16], ['Aphelios', 61], ['Ashe', 45], ['AurelionSol', 0], ['Azir', 7], ['Bard', 52], ['Blitzcrank', 46], ['Brand', 15], ['Braum', 22], ['Caitlyn', 139], ['Camille', 64], ['Cassiopeia', 33], ['Chogath', 9], ['Corki', 85], ['Darius', 30], ['Diana', 12], ['DrMundo', 7], ['Draven', 80], ['Ekko', 82], ['Elise', 5], ['Evelynn', 22], ['Ezreal', 125], ['FiddleSticks', 18], ['Fiora', 111], ['Fizz', 19], ['Galio', 25], ['Gangplank', 44], ['Garen', 2], ['Gnar', 9], ['Gragas', 94], ['Graves', 120], ['Gwen', 36], ['Hecarim', 49], ['Heimerdinger', 5], ['Illaoi', 6], ['Irelia', 103], ['Ivern', 11], ['Janna', 110], ['JarvanIV', 28], ['Jax', 59], ['Jayce', 151], ['Jhin', 209], ['Jinx', 220], ['Kaisa', 165], ['Kalista', 18], ['Karma', 139], ['Karthus', 28], ['Kassadin', 54], ['Katarina', 17], ['Kayle', 25], ['Kayn', 70], ['Kennen', 24], ['Khazix', 44], ['Kindred', 23], ['Kled', 7], ['KogMaw', 30], ['Leblanc', 98], ['LeeSin', 291], ['Leona', 82], ['Lillia', 20], ['Lissandra', 7], ['Lucian', 105], ['Lulu', 186], ['Lux', 164], ['Malphite', 18], ['Malzahar', 9], ['Maokai', 8], ['MasterYi', 13], ['MissFortune', 23], ['MonkeyKing', 7], ['Mordekaiser', 1], ['Morgana', 28], ['Nami', 96], ['Nasus', 6], ['Nautilus', 78], ['Neeko', 11], ['Nidalee', 98], ['Nocturne', 4], ['Nunu', 9], ['Olaf', 11], ['Orianna', 47], ['Ornn', 36], ['Pantheon', 41], ['Poppy', 40], ['Pyke', 73], ['Qiyana', 191], ['Quinn', 22], ['Rakan', 127], ['Rammus', 1], ['RekSai', 31], ['Rell', 35], ['Renekton', 41], ['Rengar', 37], ['Riven', 46], ['Rumble', 33], ['Ryze', 35], ['Samira', 21], ['Sejuani', 14], ['Senna', 25], ['Seraphine', 23], ['Sett', 32], ['Shaco', 23], ['Shen', 36], ['Shyvana', 3], ['Singed', 56], ['Sion', 21], ['Sivir', 6], ['Skarner', 0], ['Sona', 60], ['Soraka', 35], ['Swain', 8], ['Sylas', 104], ['Syndra', 107], ['TahmKench', 36], ['Taliyah', 12], ['Talon', 113], ['Taric', 12], ['Teemo', 16], ['Thresh', 131], ['Tristana', 45], ['Trundle', 21], ['Tryndamere', 48], ['TwistedFate', 82], ['Twitch', 55], ['Udyr', 7], ['Urgot', 29], ['Varus', 31], ['Vayne', 85], ['Veigar', 25], ['Velkoz', 3], ['Vex', 135], ['Vi', 4], ['Viego', 221], ['Viktor', 182], ['Vladimir', 31], ['Volibear', 6], ['Warwick', 40], ['Xayah', 35], ['Xerath', 55], ['XinZhao', 85], ['Yasuo', 92], ['Yone', 160], ['Yorick', 3], ['Yuumi', 40], ['Zac', 10], ['Zed', 119], ['Ziggs', 34], ['Zilean', 26], ['Zoe', 56], ['Zyra', 10]]\n",
      "-------------lose nb----------------\n",
      "[['Aatrox', 17], ['Ahri', 7], ['Akali', 128], ['Akshan', 160], ['Alistar', 22], ['Amumu', 5], ['Anivia', 7], ['Annie', 5], ['Aphelios', 81], ['Ashe', 47], ['AurelionSol', 1], ['Azir', 10], ['Bard', 55], ['Blitzcrank', 43], ['Brand', 21], ['Braum', 19], ['Caitlyn', 165], ['Camille', 51], ['Cassiopeia', 22], ['Chogath', 14], ['Corki', 129], ['Darius', 24], ['Diana', 12], ['DrMundo', 10], ['Draven', 73], ['Ekko', 81], ['Elise', 11], ['Evelynn', 22], ['Ezreal', 163], ['FiddleSticks', 9], ['Fiora', 101], ['Fizz', 24], ['Galio', 21], ['Gangplank', 37], ['Garen', 3], ['Gnar', 8], ['Gragas', 83], ['Graves', 112], ['Gwen', 40], ['Hecarim', 39], ['Heimerdinger', 3], ['Illaoi', 4], ['Irelia', 126], ['Ivern', 15], ['Janna', 82], ['JarvanIV', 21], ['Jax', 52], ['Jayce', 172], ['Jhin', 186], ['Jinx', 192], ['Kaisa', 187], ['Kalista', 17], ['Karma', 123], ['Karthus', 52], ['Kassadin', 48], ['Katarina', 23], ['Kayle', 29], ['Kayn', 62], ['Kennen', 31], ['Khazix', 32], ['Kindred', 22], ['Kled', 8], ['KogMaw', 22], ['Leblanc', 83], ['LeeSin', 265], ['Leona', 94], ['Lillia', 20], ['Lissandra', 10], ['Lucian', 111], ['Lulu', 144], ['Lux', 192], ['Malphite', 22], ['Malzahar', 6], ['Maokai', 6], ['MasterYi', 17], ['MissFortune', 21], ['MonkeyKing', 17], ['Mordekaiser', 2], ['Morgana', 21], ['Nami', 103], ['Nasus', 12], ['Nautilus', 87], ['Neeko', 8], ['Nidalee', 103], ['Nocturne', 10], ['Nunu', 15], ['Olaf', 14], ['Orianna', 45], ['Ornn', 33], ['Pantheon', 28], ['Poppy', 27], ['Pyke', 84], ['Qiyana', 167], ['Quinn', 21], ['Rakan', 120], ['Rammus', 3], ['RekSai', 15], ['Rell', 35], ['Renekton', 42], ['Rengar', 34], ['Riven', 48], ['Rumble', 35], ['Ryze', 42], ['Samira', 19], ['Sejuani', 18], ['Senna', 28], ['Seraphine', 24], ['Sett', 31], ['Shaco', 24], ['Shen', 26], ['Shyvana', 2], ['Singed', 64], ['Sion', 37], ['Sivir', 12], ['Skarner', 3], ['Sona', 49], ['Soraka', 48], ['Swain', 5], ['Sylas', 97], ['Syndra', 108], ['TahmKench', 29], ['Taliyah', 12], ['Talon', 125], ['Taric', 18], ['Teemo', 29], ['Thresh', 110], ['Tristana', 28], ['Trundle', 33], ['Tryndamere', 38], ['TwistedFate', 64], ['Twitch', 58], ['Udyr', 6], ['Urgot', 49], ['Varus', 38], ['Vayne', 67], ['Veigar', 13], ['Velkoz', 9], ['Vex', 111], ['Vi', 8], ['Viego', 219], ['Viktor', 172], ['Vladimir', 34], ['Volibear', 7], ['Warwick', 41], ['Xayah', 41], ['Xerath', 44], ['XinZhao', 84], ['Yasuo', 105], ['Yone', 157], ['Yorick', 2], ['Yuumi', 46], ['Zac', 12], ['Zed', 137], ['Ziggs', 39], ['Zilean', 36], ['Zoe', 54], ['Zyra', 7]]\n"
     ]
    }
   ],
   "source": [
    "# on affiche toutes nos donnees\n",
    "\n",
    "print(\"------------Picks-----------------\")\n",
    "print(sorted(ChampPickedCounter, key=lambda x: x[1], reverse=True))\n",
    "print(\"-------------Win rate----------------\")\n",
    "print(champWinRate)\n",
    "print(\"------------win nb-----------------\")\n",
    "print(ChampWinList)\n",
    "print(\"-------------lose nb----------------\")\n",
    "print(ChampLoseListCounter)"
   ]
  },
  {
   "cell_type": "code",
   "execution_count": 8,
   "id": "7ae69a17",
   "metadata": {
    "scrolled": true
   },
   "outputs": [
    {
     "name": "stdout",
     "output_type": "stream",
     "text": [
      "[3152, 2031, 3020, 1082, 1058, 3145, 3020, 4645, 3152, 3041, 1026, 1052, 3152, 3108, 3041, 3020, 3089, 1052, 3152, 1026, 3089, 0, 3041, 3020, 3020, 3041, 3152, 4645, 1058, 0, 3020, 3135, 3152, 3041, 1058, 1058, 3020, 3152, 4645, 1082, 0, 3135, 3102, 3100, 3152, 3089, 3020, 3135, 3135, 4632, 3152, 1082, 3020, 3108, 2055, 2031, 3152, 3041, 3089, 3020, 1052, 3152, 3041, 3020, 0, 0, 2422, 2031, 3152, 3041, 1052, 0, 3152, 4645, 4630, 3020, 3089, 0, 3152, 1058, 3020, 4645, 1058, 3041, 4645, 3041, 3152, 3089, 3020, 0, 1058, 2031, 3152, 3041, 3020, 4645, 3152, 3100, 4629, 3102, 3089, 3041, 4636, 3102, 3041, 3020, 3089, 0, 3152, 3100, 3089, 0, 3102, 3020, 3020, 3135, 3152, 3041, 0, 1028, 3152, 3089, 3020, 1082, 0, 0, 3020, 3057, 3152, 1082, 1026, 3113, 3152, 3041, 3102, 3020, 4630, 3089, 3152, 3089, 3135, 3020, 3102, 0, 3152, 3102, 4630, 3041, 3020, 0, 3152, 3089, 3041, 3135, 3020, 3102, 1039, 2031, 0, 0, 0, 0, 3152, 3020, 3089, 3145, 1082, 0, 3152, 3089, 3145, 3020, 1058, 3135, 3020, 3102, 3152, 1082, 4645, 1058, 3152, 1026, 3020, 1082, 3102, 4630, 0, 3089, 3152, 4645, 3020, 1052, 3152, 3020, 3041, 3089, 3135, 1058, 3020, 3152, 1026, 3041, 4645, 0, 2422, 2031, 3152, 1082, 1052, 0, 4645, 3135, 3152, 3089, 4629, 3020, 3152, 4630, 3041, 3020, 3089, 3108, 3102, 2031, 3152, 3041, 3020, 0, 3020, 2031, 3041, 3089, 0, 3152, 3152, 3041, 3020, 3102, 3089, 0, 3152, 2031, 3020, 3089, 3113, 3041, 3089, 3041, 3152, 3020, 3100, 1026, 3041, 1058, 3152, 3020, 1052, 0, 2031, 3152, 3041, 0, 3020, 0]\n",
      "[['Hextech Rocketbelt', 42], [\"Sorcerer's Shoes\", 40], ['null', 29], [\"Mejai's Soulstealer\", 27], [\"Rabadon's Deathcap\", 23], [\"Banshee's Veil\", 12], ['Needlessly Large Rod', 11], ['Shadowflame', 11], ['Void Staff', 10], ['Refillable Potion', 10], ['Dark Seal', 9], ['Amplifying Tome', 7], ['Blasting Wand', 6], ['Blighting Jewel', 5], ['Lich Bane', 4], ['Fiendish Codex', 3], ['Hextech Alternator', 3], ['Cosmic Drive', 2], ['Aether Wisp', 2], ['Slightly Magical Footwear', 2], ['Ruby Crystal', 1], ['Control Ward', 1], ['Hailblade', 1], ['Verdant Barrier', 1], ['Night Harvester', 1], ['Sheen', 1]]\n"
     ]
    }
   ],
   "source": [
    "# Calcul du nombre d'occurrences des items pour un champion donne\n",
    "ItemList = []\n",
    "WinOrNot = True\n",
    "for e in range(count):\n",
    "    for i in range(10):\n",
    "        for j in range(6):\n",
    "            if GamesInfo[e][\"info\"][\"participants\"][i][\"championName\"] == Champion:\n",
    "#                 est ce que c est une game win ou non (peut etre mis en commit)\n",
    "#                 if GamesInfo[e][\"info\"][\"participants\"][i][\"win\"] == TrueOrFalse:\n",
    "                    ItemList.append(GamesInfo[e][\"info\"][\"participants\"][i][\"item\" + str(j)])\n",
    "print(ItemList)\n",
    "ItemListcounter = [[x,ItemList.count(x)] for x in set(ItemList)]\n",
    "ItemListcounter = sorted(ItemListcounter, key=lambda x: x[1], reverse=True)\n",
    "\n",
    "# on change l'alias des items pour leur nom\n",
    "GetItemInfo = requests.get('https://ddragon.leagueoflegends.com/cdn/'+ Patch +'/data/en_US/item.json').json()\n",
    "for i in range(len(ItemListcounter)):\n",
    "    if ItemListcounter[i][0] != 0:\n",
    "        number = str(ItemListcounter[i][0])\n",
    "        ItemListcounter[i][0] = GetItemInfo[\"data\"][str(number)][\"name\"]\n",
    "    if ItemListcounter[i][0] == 0:\n",
    "        ItemListcounter[i][0] = \"null\"\n",
    "        \n",
    "print(ItemListcounter)"
   ]
  },
  {
   "cell_type": "code",
   "execution_count": 9,
   "id": "a02865cc",
   "metadata": {},
   "outputs": [
    {
     "name": "stdout",
     "output_type": "stream",
     "text": [
      "Winrate with inhibitor killed first 73.77\n"
     ]
    }
   ],
   "source": [
    "# calcul du winrate par rapport au premier objectif\n",
    "GamesFirstObjWin = 0\n",
    "Obj = \"inhibitor\"\n",
    "GameWin = True\n",
    "FirstObj = True\n",
    "for i in range(len(GamesInfo)):\n",
    "    for e in range(2):\n",
    "        if GamesInfo[i][\"info\"][\"teams\"][e][\"win\"] == GameWin and GamesInfo[i][\"info\"][\"teams\"][e][\"objectives\"][Obj][\"first\"] == FirstObj:\n",
    "            GamesFirstObjWin = GamesFirstObjWin + 1\n",
    "GamesFirstObjWinRate = GamesFirstObjWin * 100  / len(GamesInfo)\n",
    "GamesFirstObjWinRate = round(GamesFirstObjWinRate, 2)\n",
    "print(\"Winrate with\",Obj,\"killed first\",GamesFirstObjWinRate)"
   ]
  },
  {
   "cell_type": "code",
   "execution_count": 10,
   "id": "568f1549",
   "metadata": {},
   "outputs": [
    {
     "name": "stdout",
     "output_type": "stream",
     "text": [
      "Most banned champ : [['Talon', 1248], ['Akshan', 980], ['Yuumi', 878], ['Kassadin', 799], ['Qiyana', 646], ['Viktor', 623], ['Irelia', 614], ['Draven', 495], ['Yone', 486], ['Viego', 481], ['Jax', 466], ['Fiora', 427], ['Lulu', 416], ['LeeSin', 400], ['Leblanc', 386], ['Zed', 331], ['Tryndamere', 294], ['Vex', 291], ['Evelynn', 268], ['Katarina', 242], ['Jinx', 221], ['Camille', 171], ['Rengar', 163], ['Jayce', 146], ['Akali', 144], ['Thresh', 143], ['Karthus', 138], ['Lucian', 128], ['Bard', 124], ['Yasuo', 114], ['TwistedFate', 113], ['Lux', 100], ['Nami', 96], ['Nidalee', 92], ['Kayn', 91], ['Jhin', 88], ['Vayne', 79], ['Singed', 75], ['Nunu', 73], ['Kaisa', 73], ['Darius', 72], ['Sona', 71], ['Karma', 71], ['Hecarim', 70], ['TahmKench', 70], ['Khazix', 69], ['Corki', 66], ['Caitlyn', 62], ['Malphite', 61], ['Riven', 60], ['Leona', 59], ['XinZhao', 55], ['Janna', 51], ['Xerath', 49], ['Pyke', 48], ['Anivia', 46], ['Shaco', 46], ['Blitzcrank', 46], ['Zilean', 45], ['Sett', 45], ['Xayah', 43], ['Nautilus', 40], ['Graves', 38], ['Poppy', 36], ['Warwick', 30], ['Vladimir', 28], ['Nocturne', 26], ['Zoe', 26], ['Twitch', 25], ['Syndra', 25], ['Rakan', 25], ['Sylas', 24], ['Aphelios', 24], ['Kennen', 23], ['Ezreal', 22], ['MasterYi', 20], ['Teemo', 20], ['Gwen', 19], ['Soraka', 18], ['Renekton', 18], ['Shen', 17], ['Fiddlesticks', 16], ['Kindred', 15], ['Morgana', 14], ['RekSai', 14], ['Urgot', 13], ['Ekko', 12], ['Ivern', 12], ['Ziggs', 11], ['Trundle', 10], ['KogMaw', 10], ['Samira', 10], ['Kayle', 9], ['Annie', 8], ['Elise', 8], ['Udyr', 8], ['Pantheon', 8], ['Diana', 8], ['Sion', 7], ['Amumu', 7], ['Fizz', 7], ['Alistar', 6], ['Gragas', 6], ['Braum', 6], ['Aatrox', 6], ['Ornn', 5], ['Ashe', 5], ['Rammus', 5], ['Heimerdinger', 5], ['Cassiopeia', 4], ['Illaoi', 4], ['Kalista', 4], ['DrMundo', 3], ['Gangplank', 3], ['Brand', 3], ['Tristana', 2], ['Veigar', 2], ['MonkeyKing', 2], ['Ryze', 2], ['Mordekaiser', 2], ['Malzahar', 2], ['Quinn', 2], ['AurelionSol', 2], ['Taliyah', 2], ['Lillia', 2], ['Galio', 1], ['MissFortune', 1], ['Chogath', 1], ['Taric', 1], ['Neeko', 1], ['Maokai', 1], ['Orianna', 1], ['Rumble', 1], ['Nasus', 1], ['Yorick', 1], ['Garen', 1], ['Shyvana', 1], ['Ahri', 1], ['Varus', 1], ['Lissandra', 1], ['Zac', 1], ['Velkoz', 1], ['Senna', 1], ['Kled', 1], ['Vi', 1], ['Azir', 1]]\n"
     ]
    }
   ],
   "source": [
    "# creation d un dictionaire avec la key et le nom du champion\n",
    "bannedchamp = []\n",
    "GetChampName = requests.get('https://ddragon.leagueoflegends.com/cdn/'+ Patch +'/data/en_US/champion.json').json()\n",
    "ChampNameList = []\n",
    "for k in GetChampName[\"data\"]:\n",
    "    ChampNameList.append(k)\n",
    "ChampListKey = []\n",
    "for i in range(len(ChampNameList)):\n",
    "    ChampListKey.append([ChampNameList[i], GetChampName[\"data\"][ChampNameList[i]][\"key\"]])\n",
    "\n",
    "# calcul du nombre de ban d un champion\n",
    "for f in range(len(GamesInfo)):\n",
    "    for e in range(2):\n",
    "        for i in range(5):\n",
    "            if GamesInfo[f][\"info\"][\"teams\"][e][\"bans\"][i][\"championId\"] != -1:\n",
    "                bannedchamp.append(GamesInfo[f][\"info\"][\"teams\"][e][\"bans\"][i][\"championId\"])\n",
    "bannedchamp = [[x,bannedchamp.count(x)] for x in set(bannedchamp)]\n",
    "bannedchamp = sorted(bannedchamp, key=lambda x: x[1], reverse=True)\n",
    "\n",
    "# on change la key par le nom du champion\n",
    "for i in range(len(bannedchamp)):\n",
    "    for e in range(len(ChampListKey)):\n",
    "        if str(bannedchamp[i][0]) == ChampListKey[e][1]:\n",
    "            bannedchamp[i][0] = ChampListKey[e][0]\n",
    "print(\"Most banned champ :\", bannedchamp)"
   ]
  },
  {
   "cell_type": "code",
   "execution_count": 11,
   "id": "eae1ee15",
   "metadata": {},
   "outputs": [
    {
     "name": "stdout",
     "output_type": "stream",
     "text": [
      "Blue side win :  830\n",
      "Blue side lose :  817\n"
     ]
    }
   ],
   "source": [
    "WinBlueCount = 0\n",
    "\n",
    "LoseBlueCount = 0\n",
    "\n",
    "for i in range(len(GamesInfo)):\n",
    "    if GamesInfo[i][\"info\"][\"teams\"][0][\"win\"] == True:\n",
    "        WinBlueCount = WinBlueCount + 1\n",
    "    elif GamesInfo[i][\"info\"][\"teams\"][0][\"win\"] == False:\n",
    "        LoseBlueCount = LoseBlueCount + 1\n",
    "\n",
    "print(\"Blue side win : \",WinBlueCount)\n",
    "\n",
    "print(\"Blue side lose : \",LoseBlueCount)\n"
   ]
  },
  {
   "cell_type": "code",
   "execution_count": 12,
   "id": "012c7ac6",
   "metadata": {},
   "outputs": [],
   "source": [
    "#Average game time \n",
    "GameTime = []\n",
    "AverageTime = 0\n",
    "for i in range(len(GamesInfo)):\n",
    "    GameTime.append(GamesInfo[i][\"info\"][\"gameDuration\"])\n",
    "AverageTime = round(sum(GameTime) / len(GameTime), 2)\n",
    "AverageTimeInMinute = time.strftime(\"%M:%S\", time.localtime(AverageTime))\n",
    "\n",
    "# calcul du gain d exp et de gold des supports\n",
    "SupportGoldEarned = []\n",
    "SupportExp = []\n",
    "AverageSupportGold = 0\n",
    "AverageSupportExp = 0\n",
    "for i in range(len(GamesInfo)):\n",
    "    for e in range(10):\n",
    "        if GamesInfo[i][\"info\"][\"participants\"][e][\"role\"] == \"SUPPORT\":\n",
    "            SupportGoldEarned.append(GamesInfo[i][\"info\"][\"participants\"][e][\"goldEarned\"])\n",
    "AverageSupportGold = sum(SupportGoldEarned) / len(SupportGoldEarned)\n",
    "AverageSupportGold = round(AverageSupportGold, 2)\n",
    "AverageSupportGoldMin = round((AverageSupportGold / AverageTime) * 60, 2)\n",
    "\n",
    "for i in range(len(GamesInfo)):\n",
    "    for e in range(10):\n",
    "        if GamesInfo[i][\"info\"][\"participants\"][e][\"role\"] == \"SUPPORT\":\n",
    "            SupportExp.append(GamesInfo[i][\"info\"][\"participants\"][e][\"champExperience\"])\n",
    "AverageSupportExp = sum(SupportExp) / len(SupportExp)\n",
    "AverageSupportExp = round(AverageSupportExp, 2)\n",
    "AverageSupportExpMin = round((AverageSupportExp / AverageTime) * 60, 2)\n",
    "\n",
    "# calcul du gain d exp et de gold des jungler\n",
    "JunglerGoldEarned = []\n",
    "JunglerExp = []\n",
    "AverageJunglerExp = 0\n",
    "AverageJunglerGold = 0\n",
    "for i in range(len(GamesInfo)):\n",
    "    for e in range(10):\n",
    "        if GamesInfo[i][\"info\"][\"participants\"][e][\"individualPosition\"] == \"JUNGLE\":\n",
    "            JunglerGoldEarned.append(GamesInfo[i][\"info\"][\"participants\"][e][\"goldEarned\"])\n",
    "AverageJunglerGold = sum(JunglerGoldEarned) / len(JunglerGoldEarned)\n",
    "AverageJunglerGold = round(AverageJunglerGold, 2)\n",
    "AverageJunglerGoldMin = round((AverageJunglerGold / AverageTime) * 60, 2)\n",
    "\n",
    "for i in range(len(GamesInfo)):\n",
    "    for e in range(10):\n",
    "        if GamesInfo[i][\"info\"][\"participants\"][e][\"individualPosition\"] == \"JUNGLE\":\n",
    "            JunglerExp.append(GamesInfo[i][\"info\"][\"participants\"][e][\"champExperience\"])\n",
    "AverageJunglerExp = sum(JunglerExp) / len(JunglerExp)\n",
    "AverageJunglerExp = round(AverageJunglerExp, 2)\n",
    "AverageJunglerExpMin = round((AverageJunglerExp / AverageTime) * 60, 2)\n",
    "    \n",
    "# calcul du gain d exp et de gold des adc\n",
    "CarryGoldEarned = []\n",
    "CarryExp = []\n",
    "AverageCarryExp = 0\n",
    "AverageGoldExp = 0\n",
    "for i in range(len(GamesInfo)):\n",
    "    for e in range(10):\n",
    "        if GamesInfo[i][\"info\"][\"participants\"][e][\"role\"] == \"CARRY\":\n",
    "            CarryGoldEarned.append(GamesInfo[i][\"info\"][\"participants\"][e][\"goldEarned\"])\n",
    "AverageCarryGold = sum(CarryGoldEarned) / len(CarryGoldEarned)\n",
    "AverageCarryGold = round(AverageCarryGold, 2)\n",
    "AverageCarryGoldMin = round((AverageCarryGold / AverageTime) * 60, 2)\n",
    "\n",
    "for i in range(len(GamesInfo)):\n",
    "    for e in range(10):\n",
    "        if GamesInfo[i][\"info\"][\"participants\"][e][\"role\"] == \"CARRY\":\n",
    "            CarryExp.append(GamesInfo[i][\"info\"][\"participants\"][e][\"champExperience\"])\n",
    "AverageCarryExp = sum(CarryExp) / len(CarryExp)\n",
    "AverageCarryExp = round(AverageCarryExp, 2)\n",
    "AverageCarryExpMin = round((AverageCarryExp / AverageTime) * 60, 2)\n",
    "\n",
    "# calcul du gain d exp et de gold des mid\n",
    "MidGoldEarned = []\n",
    "MidExp = []\n",
    "AverageMidExp = 0\n",
    "AverageMidGold = 0\n",
    "for i in range(len(GamesInfo)):\n",
    "    for e in range(10):\n",
    "        if GamesInfo[i][\"info\"][\"participants\"][e][\"individualPosition\"] == \"MIDDLE\":\n",
    "            MidGoldEarned.append(GamesInfo[i][\"info\"][\"participants\"][e][\"goldEarned\"])\n",
    "AverageMidGold = sum(MidGoldEarned) / len(MidGoldEarned)\n",
    "AverageMidGold = round(AverageMidGold, 2)\n",
    "AverageMidGoldMin = round((AverageMidGold / AverageTime) * 60, 2)\n",
    "\n",
    "for i in range(len(GamesInfo)):\n",
    "    for e in range(10):\n",
    "        if GamesInfo[i][\"info\"][\"participants\"][e][\"individualPosition\"] == \"MIDDLE\":\n",
    "            MidExp.append(GamesInfo[i][\"info\"][\"participants\"][e][\"champExperience\"])\n",
    "AverageMidExp = sum(MidExp) / len(MidExp)\n",
    "AverageMidExp = round(AverageMidExp, 2)\n",
    "AverageMidExpMin = round((AverageMidExp / AverageTime) * 60, 2)\n",
    "\n",
    "# calcul du gain d exp et de gold des top\n",
    "TopGoldEarned = []\n",
    "TopExp = []\n",
    "AverageTopExp = 0\n",
    "AverageTopGold = 0\n",
    "for i in range(len(GamesInfo)):\n",
    "    for e in range(10):\n",
    "        if GamesInfo[i][\"info\"][\"participants\"][e][\"individualPosition\"] == \"TOP\":\n",
    "            TopGoldEarned.append(GamesInfo[i][\"info\"][\"participants\"][e][\"goldEarned\"])\n",
    "AverageTopGold = sum(TopGoldEarned) / len(TopGoldEarned)\n",
    "AverageTopGold = round(AverageTopGold, 2)\n",
    "AverageTopGoldMin = round((AverageTopGold / AverageTime) * 60, 2)\n",
    "\n",
    "for i in range(len(GamesInfo)):\n",
    "    for e in range(10):\n",
    "        if GamesInfo[i][\"info\"][\"participants\"][e][\"individualPosition\"] == \"TOP\":\n",
    "            TopExp.append(GamesInfo[i][\"info\"][\"participants\"][e][\"champExperience\"])\n",
    "AverageTopExp = sum(TopExp) / len(TopExp)\n",
    "AverageTopExp = round(AverageTopExp, 2)\n",
    "AverageTopExpMin = round((AverageTopExp / AverageTime) * 60, 2)"
   ]
  },
  {
   "cell_type": "code",
   "execution_count": 13,
   "id": "b293e366",
   "metadata": {},
   "outputs": [
    {
     "name": "stdout",
     "output_type": "stream",
     "text": [
      "427.37\n",
      "432.57\n",
      "435.58\n",
      "478.97\n",
      "291.15\n"
     ]
    }
   ],
   "source": [
    "print(AverageTopGoldMin)\n",
    "print(AverageJunglerGoldMin)\n",
    "print(AverageMidGoldMin)\n",
    "print(AverageCarryGoldMin)\n",
    "print(AverageSupportGoldMin)"
   ]
  },
  {
   "cell_type": "code",
   "execution_count": 14,
   "id": "b9e8c07e",
   "metadata": {},
   "outputs": [
    {
     "name": "stdout",
     "output_type": "stream",
     "text": [
      "{'metadata': {'dataVersion': '2', 'matchId': 'EUW1_5607828718', 'participants': ['L9W18wPyPK7xiAwcGsovIKEQBTihoEtTAzxptwzyZJlGzWAJ4RwrcdZkl8NxsRCzem_aQoa5UMvQag', '_v96klicNL8CLDy_uAhP31G56p8oLrpggYkODs0dPJk7xHZlh-fK_9db3y8zebO4q35iMNOjRkST1w', 'R5u9wpx_sLESI5u9z-SRrRZ0BHy2Th_oodUUFuXS_W30SjMhiOs09XHpFfDtGl53VZZDhunFl7AZzQ', '6Y21unxztMtp_QT_-UUl-3NMMDDxlKUc7ftp_J_PIgMHM6qFEt2uMpFzlJ7F3J9MhAUcCygP-wNsiw', '8LtExWLgRkTj86ZwDAY_yE7U96Ka7AZFYZpcxSnnE7cjk6CDtFs66_XA8Xa8xIdzzVG3ZaGr10FcYA', 'KSbr5m9EGmuboATqXDJVnSnzx26htrkshZCrR_4f0hzjN9Fl7ow9Pcg8Ap29kk0w-iYZaFo9jm5DpA', 'FFD6t2uRrHFpZ2k01Rf5dR9iDRjQzPVx3pphmK_epMMZEAMJw-zH_V1FcVv7p1BBdUcpYukfgmX3Ug', '9iXVpdw769zH6OyJdu512l5MZ8_gYtjGosZ8XzS2b-C0x9ol5qA2N13WoDx3K-sg1ht090kTijFh2Q', 'bzEIgXP3Ofhx_gPy0tX4cjo6Anx2KE2EiqY1Oj6O1tkZ5fU44i9Oml4jtuE3bvugXZPSOiawimrUMg', 'o9qM32q6MrjUM-odqaB1YOYkSUW1UDxFpR-ZpQuyzTIhlCVB2Rd8n5R_TrSPxkR1d18l4i1bkzNj-A']}, 'info': {'gameCreation': 1639432729000, 'gameDuration': 1273, 'gameEndTimestamp': 1639434065195, 'gameId': 5607828718, 'gameMode': 'CLASSIC', 'gameName': 'teambuilder-match-5607828718', 'gameStartTimestamp': 1639432792112, 'gameType': 'MATCHED_GAME', 'gameVersion': '11.24.413.2485', 'mapId': 11, 'participants': [{'assists': 0, 'baronKills': 0, 'bountyLevel': 0, 'champExperience': 7654, 'champLevel': 11, 'championId': 164, 'championName': 'Camille', 'championTransform': 0, 'consumablesPurchased': 2, 'damageDealtToBuildings': 1762, 'damageDealtToObjectives': 1762, 'damageDealtToTurrets': 1762, 'damageSelfMitigated': 12509, 'deaths': 5, 'detectorWardsPlaced': 0, 'doubleKills': 0, 'dragonKills': 0, 'firstBloodAssist': False, 'firstBloodKill': False, 'firstTowerAssist': False, 'firstTowerKill': False, 'gameEndedInEarlySurrender': False, 'gameEndedInSurrender': False, 'goldEarned': 7017, 'goldSpent': 6950, 'individualPosition': 'TOP', 'inhibitorKills': 0, 'inhibitorTakedowns': 0, 'inhibitorsLost': 1, 'item0': 1054, 'item1': 6632, 'item2': 3047, 'item3': 3077, 'item4': 1028, 'item5': 1028, 'item6': 3364, 'itemsPurchased': 15, 'killingSprees': 0, 'kills': 3, 'lane': 'TOP', 'largestCriticalStrike': 0, 'largestKillingSpree': 0, 'largestMultiKill': 1, 'longestTimeSpentLiving': 419, 'magicDamageDealt': 501, 'magicDamageDealtToChampions': 501, 'magicDamageTaken': 9058, 'neutralMinionsKilled': 2, 'nexusKills': 0, 'nexusLost': 1, 'nexusTakedowns': 0, 'objectivesStolen': 0, 'objectivesStolenAssists': 0, 'participantId': 1, 'pentaKills': 0, 'perks': {'statPerks': {'defense': 5002, 'flex': 5008, 'offense': 5008}, 'styles': [{'description': 'primaryStyle', 'selections': [{'perk': 8437, 'var1': 318, 'var2': 219, 'var3': 0}, {'perk': 8401, 'var1': 350, 'var2': 0, 'var3': 0}, {'perk': 8444, 'var1': 673, 'var2': 0, 'var3': 0}, {'perk': 8242, 'var1': 63, 'var2': 0, 'var3': 0}], 'style': 8400}, {'description': 'subStyle', 'selections': [{'perk': 8345, 'var1': 3, 'var2': 0, 'var3': 0}, {'perk': 8410, 'var1': 26, 'var2': 0, 'var3': 0}], 'style': 8300}]}, 'physicalDamageDealt': 39146, 'physicalDamageDealtToChampions': 5176, 'physicalDamageTaken': 9017, 'profileIcon': 29, 'puuid': 'L9W18wPyPK7xiAwcGsovIKEQBTihoEtTAzxptwzyZJlGzWAJ4RwrcdZkl8NxsRCzem_aQoa5UMvQag', 'quadraKills': 0, 'riotIdName': '', 'riotIdTagline': '', 'role': 'SOLO', 'sightWardsBoughtInGame': 0, 'spell1Casts': 116, 'spell2Casts': 28, 'spell3Casts': 57, 'spell4Casts': 5, 'summoner1Casts': 4, 'summoner1Id': 14, 'summoner2Casts': 2, 'summoner2Id': 12, 'summonerId': '6uqNI0v1FKWiviZC4eatRvRkcp0_kxphswRaQR9mHG078DGK', 'summonerLevel': 121, 'summonerName': 'zz why 3lue', 'teamEarlySurrendered': False, 'teamId': 100, 'teamPosition': 'TOP', 'timeCCingOthers': 9, 'timePlayed': 1273, 'totalDamageDealt': 49015, 'totalDamageDealtToChampions': 8108, 'totalDamageShieldedOnTeammates': 0, 'totalDamageTaken': 18408, 'totalHeal': 1574, 'totalHealsOnTeammates': 0, 'totalMinionsKilled': 110, 'totalTimeCCDealt': 91, 'totalTimeSpentDead': 149, 'totalUnitsHealed': 1, 'tripleKills': 0, 'trueDamageDealt': 9367, 'trueDamageDealtToChampions': 2430, 'trueDamageTaken': 332, 'turretKills': 0, 'turretTakedowns': 1, 'turretsLost': 8, 'unrealKills': 0, 'visionScore': 10, 'visionWardsBoughtInGame': 0, 'wardsKilled': 3, 'wardsPlaced': 3, 'win': False}, {'assists': 3, 'baronKills': 0, 'bountyLevel': 0, 'champExperience': 7355, 'champLevel': 11, 'championId': 104, 'championName': 'Graves', 'championTransform': 0, 'consumablesPurchased': 6, 'damageDealtToBuildings': 391, 'damageDealtToObjectives': 7707, 'damageDealtToTurrets': 391, 'damageSelfMitigated': 12673, 'deaths': 8, 'detectorWardsPlaced': 6, 'doubleKills': 0, 'dragonKills': 0, 'firstBloodAssist': False, 'firstBloodKill': False, 'firstTowerAssist': False, 'firstTowerKill': False, 'gameEndedInEarlySurrender': False, 'gameEndedInSurrender': False, 'goldEarned': 8379, 'goldSpent': 7300, 'individualPosition': 'JUNGLE', 'inhibitorKills': 0, 'inhibitorTakedowns': 0, 'inhibitorsLost': 1, 'item0': 2031, 'item1': 6673, 'item2': 3047, 'item3': 1036, 'item4': 1036, 'item5': 3035, 'item6': 3364, 'itemsPurchased': 22, 'killingSprees': 1, 'kills': 4, 'lane': 'JUNGLE', 'largestCriticalStrike': 997, 'largestKillingSpree': 2, 'largestMultiKill': 1, 'longestTimeSpentLiving': 482, 'magicDamageDealt': 6331, 'magicDamageDealtToChampions': 567, 'magicDamageTaken': 6510, 'neutralMinionsKilled': 93, 'nexusKills': 0, 'nexusLost': 1, 'nexusTakedowns': 0, 'objectivesStolen': 0, 'objectivesStolenAssists': 0, 'participantId': 2, 'pentaKills': 0, 'perks': {'statPerks': {'defense': 5002, 'flex': 5008, 'offense': 5005}, 'styles': [{'description': 'primaryStyle', 'selections': [{'perk': 8021, 'var1': 1381, 'var2': 899, 'var3': 0}, {'perk': 9111, 'var1': 185, 'var2': 140, 'var3': 0}, {'perk': 9104, 'var1': 13, 'var2': 10, 'var3': 0}, {'perk': 8014, 'var1': 150, 'var2': 0, 'var3': 0}], 'style': 8000}, {'description': 'subStyle', 'selections': [{'perk': 8304, 'var1': 9, 'var2': 4, 'var3': 5}, {'perk': 8347, 'var1': 0, 'var2': 0, 'var3': 0}], 'style': 8300}]}, 'physicalDamageDealt': 88333, 'physicalDamageDealtToChampions': 9272, 'physicalDamageTaken': 10355, 'profileIcon': 4862, 'puuid': '_v96klicNL8CLDy_uAhP31G56p8oLrpggYkODs0dPJk7xHZlh-fK_9db3y8zebO4q35iMNOjRkST1w', 'quadraKills': 0, 'riotIdName': '', 'riotIdTagline': '', 'role': 'NONE', 'sightWardsBoughtInGame': 0, 'spell1Casts': 64, 'spell2Casts': 27, 'spell3Casts': 25, 'spell4Casts': 7, 'summoner1Casts': 3, 'summoner1Id': 4, 'summoner2Casts': 12, 'summoner2Id': 11, 'summonerId': 'TxXIvalFAN2_-IrTPRvQdgbCm28k9AKWD8P4nWSohAOUYD7S', 'summonerLevel': 154, 'summonerName': 'SIUUUUUUUUUUU', 'teamEarlySurrendered': False, 'teamId': 100, 'teamPosition': 'JUNGLE', 'timeCCingOthers': 17, 'timePlayed': 1273, 'totalDamageDealt': 99688, 'totalDamageDealtToChampions': 10432, 'totalDamageShieldedOnTeammates': 0, 'totalDamageTaken': 17548, 'totalHeal': 2973, 'totalHealsOnTeammates': 0, 'totalMinionsKilled': 38, 'totalTimeCCDealt': 272, 'totalTimeSpentDead': 158, 'totalUnitsHealed': 1, 'tripleKills': 0, 'trueDamageDealt': 5024, 'trueDamageDealtToChampions': 593, 'trueDamageTaken': 682, 'turretKills': 1, 'turretTakedowns': 1, 'turretsLost': 8, 'unrealKills': 0, 'visionScore': 29, 'visionWardsBoughtInGame': 6, 'wardsKilled': 6, 'wardsPlaced': 8, 'win': False}, {'assists': 4, 'baronKills': 0, 'bountyLevel': 0, 'champExperience': 9118, 'champLevel': 12, 'championId': 4, 'championName': 'TwistedFate', 'championTransform': 0, 'consumablesPurchased': 5, 'damageDealtToBuildings': 190, 'damageDealtToObjectives': 2404, 'damageDealtToTurrets': 190, 'damageSelfMitigated': 7284, 'deaths': 10, 'detectorWardsPlaced': 1, 'doubleKills': 0, 'dragonKills': 0, 'firstBloodAssist': False, 'firstBloodKill': False, 'firstTowerAssist': False, 'firstTowerKill': False, 'gameEndedInEarlySurrender': False, 'gameEndedInSurrender': False, 'goldEarned': 7366, 'goldSpent': 7250, 'individualPosition': 'MIDDLE', 'inhibitorKills': 0, 'inhibitorTakedowns': 0, 'inhibitorsLost': 1, 'item0': 2033, 'item1': 6656, 'item2': 3158, 'item3': 1082, 'item4': 3094, 'item5': 0, 'item6': 3364, 'itemsPurchased': 19, 'killingSprees': 0, 'kills': 2, 'lane': 'MIDDLE', 'largestCriticalStrike': 147, 'largestKillingSpree': 0, 'largestMultiKill': 1, 'longestTimeSpentLiving': 207, 'magicDamageDealt': 58791, 'magicDamageDealtToChampions': 8459, 'magicDamageTaken': 8927, 'neutralMinionsKilled': 0, 'nexusKills': 0, 'nexusLost': 1, 'nexusTakedowns': 0, 'objectivesStolen': 0, 'objectivesStolenAssists': 0, 'participantId': 3, 'pentaKills': 0, 'perks': {'statPerks': {'defense': 5003, 'flex': 5008, 'offense': 5005}, 'styles': [{'description': 'primaryStyle', 'selections': [{'perk': 8360, 'var1': 8, 'var2': 0, 'var3': 0}, {'perk': 8313, 'var1': 0, 'var2': 0, 'var3': 0}, {'perk': 8316, 'var1': 2539, 'var2': 0, 'var3': 0}, {'perk': 8352, 'var1': 242, 'var2': 1587, 'var3': 1061}], 'style': 8300}, {'description': 'subStyle', 'selections': [{'perk': 8139, 'var1': 600, 'var2': 0, 'var3': 0}, {'perk': 8106, 'var1': 4, 'var2': 0, 'var3': 0}], 'style': 8100}]}, 'physicalDamageDealt': 11118, 'physicalDamageDealtToChampions': 1910, 'physicalDamageTaken': 8987, 'profileIcon': 4965, 'puuid': 'R5u9wpx_sLESI5u9z-SRrRZ0BHy2Th_oodUUFuXS_W30SjMhiOs09XHpFfDtGl53VZZDhunFl7AZzQ', 'quadraKills': 0, 'riotIdName': '', 'riotIdTagline': '', 'role': 'SOLO', 'sightWardsBoughtInGame': 0, 'spell1Casts': 63, 'spell2Casts': 108, 'spell3Casts': 20, 'spell4Casts': 8, 'summoner1Casts': 5, 'summoner1Id': 4, 'summoner2Casts': 7, 'summoner2Id': 12, 'summonerId': 'WTN9AvosG99h6Hc-rBg0wdj1d0dTC5A1HHFssyuvW_sP5RQ', 'summonerLevel': 354, 'summonerName': 'tibor', 'teamEarlySurrendered': False, 'teamId': 100, 'teamPosition': 'MIDDLE', 'timeCCingOthers': 23, 'timePlayed': 1273, 'totalDamageDealt': 71803, 'totalDamageDealtToChampions': 10540, 'totalDamageShieldedOnTeammates': 0, 'totalDamageTaken': 18734, 'totalHeal': 2484, 'totalHealsOnTeammates': 210, 'totalMinionsKilled': 129, 'totalTimeCCDealt': 120, 'totalTimeSpentDead': 251, 'totalUnitsHealed': 2, 'tripleKills': 0, 'trueDamageDealt': 1894, 'trueDamageDealtToChampions': 170, 'trueDamageTaken': 819, 'turretKills': 0, 'turretTakedowns': 0, 'turretsLost': 8, 'unrealKills': 0, 'visionScore': 15, 'visionWardsBoughtInGame': 3, 'wardsKilled': 5, 'wardsPlaced': 2, 'win': False}, {'assists': 2, 'baronKills': 0, 'bountyLevel': 0, 'champExperience': 6105, 'champLevel': 9, 'championId': 202, 'championName': 'Jhin', 'championTransform': 0, 'consumablesPurchased': 7, 'damageDealtToBuildings': 206, 'damageDealtToObjectives': 206, 'damageDealtToTurrets': 206, 'damageSelfMitigated': 6956, 'deaths': 8, 'detectorWardsPlaced': 3, 'doubleKills': 0, 'dragonKills': 0, 'firstBloodAssist': False, 'firstBloodKill': False, 'firstTowerAssist': False, 'firstTowerKill': False, 'gameEndedInEarlySurrender': False, 'gameEndedInSurrender': False, 'goldEarned': 6821, 'goldSpent': 6675, 'individualPosition': 'BOTTOM', 'inhibitorKills': 0, 'inhibitorTakedowns': 0, 'inhibitorsLost': 1, 'item0': 6671, 'item1': 2031, 'item2': 1036, 'item3': 1018, 'item4': 3047, 'item5': 1036, 'item6': 3340, 'itemsPurchased': 22, 'killingSprees': 0, 'kills': 1, 'lane': 'BOTTOM', 'largestCriticalStrike': 470, 'largestKillingSpree': 0, 'largestMultiKill': 1, 'longestTimeSpentLiving': 423, 'magicDamageDealt': 2664, 'magicDamageDealtToChampions': 699, 'magicDamageTaken': 7322, 'neutralMinionsKilled': 0, 'nexusKills': 0, 'nexusLost': 1, 'nexusTakedowns': 0, 'objectivesStolen': 0, 'objectivesStolenAssists': 0, 'participantId': 4, 'pentaKills': 0, 'perks': {'statPerks': {'defense': 5002, 'flex': 5008, 'offense': 5008}, 'styles': [{'description': 'primaryStyle', 'selections': [{'perk': 8021, 'var1': 629, 'var2': 454, 'var3': 0}, {'perk': 8009, 'var1': 529, 'var2': 0, 'var3': 0}, {'perk': 9103, 'var1': 0, 'var2': 0, 'var3': 0}, {'perk': 8017, 'var1': 315, 'var2': 0, 'var3': 0}], 'style': 8000}, {'description': 'subStyle', 'selections': [{'perk': 8345, 'var1': 3, 'var2': 0, 'var3': 0}, {'perk': 8352, 'var1': 155, 'var2': 1099, 'var3': 32}], 'style': 8300}]}, 'physicalDamageDealt': 62231, 'physicalDamageDealtToChampions': 5958, 'physicalDamageTaken': 7550, 'profileIcon': 2076, 'puuid': '6Y21unxztMtp_QT_-UUl-3NMMDDxlKUc7ftp_J_PIgMHM6qFEt2uMpFzlJ7F3J9MhAUcCygP-wNsiw', 'quadraKills': 0, 'riotIdName': '', 'riotIdTagline': '', 'role': 'CARRY', 'sightWardsBoughtInGame': 0, 'spell1Casts': 54, 'spell2Casts': 32, 'spell3Casts': 25, 'spell4Casts': 16, 'summoner1Casts': 3, 'summoner1Id': 4, 'summoner2Casts': 5, 'summoner2Id': 7, 'summonerId': 'uNc-IdbphyXwF_HsGfkZK5W_aBVmDKLfEpW0rOfof0OuGU6O', 'summonerLevel': 579, 'summonerName': 'TARGOU IS ENEMY', 'teamEarlySurrendered': False, 'teamId': 100, 'teamPosition': 'BOTTOM', 'timeCCingOthers': 8, 'timePlayed': 1273, 'totalDamageDealt': 68005, 'totalDamageDealtToChampions': 6711, 'totalDamageShieldedOnTeammates': 0, 'totalDamageTaken': 15532, 'totalHeal': 2627, 'totalHealsOnTeammates': 202, 'totalMinionsKilled': 138, 'totalTimeCCDealt': 69, 'totalTimeSpentDead': 168, 'totalUnitsHealed': 2, 'tripleKills': 0, 'trueDamageDealt': 3110, 'trueDamageDealtToChampions': 54, 'trueDamageTaken': 660, 'turretKills': 0, 'turretTakedowns': 0, 'turretsLost': 8, 'unrealKills': 0, 'visionScore': 11, 'visionWardsBoughtInGame': 3, 'wardsKilled': 2, 'wardsPlaced': 8, 'win': False}, {'assists': 4, 'baronKills': 0, 'bountyLevel': 0, 'champExperience': 5524, 'champLevel': 9, 'championId': 350, 'championName': 'Yuumi', 'championTransform': 0, 'consumablesPurchased': 1, 'damageDealtToBuildings': 0, 'damageDealtToObjectives': 0, 'damageDealtToTurrets': 0, 'damageSelfMitigated': 4157, 'deaths': 4, 'detectorWardsPlaced': 0, 'doubleKills': 0, 'dragonKills': 0, 'firstBloodAssist': False, 'firstBloodKill': False, 'firstTowerAssist': False, 'firstTowerKill': False, 'gameEndedInEarlySurrender': False, 'gameEndedInSurrender': False, 'goldEarned': 4701, 'goldSpent': 4250, 'individualPosition': 'UTILITY', 'inhibitorKills': 0, 'inhibitorTakedowns': 0, 'inhibitorsLost': 1, 'item0': 6617, 'item1': 4642, 'item2': 1082, 'item3': 3853, 'item4': 0, 'item5': 0, 'item6': 3364, 'itemsPurchased': 11, 'killingSprees': 0, 'kills': 1, 'lane': 'BOTTOM', 'largestCriticalStrike': 0, 'largestKillingSpree': 0, 'largestMultiKill': 1, 'longestTimeSpentLiving': 800, 'magicDamageDealt': 5320, 'magicDamageDealtToChampions': 4462, 'magicDamageTaken': 2292, 'neutralMinionsKilled': 4, 'nexusKills': 0, 'nexusLost': 1, 'nexusTakedowns': 0, 'objectivesStolen': 0, 'objectivesStolenAssists': 0, 'participantId': 5, 'pentaKills': 0, 'perks': {'statPerks': {'defense': 5002, 'flex': 5008, 'offense': 5008}, 'styles': [{'description': 'primaryStyle', 'selections': [{'perk': 8214, 'var1': 597, 'var2': 1112, 'var3': 0}, {'perk': 8226, 'var1': 250, 'var2': 316, 'var3': 0}, {'perk': 8210, 'var1': 0, 'var2': 0, 'var3': 0}, {'perk': 8236, 'var1': 24, 'var2': 0, 'var3': 0}], 'style': 8200}, {'description': 'subStyle', 'selections': [{'perk': 8009, 'var1': 956, 'var2': 0, 'var3': 0}, {'perk': 8017, 'var1': 363, 'var2': 0, 'var3': 0}], 'style': 8000}]}, 'physicalDamageDealt': 2465, 'physicalDamageDealtToChampions': 1121, 'physicalDamageTaken': 5211, 'profileIcon': 5130, 'puuid': '8LtExWLgRkTj86ZwDAY_yE7U96Ka7AZFYZpcxSnnE7cjk6CDtFs66_XA8Xa8xIdzzVG3ZaGr10FcYA', 'quadraKills': 0, 'riotIdName': '', 'riotIdTagline': '', 'role': 'SUPPORT', 'sightWardsBoughtInGame': 0, 'spell1Casts': 43, 'spell2Casts': 104, 'spell3Casts': 32, 'spell4Casts': 4, 'summoner1Casts': 5, 'summoner1Id': 14, 'summoner2Casts': 4, 'summoner2Id': 3, 'summonerId': 'n5RRh_oDkuCiK1Xc_oDtzpGvB6Oh_LKiZOuNjziKUk_uhiGb', 'summonerLevel': 462, 'summonerName': 'EthTirLoMalRal', 'teamEarlySurrendered': False, 'teamId': 100, 'teamPosition': 'UTILITY', 'timeCCingOthers': 14, 'timePlayed': 1273, 'totalDamageDealt': 8508, 'totalDamageDealtToChampions': 6305, 'totalDamageShieldedOnTeammates': 2214, 'totalDamageTaken': 7899, 'totalHeal': 6406, 'totalHealsOnTeammates': 5822, 'totalMinionsKilled': 2, 'totalTimeCCDealt': 40, 'totalTimeSpentDead': 104, 'totalUnitsHealed': 5, 'tripleKills': 0, 'trueDamageDealt': 722, 'trueDamageDealtToChampions': 722, 'trueDamageTaken': 394, 'turretKills': 0, 'turretTakedowns': 0, 'turretsLost': 8, 'unrealKills': 0, 'visionScore': 25, 'visionWardsBoughtInGame': 0, 'wardsKilled': 1, 'wardsPlaced': 16, 'win': False}, {'assists': 4, 'baronKills': 0, 'bountyLevel': 4, 'champExperience': 9432, 'champLevel': 12, 'championId': 126, 'championName': 'Jayce', 'championTransform': 0, 'consumablesPurchased': 3, 'damageDealtToBuildings': 5522, 'damageDealtToObjectives': 7754, 'damageDealtToTurrets': 5522, 'damageSelfMitigated': 6321, 'deaths': 3, 'detectorWardsPlaced': 2, 'doubleKills': 1, 'dragonKills': 0, 'firstBloodAssist': False, 'firstBloodKill': False, 'firstTowerAssist': False, 'firstTowerKill': False, 'gameEndedInEarlySurrender': False, 'gameEndedInSurrender': False, 'goldEarned': 9511, 'goldSpent': 8675, 'individualPosition': 'TOP', 'inhibitorKills': 0, 'inhibitorTakedowns': 1, 'inhibitorsLost': 0, 'item0': 6692, 'item1': 3004, 'item2': 3123, 'item3': 1036, 'item4': 1036, 'item5': 3111, 'item6': 3363, 'itemsPurchased': 22, 'killingSprees': 2, 'kills': 7, 'lane': 'TOP', 'largestCriticalStrike': 0, 'largestKillingSpree': 4, 'largestMultiKill': 2, 'longestTimeSpentLiving': 442, 'magicDamageDealt': 9490, 'magicDamageDealtToChampions': 2237, 'magicDamageTaken': 2461, 'neutralMinionsKilled': 16, 'nexusKills': 1, 'nexusLost': 0, 'nexusTakedowns': 1, 'objectivesStolen': 0, 'objectivesStolenAssists': 0, 'participantId': 6, 'pentaKills': 0, 'perks': {'statPerks': {'defense': 5002, 'flex': 5008, 'offense': 5008}, 'styles': [{'description': 'primaryStyle', 'selections': [{'perk': 8010, 'var1': 101, 'var2': 0, 'var3': 0}, {'perk': 8009, 'var1': 2243, 'var2': 0, 'var3': 0}, {'perk': 9104, 'var1': 17, 'var2': 10, 'var3': 0}, {'perk': 8299, 'var1': 462, 'var2': 0, 'var3': 0}], 'style': 8000}, {'description': 'subStyle', 'selections': [{'perk': 8304, 'var1': 10, 'var2': 3, 'var3': 0}, {'perk': 8345, 'var1': 3, 'var2': 0, 'var3': 0}], 'style': 8300}]}, 'physicalDamageDealt': 92474, 'physicalDamageDealtToChampions': 8840, 'physicalDamageTaken': 6952, 'profileIcon': 5092, 'puuid': 'KSbr5m9EGmuboATqXDJVnSnzx26htrkshZCrR_4f0hzjN9Fl7ow9Pcg8Ap29kk0w-iYZaFo9jm5DpA', 'quadraKills': 0, 'riotIdName': '', 'riotIdTagline': '', 'role': 'SOLO', 'sightWardsBoughtInGame': 0, 'spell1Casts': 82, 'spell2Casts': 61, 'spell3Casts': 58, 'spell4Casts': 76, 'summoner1Casts': 4, 'summoner1Id': 12, 'summoner2Casts': 3, 'summoner2Id': 4, 'summonerId': 'w8y1maVdnZzppJjXB-j9ong36neRtXPHQgT5jwi9sdDe-3c', 'summonerLevel': 498, 'summonerName': 'Gaëthan', 'teamEarlySurrendered': False, 'teamId': 200, 'teamPosition': 'TOP', 'timeCCingOthers': 5, 'timePlayed': 1273, 'totalDamageDealt': 101965, 'totalDamageDealtToChampions': 11077, 'totalDamageShieldedOnTeammates': 0, 'totalDamageTaken': 10493, 'totalHeal': 80, 'totalHealsOnTeammates': 0, 'totalMinionsKilled': 134, 'totalTimeCCDealt': 92, 'totalTimeSpentDead': 58, 'totalUnitsHealed': 1, 'tripleKills': 0, 'trueDamageDealt': 0, 'trueDamageDealtToChampions': 0, 'trueDamageTaken': 1080, 'turretKills': 3, 'turretTakedowns': 5, 'turretsLost': 1, 'unrealKills': 0, 'visionScore': 24, 'visionWardsBoughtInGame': 3, 'wardsKilled': 3, 'wardsPlaced': 8, 'win': True}, {'assists': 10, 'baronKills': 0, 'bountyLevel': 2, 'champExperience': 10572, 'champLevel': 13, 'championId': 120, 'championName': 'Hecarim', 'championTransform': 0, 'consumablesPurchased': 4, 'damageDealtToBuildings': 1906, 'damageDealtToObjectives': 12127, 'damageDealtToTurrets': 1906, 'damageSelfMitigated': 15426, 'deaths': 3, 'detectorWardsPlaced': 4, 'doubleKills': 1, 'dragonKills': 2, 'firstBloodAssist': False, 'firstBloodKill': True, 'firstTowerAssist': False, 'firstTowerKill': False, 'gameEndedInEarlySurrender': False, 'gameEndedInSurrender': False, 'goldEarned': 10282, 'goldSpent': 9133, 'individualPosition': 'JUNGLE', 'inhibitorKills': 0, 'inhibitorTakedowns': 1, 'inhibitorsLost': 0, 'item0': 3078, 'item1': 3047, 'item2': 0, 'item3': 1031, 'item4': 3053, 'item5': 0, 'item6': 3364, 'itemsPurchased': 17, 'killingSprees': 2, 'kills': 8, 'lane': 'JUNGLE', 'largestCriticalStrike': 0, 'largestKillingSpree': 5, 'largestMultiKill': 2, 'longestTimeSpentLiving': 736, 'magicDamageDealt': 11474, 'magicDamageDealtToChampions': 1083, 'magicDamageTaken': 4018, 'neutralMinionsKilled': 122, 'nexusKills': 0, 'nexusLost': 0, 'nexusTakedowns': 1, 'objectivesStolen': 0, 'objectivesStolenAssists': 0, 'participantId': 7, 'pentaKills': 0, 'perks': {'statPerks': {'defense': 5001, 'flex': 5008, 'offense': 5005}, 'styles': [{'description': 'primaryStyle', 'selections': [{'perk': 8010, 'var1': 366, 'var2': 0, 'var3': 0}, {'perk': 9111, 'var1': 1050, 'var2': 360, 'var3': 0}, {'perk': 9105, 'var1': 7, 'var2': 40, 'var3': 0}, {'perk': 8299, 'var1': 345, 'var2': 0, 'var3': 0}], 'style': 8000}, {'description': 'subStyle', 'selections': [{'perk': 8429, 'var1': 43, 'var2': 17, 'var3': 11}, {'perk': 8242, 'var1': 31, 'var2': 0, 'var3': 0}], 'style': 8400}]}, 'physicalDamageDealt': 100777, 'physicalDamageDealtToChampions': 9486, 'physicalDamageTaken': 17203, 'profileIcon': 4561, 'puuid': 'FFD6t2uRrHFpZ2k01Rf5dR9iDRjQzPVx3pphmK_epMMZEAMJw-zH_V1FcVv7p1BBdUcpYukfgmX3Ug', 'quadraKills': 0, 'riotIdName': '', 'riotIdTagline': '', 'role': 'NONE', 'sightWardsBoughtInGame': 0, 'spell1Casts': 186, 'spell2Casts': 33, 'spell3Casts': 38, 'spell4Casts': 6, 'summoner1Casts': 5, 'summoner1Id': 6, 'summoner2Casts': 12, 'summoner2Id': 11, 'summonerId': '4FUIEnP4iu2E1G7YFL6rKUHLk1qyMNMNMweL9-IiJoqlnXg', 'summonerLevel': 272, 'summonerName': 'kanaaa', 'teamEarlySurrendered': False, 'teamId': 200, 'teamPosition': 'JUNGLE', 'timeCCingOthers': 13, 'timePlayed': 1273, 'totalDamageDealt': 120735, 'totalDamageDealtToChampions': 11120, 'totalDamageShieldedOnTeammates': 0, 'totalDamageTaken': 22445, 'totalHeal': 10555, 'totalHealsOnTeammates': 0, 'totalMinionsKilled': 12, 'totalTimeCCDealt': 229, 'totalTimeSpentDead': 79, 'totalUnitsHealed': 1, 'tripleKills': 0, 'trueDamageDealt': 8483, 'trueDamageDealtToChampions': 550, 'trueDamageTaken': 1223, 'turretKills': 1, 'turretTakedowns': 3, 'turretsLost': 1, 'unrealKills': 0, 'visionScore': 22, 'visionWardsBoughtInGame': 4, 'wardsKilled': 1, 'wardsPlaced': 5, 'win': True}, {'assists': 14, 'baronKills': 0, 'bountyLevel': 5, 'champExperience': 11102, 'champLevel': 13, 'championId': 69, 'championName': 'Cassiopeia', 'championTransform': 0, 'consumablesPurchased': 7, 'damageDealtToBuildings': 490, 'damageDealtToObjectives': 5767, 'damageDealtToTurrets': 490, 'damageSelfMitigated': 6180, 'deaths': 2, 'detectorWardsPlaced': 5, 'doubleKills': 1, 'dragonKills': 0, 'firstBloodAssist': True, 'firstBloodKill': False, 'firstTowerAssist': False, 'firstTowerKill': False, 'gameEndedInEarlySurrender': False, 'gameEndedInSurrender': False, 'goldEarned': 10120, 'goldSpent': 8425, 'individualPosition': 'MIDDLE', 'inhibitorKills': 0, 'inhibitorTakedowns': 0, 'inhibitorsLost': 0, 'item0': 2033, 'item1': 6656, 'item2': 3040, 'item3': 3108, 'item4': 1056, 'item5': 3113, 'item6': 3363, 'itemsPurchased': 25, 'killingSprees': 2, 'kills': 8, 'lane': 'MIDDLE', 'largestCriticalStrike': 0, 'largestKillingSpree': 5, 'largestMultiKill': 2, 'longestTimeSpentLiving': 220, 'magicDamageDealt': 91988, 'magicDamageDealtToChampions': 19077, 'magicDamageTaken': 4526, 'neutralMinionsKilled': 8, 'nexusKills': 0, 'nexusLost': 0, 'nexusTakedowns': 0, 'objectivesStolen': 0, 'objectivesStolenAssists': 0, 'participantId': 8, 'pentaKills': 0, 'perks': {'statPerks': {'defense': 5001, 'flex': 5008, 'offense': 5007}, 'styles': [{'description': 'primaryStyle', 'selections': [{'perk': 8010, 'var1': 599, 'var2': 0, 'var3': 0}, {'perk': 8009, 'var1': 6126, 'var2': 0, 'var3': 0}, {'perk': 9105, 'var1': 12, 'var2': 0, 'var3': 0}, {'perk': 8299, 'var1': 715, 'var2': 0, 'var3': 0}], 'style': 8000}, {'description': 'subStyle', 'selections': [{'perk': 8345, 'var1': 3, 'var2': 0, 'var3': 0}, {'perk': 8352, 'var1': 319, 'var2': 1252, 'var3': 828}], 'style': 8300}]}, 'physicalDamageDealt': 6864, 'physicalDamageDealtToChampions': 1046, 'physicalDamageTaken': 11191, 'profileIcon': 4990, 'puuid': '9iXVpdw769zH6OyJdu512l5MZ8_gYtjGosZ8XzS2b-C0x9ol5qA2N13WoDx3K-sg1ht090kTijFh2Q', 'quadraKills': 0, 'riotIdName': '', 'riotIdTagline': '', 'role': 'DUO', 'sightWardsBoughtInGame': 0, 'spell1Casts': 117, 'spell2Casts': 24, 'spell3Casts': 390, 'spell4Casts': 6, 'summoner1Casts': 3, 'summoner1Id': 4, 'summoner2Casts': 2, 'summoner2Id': 12, 'summonerId': 'b2c6rGfPpVJQo3qtDPJPuodJDmJQ0GZCH_Zi_SIS1EhPGx0g', 'summonerLevel': 183, 'summonerName': 'Tempo Suta', 'teamEarlySurrendered': False, 'teamId': 200, 'teamPosition': 'MIDDLE', 'timeCCingOthers': 27, 'timePlayed': 1273, 'totalDamageDealt': 99232, 'totalDamageDealtToChampions': 20213, 'totalDamageShieldedOnTeammates': 0, 'totalDamageTaken': 16905, 'totalHeal': 5254, 'totalHealsOnTeammates': 0, 'totalMinionsKilled': 142, 'totalTimeCCDealt': 268, 'totalTimeSpentDead': 24, 'totalUnitsHealed': 1, 'tripleKills': 0, 'trueDamageDealt': 379, 'trueDamageDealtToChampions': 89, 'trueDamageTaken': 1187, 'turretKills': 0, 'turretTakedowns': 1, 'turretsLost': 1, 'unrealKills': 0, 'visionScore': 13, 'visionWardsBoughtInGame': 5, 'wardsKilled': 1, 'wardsPlaced': 8, 'win': True}, {'assists': 8, 'baronKills': 0, 'bountyLevel': 2, 'champExperience': 9611, 'champLevel': 12, 'championId': 18, 'championName': 'Tristana', 'championTransform': 0, 'consumablesPurchased': 3, 'damageDealtToBuildings': 14205, 'damageDealtToObjectives': 14205, 'damageDealtToTurrets': 14205, 'damageSelfMitigated': 5660, 'deaths': 3, 'detectorWardsPlaced': 2, 'doubleKills': 2, 'dragonKills': 0, 'firstBloodAssist': True, 'firstBloodKill': False, 'firstTowerAssist': False, 'firstTowerKill': True, 'gameEndedInEarlySurrender': False, 'gameEndedInSurrender': False, 'goldEarned': 12135, 'goldSpent': 10075, 'individualPosition': 'BOTTOM', 'inhibitorKills': 1, 'inhibitorTakedowns': 1, 'inhibitorsLost': 0, 'item0': 1055, 'item1': 6672, 'item2': 3046, 'item3': 3006, 'item4': 1038, 'item5': 1037, 'item6': 3363, 'itemsPurchased': 20, 'killingSprees': 3, 'kills': 10, 'lane': 'MIDDLE', 'largestCriticalStrike': 568, 'largestKillingSpree': 5, 'largestMultiKill': 2, 'longestTimeSpentLiving': 679, 'magicDamageDealt': 22373, 'magicDamageDealtToChampions': 1618, 'magicDamageTaken': 3600, 'neutralMinionsKilled': 12, 'nexusKills': 0, 'nexusLost': 0, 'nexusTakedowns': 1, 'objectivesStolen': 0, 'objectivesStolenAssists': 0, 'participantId': 9, 'pentaKills': 0, 'perks': {'statPerks': {'defense': 5002, 'flex': 5008, 'offense': 5005}, 'styles': [{'description': 'primaryStyle', 'selections': [{'perk': 9923, 'var1': 53, 'var2': 98, 'var3': 0}, {'perk': 8139, 'var1': 656, 'var2': 0, 'var3': 0}, {'perk': 8138, 'var1': 18, 'var2': 0, 'var3': 0}, {'perk': 8135, 'var1': 2654, 'var2': 5, 'var3': 0}], 'style': 8100}, {'description': 'subStyle', 'selections': [{'perk': 9111, 'var1': 814, 'var2': 360, 'var3': 0}, {'perk': 9104, 'var1': 12, 'var2': 0, 'var3': 0}], 'style': 8000}]}, 'physicalDamageDealt': 98605, 'physicalDamageDealtToChampions': 13453, 'physicalDamageTaken': 9043, 'profileIcon': 5093, 'puuid': 'bzEIgXP3Ofhx_gPy0tX4cjo6Anx2KE2EiqY1Oj6O1tkZ5fU44i9Oml4jtuE3bvugXZPSOiawimrUMg', 'quadraKills': 0, 'riotIdName': '', 'riotIdTagline': '', 'role': 'DUO', 'sightWardsBoughtInGame': 0, 'spell1Casts': 37, 'spell2Casts': 36, 'spell3Casts': 27, 'spell4Casts': 6, 'summoner1Casts': 4, 'summoner1Id': 7, 'summoner2Casts': 2, 'summoner2Id': 4, 'summonerId': 'M21Kjw1f_ua7cP6UC1GewV90aCcYkZKclgkSqmVnhycTOSw', 'summonerLevel': 750, 'summonerName': 'hi im keduii', 'teamEarlySurrendered': False, 'teamId': 200, 'teamPosition': 'BOTTOM', 'timeCCingOthers': 4, 'timePlayed': 1273, 'totalDamageDealt': 127290, 'totalDamageDealtToChampions': 16763, 'totalDamageShieldedOnTeammates': 0, 'totalDamageTaken': 13027, 'totalHeal': 2627, 'totalHealsOnTeammates': 606, 'totalMinionsKilled': 164, 'totalTimeCCDealt': 50, 'totalTimeSpentDead': 74, 'totalUnitsHealed': 3, 'tripleKills': 0, 'trueDamageDealt': 6311, 'trueDamageDealtToChampions': 1691, 'trueDamageTaken': 383, 'turretKills': 4, 'turretTakedowns': 6, 'turretsLost': 1, 'unrealKills': 0, 'visionScore': 17, 'visionWardsBoughtInGame': 2, 'wardsKilled': 4, 'wardsPlaced': 7, 'win': True}, {'assists': 21, 'baronKills': 0, 'bountyLevel': 1, 'champExperience': 8973, 'champLevel': 12, 'championId': 40, 'championName': 'Janna', 'championTransform': 0, 'consumablesPurchased': 5, 'damageDealtToBuildings': 1535, 'damageDealtToObjectives': 1535, 'damageDealtToTurrets': 1535, 'damageSelfMitigated': 5495, 'deaths': 1, 'detectorWardsPlaced': 2, 'doubleKills': 0, 'dragonKills': 0, 'firstBloodAssist': True, 'firstBloodKill': False, 'firstTowerAssist': True, 'firstTowerKill': False, 'gameEndedInEarlySurrender': False, 'gameEndedInSurrender': False, 'goldEarned': 8245, 'goldSpent': 7310, 'individualPosition': 'UTILITY', 'inhibitorKills': 0, 'inhibitorTakedowns': 0, 'inhibitorsLost': 0, 'item0': 3853, 'item1': 2065, 'item2': 1052, 'item3': 3158, 'item4': 3041, 'item5': 4642, 'item6': 3364, 'itemsPurchased': 19, 'killingSprees': 0, 'kills': 2, 'lane': 'BOTTOM', 'largestCriticalStrike': 0, 'largestKillingSpree': 0, 'largestMultiKill': 1, 'longestTimeSpentLiving': 469, 'magicDamageDealt': 25634, 'magicDamageDealtToChampions': 9308, 'magicDamageTaken': 1901, 'neutralMinionsKilled': 0, 'nexusKills': 0, 'nexusLost': 0, 'nexusTakedowns': 0, 'objectivesStolen': 0, 'objectivesStolenAssists': 0, 'participantId': 10, 'pentaKills': 0, 'perks': {'statPerks': {'defense': 5002, 'flex': 5008, 'offense': 5008}, 'styles': [{'description': 'primaryStyle', 'selections': [{'perk': 8229, 'var1': 1270, 'var2': 0, 'var3': 0}, {'perk': 8226, 'var1': 250, 'var2': 609, 'var3': 0}, {'perk': 8234, 'var1': 11498, 'var2': 0, 'var3': 0}, {'perk': 8237, 'var1': 407, 'var2': 0, 'var3': 0}], 'style': 8200}, {'description': 'subStyle', 'selections': [{'perk': 8139, 'var1': 770, 'var2': 0, 'var3': 0}, {'perk': 8105, 'var1': 14, 'var2': 5, 'var3': 0}], 'style': 8100}]}, 'physicalDamageDealt': 4185, 'physicalDamageDealtToChampions': 1614, 'physicalDamageTaken': 7938, 'profileIcon': 4900, 'puuid': 'o9qM32q6MrjUM-odqaB1YOYkSUW1UDxFpR-ZpQuyzTIhlCVB2Rd8n5R_TrSPxkR1d18l4i1bkzNj-A', 'quadraKills': 0, 'riotIdName': '', 'riotIdTagline': '', 'role': 'SOLO', 'sightWardsBoughtInGame': 0, 'spell1Casts': 83, 'spell2Casts': 46, 'spell3Casts': 46, 'spell4Casts': 4, 'summoner1Casts': 3, 'summoner1Id': 4, 'summoner2Casts': 4, 'summoner2Id': 14, 'summonerId': 'RSPcDiL9S-wQ3QKSW4wsXvihX7ZEmME-wSpJdtXY9_-WIGk', 'summonerLevel': 1022, 'summonerName': 'KC Rekkles', 'teamEarlySurrendered': False, 'teamId': 200, 'teamPosition': 'UTILITY', 'timeCCingOthers': 34, 'timePlayed': 1273, 'totalDamageDealt': 34252, 'totalDamageDealtToChampions': 11481, 'totalDamageShieldedOnTeammates': 3435, 'totalDamageTaken': 9933, 'totalHeal': 3991, 'totalHealsOnTeammates': 2576, 'totalMinionsKilled': 21, 'totalTimeCCDealt': 178, 'totalTimeSpentDead': 14, 'totalUnitsHealed': 5, 'tripleKills': 0, 'trueDamageDealt': 4433, 'trueDamageDealtToChampions': 558, 'trueDamageTaken': 94, 'turretKills': 0, 'turretTakedowns': 4, 'turretsLost': 1, 'unrealKills': 0, 'visionScore': 44, 'visionWardsBoughtInGame': 3, 'wardsKilled': 6, 'wardsPlaced': 19, 'win': True}], 'platformId': 'EUW1', 'queueId': 420, 'teams': [{'bans': [{'championId': 39, 'pickTurn': 1}, {'championId': 55, 'pickTurn': 2}, {'championId': 91, 'pickTurn': 3}, {'championId': 166, 'pickTurn': 4}, {'championId': 141, 'pickTurn': 5}], 'objectives': {'baron': {'first': False, 'kills': 0}, 'champion': {'first': False, 'kills': 12}, 'dragon': {'first': False, 'kills': 0}, 'inhibitor': {'first': False, 'kills': 0}, 'riftHerald': {'first': True, 'kills': 1}, 'tower': {'first': False, 'kills': 1}}, 'teamId': 100, 'win': False}, {'bans': [{'championId': 91, 'pickTurn': 6}, {'championId': 246, 'pickTurn': 7}, {'championId': -1, 'pickTurn': 8}, {'championId': 38, 'pickTurn': 9}, {'championId': 30, 'pickTurn': 10}], 'objectives': {'baron': {'first': False, 'kills': 0}, 'champion': {'first': True, 'kills': 35}, 'dragon': {'first': True, 'kills': 2}, 'inhibitor': {'first': True, 'kills': 1}, 'riftHerald': {'first': False, 'kills': 0}, 'tower': {'first': True, 'kills': 8}}, 'teamId': 200, 'win': True}], 'tournamentCode': ''}}\n"
     ]
    }
   ],
   "source": []
  },
  {
   "cell_type": "code",
   "execution_count": null,
   "id": "464c0661",
   "metadata": {},
   "outputs": [],
   "source": []
  },
  {
   "cell_type": "code",
   "execution_count": null,
   "id": "8cd3bfa2",
   "metadata": {},
   "outputs": [],
   "source": []
  },
  {
   "cell_type": "code",
   "execution_count": null,
   "id": "1cd5e3de",
   "metadata": {},
   "outputs": [],
   "source": []
  }
 ],
 "metadata": {
  "kernelspec": {
   "display_name": "Python 3 (ipykernel)",
   "language": "python",
   "name": "python3"
  },
  "language_info": {
   "codemirror_mode": {
    "name": "ipython",
    "version": 3
   },
   "file_extension": ".py",
   "mimetype": "text/x-python",
   "name": "python",
   "nbconvert_exporter": "python",
   "pygments_lexer": "ipython3",
   "version": "3.9.7"
  }
 },
 "nbformat": 4,
 "nbformat_minor": 5
}
