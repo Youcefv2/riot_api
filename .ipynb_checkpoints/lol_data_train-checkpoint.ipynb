{
 "cells": [
  {
   "cell_type": "code",
   "execution_count": null,
   "id": "8dc76555",
   "metadata": {},
   "outputs": [],
   "source": [
    "import requests, json, time\n",
    "# variables \n",
    "# patch note\n",
    "Patch = \"11.24.1\"\n",
    "# minimum games played for a champ win rate \n",
    "MinimumGamesPlayed = 100\n",
    "# specify champ name to get most buy items\n",
    "Champion = \"Renekton\"\n",
    "# objectiv you wanna win rate when took first\n",
    "Obj = \"inhibitor\"\n",
    "# did they win the game ?\n",
    "GameWin = True\n",
    "# did they took it first ?\n",
    "FirstObj = True"
   ]
  },
  {
   "cell_type": "markdown",
   "id": "0067adea",
   "metadata": {},
   "source": []
  },
  {
   "cell_type": "code",
   "execution_count": 29,
   "id": "9bc01fb5",
   "metadata": {
    "scrolled": true
   },
   "outputs": [],
   "source": [
    "# Recupere la list des chall\n",
    "api_key = \"\"\n",
    "GetChallPlayers = \"https://euw1.api.riotgames.com/lol/league/v4/challengerleagues/by-queue/RANKED_SOLO_5x5\"+ \"?api_key=\" + api_key\n",
    "response1 = requests.get(GetChallPlayers).json()"
   ]
  },
  {
   "cell_type": "code",
   "execution_count": 12,
   "id": "66c388c6",
   "metadata": {
    "scrolled": true
   },
   "outputs": [
    {
     "name": "stdout",
     "output_type": "stream",
     "text": [
      "11 : 50 : 45\n",
      "end\n",
      "12 : 01 : 22\n",
      "12 : 01 : 22\n",
      "end\n",
      "12 : 11 : 59\n",
      "2508\n",
      "1672\n",
      "12 : 11 : 59\n",
      "end\n",
      "13 : 12 : 46\n"
     ]
    }
   ],
   "source": [
    "# recupere le puuid des chall\n",
    "print (time.strftime(\"%H : %M : %S\"))\n",
    "info = (response1['entries'])\n",
    "playersPuuid = []\n",
    "playersName = []\n",
    "for i in range(299):\n",
    "        GetPlayersPuuid = \"https://euw1.api.riotgames.com/lol/summoner/v4/summoners/\"+info[i]['summonerId']+ \"?api_key=\" + api_key\n",
    "        response2 = requests.get(GetPlayersPuuid).json()\n",
    "        playersPuuid.append(response2[\"puuid\"])\n",
    "        time.sleep(2)\n",
    "print(\"end\")\n",
    "print (time.strftime(\"%H : %M : %S\"))\n",
    "# recupere les 20 dernieres games de chaque joueur depuis une certaine date\n",
    "print (time.strftime(\"%H : %M : %S\"))\n",
    "PlayersGames = []\n",
    "date = \"1639029600\"\n",
    "for i in range(299):\n",
    "        GetPlayersGames = \"https://europe.api.riotgames.com/lol/match/v5/matches/by-puuid/\" + playersPuuid[i] + \"/ids?startTime=\" + date +\"&queue=420&type=ranked&start=0&count=20&api_key=\" + api_key\n",
    "        response2 = requests.get(GetPlayersGames).json()\n",
    "        PlayersGames = PlayersGames + response2\n",
    "        time.sleep(2)\n",
    "print(\"end\")\n",
    "print (time.strftime(\"%H : %M : %S\"))\n",
    "PlayersGames.sort()\n",
    "# verifie que la liste des games a ete trie\n",
    "print(len(PlayersGames))\n",
    "PlayersGames = list(set(PlayersGames))\n",
    "seen = set()\n",
    "result = []\n",
    "for item in PlayersGames:\n",
    "    if item not in seen:\n",
    "        seen.add(item)\n",
    "        result.append(item)\n",
    "print(len(result))\n",
    "# recupere les infos de chaque game\n",
    "print (time.strftime(\"%H : %M : %S\"))\n",
    "GamesInfo = []\n",
    "PlayersGamesRange = len(PlayersGames) - 1\n",
    "for i in range(PlayersGamesRange):\n",
    "    GetGamesInfo = \"https://europe.api.riotgames.com/lol/match/v5/matches/\" + PlayersGames[i] + \"?api_key=\" + api_key\n",
    "    response3 = requests.get(GetGamesInfo).json()\n",
    "    GamesInfo.append(response3)\n",
    "    time.sleep(2)\n",
    "print(\"end\")\n",
    "print (time.strftime(\"%H : %M : %S\"))\n"
   ]
  },
  {
   "cell_type": "code",
   "execution_count": 17,
   "id": "bf7db7e1",
   "metadata": {
    "scrolled": true
   },
   "outputs": [],
   "source": [
    "#nb de games par champions\n",
    "# recupere la liste des champions joue sur toutes les games dispo, et on tri par ordre alphabet\n",
    "from operator import itemgetter\n",
    "champsList = []\n",
    "count = len(GamesInfo) - 1\n",
    "for j in range (count):\n",
    "    for i in range (10):\n",
    "        champsList.append(GamesInfo[j][\"info\"][\"participants\"][i][\"championName\"])\n",
    "# compte le nombre d apparition d un champion\n",
    "ChampWinList = [[x,champsList.count(x)] for x in set(champsList)]\n",
    "ChampPickedCounter = [[x,champsList.count(x)] for x in set(champsList)]\n",
    "# pour trier par nb de games : , key=itemgetter(1), reverse=True\n",
    "ChampPickedCounter = sorted(ChampPickedCounter)\n",
    "ChampWinList = sorted(ChampWinList)\n",
    "#nb de loose par champions\n",
    "# recupere la liste des champions joue sur toutes les games dispo, et on tri par ordre alphabet\n",
    "from operator import itemgetter\n",
    "ChampLoseList = []\n",
    "count = len(GamesInfo) - 1\n",
    "for j in range (count):\n",
    "    for i in range (10):\n",
    "        if GamesInfo[j][\"info\"][\"participants\"][i][\"win\"] == False:\n",
    "            ChampLoseList.append(GamesInfo[j][\"info\"][\"participants\"][i][\"championName\"])\n",
    "# compte le nombre d apparition d un champion\n",
    "ChampLoseListCounter = [[x,ChampLoseList.count(x)] for x in set(ChampLoseList)]\n",
    "# pour trier par nb de games : , key=itemgetter(1), reverse=True\n",
    "ChampLoseListCounter = sorted(ChampLoseListCounter)\n",
    "#nb de games loose par champions\n",
    "import copy\n",
    "champWinRate = []\n",
    "countLose =  len(ChampLoseListCounter) - 1\n",
    "countPick = len(ChampPickedCounter) - 1\n",
    "# calcul du winrate d un champion \n",
    "for i in range (countPick):\n",
    "    for j in range (countLose):\n",
    "        if ChampWinList[i][0] == ChampLoseListCounter[j][0]:\n",
    "            ChampWinList[i][1] = ChampWinList[i][1] - ChampLoseListCounter[j][1]\n",
    "            winrate = round(ChampWinList[i][1] * 100 / ChampPickedCounter[i][1], 2)\n",
    "            if ChampPickedCounter[i][1] > MinimumGamesPlayed:\n",
    "                champWinRate.append([ChampWinList[i][0], winrate])\n",
    "champWinRate = sorted(champWinRate, key=lambda x: x[1], reverse=True)"
   ]
  },
  {
   "cell_type": "code",
   "execution_count": 18,
   "id": "badfebc6",
   "metadata": {},
   "outputs": [
    {
     "name": "stdout",
     "output_type": "stream",
     "text": [
      "------------Picks-----------------\n",
      "[['LeeSin', 556], ['Viego', 446], ['Jinx', 417], ['Jhin', 404], ['Lux', 364], ['Viktor', 363], ['Qiyana', 357], ['Kaisa', 353], ['Lulu', 336], ['Jayce', 318], ['Yone', 318], ['Caitlyn', 312], ['Akshan', 303], ['Ezreal', 285], ['Karma', 271], ['Zed', 271], ['Talon', 251], ['Thresh', 247], ['Vex', 245], ['Rakan', 244], ['Graves', 240], ['Akali', 235], ['Irelia', 231], ['Lucian', 224], ['Fiora', 218], ['Syndra', 217], ['Corki', 215], ['Yasuo', 203], ['Nami', 199], ['Sylas', 199], ['Nidalee', 197], ['Janna', 195], ['Leblanc', 186], ['Gragas', 179], ['Leona', 179], ['XinZhao', 174], ['Nautilus', 165], ['Pyke', 162], ['Ekko', 159], ['Draven', 156], ['Vayne', 150], ['Aphelios', 149], ['TwistedFate', 147], ['Kayn', 133], ['Camille', 122], ['Singed', 122], ['Twitch', 114], ['Zoe', 113], ['Sona', 112], ['Jax', 111], ['Bard', 108], ['Xerath', 103], ['Kassadin', 102], ['Ashe', 93], ['Hecarim', 93], ['Riven', 92], ['Blitzcrank', 90], ['Soraka', 89], ['Orianna', 87], ['Warwick', 87], ['Gwen', 86], ['Yuumi', 85], ['Tryndamere', 84], ['Renekton', 83], ['Gangplank', 80], ['Karthus', 80], ['Ryze', 80], ['Xayah', 80], ['Urgot', 77], ['Tristana', 75], ['Khazix', 74], ['Ornn', 71], ['Rell', 71], ['Ziggs', 71], ['Poppy', 69], ['Rengar', 69], ['Varus', 69], ['Pantheon', 68], ['Rumble', 67], ['Vladimir', 67], ['Zilean', 66], ['Sett', 65], ['Shen', 65], ['TahmKench', 65], ['Cassiopeia', 63], ['Sion', 61], ['Kayle', 58], ['Kennen', 56], ['KogMaw', 56], ['Trundle', 55], ['Darius', 54], ['Senna', 53], ['Shaco', 51], ['Aatrox', 49], ['JarvanIV', 49], ['Seraphine', 49], ['Alistar', 48], ['Galio', 48], ['Kindred', 48], ['Evelynn', 47], ['Morgana', 47], ['RekSai', 47], ['Fizz', 46], ['Teemo', 44], ['Braum', 43], ['MissFortune', 43], ['Samira', 41], ['Lillia', 40], ['Malphite', 40], ['Quinn', 40], ['Katarina', 39], ['Veigar', 39], ['Kalista', 37], ['Brand', 34], ['Sejuani', 34], ['Taric', 34], ['MasterYi', 30], ['Diana', 26], ['Taliyah', 26], ['MonkeyKing', 25], ['Nunu', 25], ['Chogath', 24], ['FiddleSticks', 24], ['Ivern', 23], ['Olaf', 23], ['Zac', 23], ['Annie', 21], ['Anivia', 19], ['Gnar', 19], ['Lissandra', 19], ['Azir', 18], ['DrMundo', 17], ['Nasus', 17], ['Neeko', 17], ['Sivir', 17], ['Elise', 15], ['Kled', 15], ['Malzahar', 15], ['Ahri', 14], ['Maokai', 14], ['Swain', 14], ['Udyr', 13], ['Velkoz', 13], ['Vi', 13], ['Volibear', 13], ['Nocturne', 12], ['Amumu', 9], ['Illaoi', 9], ['Zyra', 9], ['Heimerdinger', 8], ['Garen', 6], ['Shyvana', 6], ['Yorick', 6], ['Mordekaiser', 4], ['Rammus', 4], ['Skarner', 3], ['AurelionSol', 1]]\n",
      "-------------Win rate----------------\n",
      "[['Janna', 56.41], ['Xerath', 56.31], ['Vayne', 56.0], ['Leblanc', 55.91], ['TwistedFate', 55.78], ['Camille', 55.74], ['Lulu', 55.65], ['Vex', 55.1], ['Jax', 54.95], ['Thresh', 54.25], ['Graves', 54.17], ['Sona', 53.57], ['Jinx', 53.48], ['Rakan', 53.28], ['Qiyana', 52.94], ['Viktor', 52.89], ['Karma', 52.4], ['LeeSin', 52.34], ['Jhin', 51.98], ['Gragas', 51.96], ['Kassadin', 51.96], ['Kayn', 51.88], ['Sylas', 51.26], ['Fiora', 50.92], ['Viego', 50.9], ['Draven', 50.64], ['Yone', 50.63], ['XinZhao', 50.57], ['Zoe', 50.44], ['Twitch', 50.0], ['Syndra', 49.31], ['Yasuo', 49.26], ['Nami', 48.74], ['Lucian', 48.66], ['Nautilus', 48.48], ['Nidalee', 48.22], ['Talon', 48.21], ['Bard', 48.15], ['Ekko', 47.8], ['Singed', 47.54], ['Pyke', 47.53], ['Kaisa', 47.31], ['Akshan', 46.86], ['Akali', 46.81], ['Lux', 45.88], ['Caitlyn', 45.83], ['Jayce', 45.28], ['Leona', 45.25], ['Irelia', 45.02], ['Zed', 45.02], ['Aphelios', 44.97], ['Ezreal', 43.86], ['Corki', 39.07]]\n",
      "------------win nb-----------------\n",
      "[['Aatrox', 31], ['Ahri', 8], ['Akali', 110], ['Akshan', 142], ['Alistar', 25], ['Amumu', 4], ['Anivia', 13], ['Annie', 16], ['Aphelios', 67], ['Ashe', 45], ['AurelionSol', 0], ['Azir', 8], ['Bard', 52], ['Blitzcrank', 45], ['Brand', 13], ['Braum', 23], ['Caitlyn', 143], ['Camille', 68], ['Cassiopeia', 38], ['Chogath', 9], ['Corki', 84], ['Darius', 31], ['Diana', 12], ['DrMundo', 7], ['Draven', 79], ['Ekko', 76], ['Elise', 5], ['Evelynn', 20], ['Ezreal', 125], ['FiddleSticks', 16], ['Fiora', 111], ['Fizz', 20], ['Galio', 27], ['Gangplank', 43], ['Garen', 2], ['Gnar', 11], ['Gragas', 93], ['Graves', 130], ['Gwen', 42], ['Hecarim', 53], ['Heimerdinger', 5], ['Illaoi', 6], ['Irelia', 104], ['Ivern', 11], ['Janna', 110], ['JarvanIV', 29], ['Jax', 61], ['Jayce', 144], ['Jhin', 210], ['Jinx', 223], ['Kaisa', 167], ['Kalista', 18], ['Karma', 142], ['Karthus', 29], ['Kassadin', 53], ['Katarina', 17], ['Kayle', 28], ['Kayn', 69], ['Kennen', 22], ['Khazix', 44], ['Kindred', 23], ['Kled', 7], ['KogMaw', 32], ['Leblanc', 104], ['LeeSin', 291], ['Leona', 81], ['Lillia', 19], ['Lissandra', 7], ['Lucian', 109], ['Lulu', 187], ['Lux', 167], ['Malphite', 16], ['Malzahar', 9], ['Maokai', 8], ['MasterYi', 13], ['MissFortune', 22], ['MonkeyKing', 8], ['Mordekaiser', 2], ['Morgana', 26], ['Nami', 97], ['Nasus', 6], ['Nautilus', 80], ['Neeko', 11], ['Nidalee', 95], ['Nocturne', 3], ['Nunu', 10], ['Olaf', 10], ['Orianna', 41], ['Ornn', 36], ['Pantheon', 41], ['Poppy', 39], ['Pyke', 77], ['Qiyana', 189], ['Quinn', 23], ['Rakan', 130], ['Rammus', 1], ['RekSai', 32], ['Rell', 35], ['Renekton', 41], ['Rengar', 35], ['Riven', 45], ['Rumble', 33], ['Ryze', 34], ['Samira', 21], ['Sejuani', 15], ['Senna', 23], ['Seraphine', 25], ['Sett', 35], ['Shaco', 24], ['Shen', 38], ['Shyvana', 3], ['Singed', 58], ['Sion', 22], ['Sivir', 7], ['Skarner', 0], ['Sona', 60], ['Soraka', 38], ['Swain', 7], ['Sylas', 102], ['Syndra', 107], ['TahmKench', 36], ['Taliyah', 12], ['Talon', 121], ['Taric', 16], ['Teemo', 16], ['Thresh', 134], ['Tristana', 48], ['Trundle', 22], ['Tryndamere', 49], ['TwistedFate', 82], ['Twitch', 57], ['Udyr', 7], ['Urgot', 29], ['Varus', 30], ['Vayne', 84], ['Veigar', 25], ['Velkoz', 3], ['Vex', 135], ['Vi', 5], ['Viego', 227], ['Viktor', 192], ['Vladimir', 33], ['Volibear', 6], ['Warwick', 43], ['Xayah', 35], ['Xerath', 58], ['XinZhao', 88], ['Yasuo', 100], ['Yone', 161], ['Yorick', 4], ['Yuumi', 38], ['Zac', 12], ['Zed', 122], ['Ziggs', 32], ['Zilean', 29], ['Zoe', 57], ['Zyra', 9]]\n",
      "-------------lose nb----------------\n",
      "[['Aatrox', 18], ['Ahri', 6], ['Akali', 125], ['Akshan', 161], ['Alistar', 23], ['Amumu', 5], ['Anivia', 6], ['Annie', 5], ['Aphelios', 82], ['Ashe', 48], ['AurelionSol', 1], ['Azir', 10], ['Bard', 56], ['Blitzcrank', 45], ['Brand', 21], ['Braum', 20], ['Caitlyn', 169], ['Camille', 54], ['Cassiopeia', 25], ['Chogath', 15], ['Corki', 131], ['Darius', 23], ['Diana', 14], ['DrMundo', 10], ['Draven', 77], ['Ekko', 83], ['Elise', 10], ['Evelynn', 27], ['Ezreal', 160], ['FiddleSticks', 8], ['Fiora', 107], ['Fizz', 26], ['Galio', 21], ['Gangplank', 37], ['Garen', 4], ['Gnar', 8], ['Gragas', 86], ['Graves', 110], ['Gwen', 44], ['Hecarim', 40], ['Heimerdinger', 3], ['Illaoi', 3], ['Irelia', 127], ['Ivern', 12], ['Janna', 85], ['JarvanIV', 20], ['Jax', 50], ['Jayce', 174], ['Jhin', 194], ['Jinx', 194], ['Kaisa', 186], ['Kalista', 19], ['Karma', 129], ['Karthus', 51], ['Kassadin', 49], ['Katarina', 22], ['Kayle', 30], ['Kayn', 64], ['Kennen', 34], ['Khazix', 30], ['Kindred', 25], ['Kled', 8], ['KogMaw', 24], ['Leblanc', 82], ['LeeSin', 265], ['Leona', 98], ['Lillia', 21], ['Lissandra', 12], ['Lucian', 115], ['Lulu', 149], ['Lux', 197], ['Malphite', 24], ['Malzahar', 6], ['Maokai', 6], ['MasterYi', 17], ['MissFortune', 21], ['MonkeyKing', 17], ['Mordekaiser', 2], ['Morgana', 21], ['Nami', 102], ['Nasus', 11], ['Nautilus', 85], ['Neeko', 6], ['Nidalee', 102], ['Nocturne', 9], ['Nunu', 15], ['Olaf', 13], ['Orianna', 46], ['Ornn', 35], ['Pantheon', 27], ['Poppy', 30], ['Pyke', 85], ['Qiyana', 168], ['Quinn', 17], ['Rakan', 114], ['Rammus', 3], ['RekSai', 15], ['Rell', 36], ['Renekton', 42], ['Rengar', 34], ['Riven', 47], ['Rumble', 34], ['Ryze', 46], ['Samira', 20], ['Sejuani', 19], ['Senna', 30], ['Seraphine', 24], ['Sett', 30], ['Shaco', 27], ['Shen', 27], ['Shyvana', 3], ['Singed', 64], ['Sion', 39], ['Sivir', 10], ['Skarner', 3], ['Sona', 52], ['Soraka', 51], ['Swain', 7], ['Sylas', 97], ['Syndra', 110], ['TahmKench', 29], ['Taliyah', 14], ['Talon', 130], ['Taric', 18], ['Teemo', 28], ['Thresh', 113], ['Tristana', 27], ['Trundle', 33], ['Tryndamere', 35], ['TwistedFate', 65], ['Twitch', 57], ['Udyr', 6], ['Urgot', 48], ['Varus', 39], ['Vayne', 66], ['Veigar', 14], ['Velkoz', 10], ['Vex', 110], ['Vi', 8], ['Viego', 219], ['Viktor', 171], ['Vladimir', 34], ['Volibear', 7], ['Warwick', 44], ['Xayah', 45], ['Xerath', 45], ['XinZhao', 86], ['Yasuo', 103], ['Yone', 157], ['Yorick', 2], ['Yuumi', 47], ['Zac', 11], ['Zed', 149], ['Ziggs', 39], ['Zilean', 37], ['Zoe', 56], ['Zyra', 6]]\n"
     ]
    }
   ],
   "source": [
    "# on affiche toutes nos donnees\n",
    "\n",
    "print(\"------------Picks-----------------\")\n",
    "print(sorted(ChampPickedCounter, key=lambda x: x[1], reverse=True))\n",
    "print(\"-------------Win rate----------------\")\n",
    "print(champWinRate)\n",
    "print(\"------------win nb-----------------\")\n",
    "print(ChampWinList)\n",
    "print(\"-------------lose nb----------------\")\n",
    "print(ChampLoseListCounter)"
   ]
  },
  {
   "cell_type": "code",
   "execution_count": 30,
   "id": "7ae69a17",
   "metadata": {
    "scrolled": true
   },
   "outputs": [
    {
     "name": "stdout",
     "output_type": "stream",
     "text": [
      "[1054, 6693, 3153, 3047, 1036, 1036, 3053, 3047, 6630, 0, 3082, 0, 6631, 3748, 3047, 1054, 3076, 3211, 3123, 6630, 2421, 6333, 3053, 3111, 1054, 6630, 3053, 3111, 1037, 1029, 1055, 3053, 6630, 3047, 2420, 2055, 6630, 6333, 3053, 1055, 3211, 3111, 1054, 6630, 3047, 6333, 1036, 0, 3047, 6630, 3075, 3082, 1055, 1028, 6692, 0, 3075, 3071, 3153, 3047, 6630, 2055, 2031, 3053, 3047, 1054, 6630, 3053, 3105, 1033, 3047, 1036, 3047, 3153, 3075, 3065, 6630, 6333, 1055, 6630, 1001, 1036, 1029, 0, 1054, 3143, 6662, 3047, 3076, 1028, 3065, 6630, 2420, 3053, 3111, 6333, 6333, 2421, 6630, 1038, 3053, 3111, 6630, 3142, 3044, 3071, 1055, 3111, 3142, 6693, 1054, 3111, 3053, 1029, 3153, 6693, 3009, 3035, 1036, 1036, 1054, 2003, 0, 0, 0, 0, 6631, 6333, 1028, 3123, 1054, 3047, 6630, 1037, 3044, 6333, 3111, 1054, 3047, 6630, 3076, 3053, 6333, 1033, 6630, 3047, 2421, 3053, 1031, 0, 6630, 6333, 3026, 3047, 3053, 3134, 3153, 6693, 3111, 3035, 0, 0, 1054, 3111, 6630, 3044, 1037, 1028, 1055, 6630, 1037, 3123, 3047, 3044, 6630, 2031, 3181, 0, 0, 1055, 3053, 6333, 6630, 3047, 3026, 3065, 6630, 3193, 6333, 3026, 3047, 3053, 6630, 2055, 3053, 0, 0, 3111, 3047, 6630, 3053, 2421, 4401, 3026, 1055, 3047, 6029, 3067, 1036, 1042, 6333, 3044, 6630, 3111, 1037, 1028, 3053, 6630, 0, 0, 0, 3047, 1054, 3047, 6630, 3123, 3044, 1028, 6631, 3047, 3082, 3053, 1057, 0, 3053, 6630, 3065, 3047, 3026, 3071, 0, 3193, 6630, 3123, 3053, 3047, 1054, 0, 0, 0, 0, 0, 6630, 3748, 2055, 3047, 8020, 3053, 1055, 3053, 6630, 3133, 3047, 1031, 6630, 8001, 4401, 3053, 6333, 3047, 6630, 3026, 2055, 1036, 3053, 3047, 6630, 3053, 3193, 1054, 3047, 1028, 3065, 3143, 6693, 3111, 2421, 0, 3047, 3076, 6630, 3044, 1057, 1037, 6630, 3044, 1001, 1055, 2055, 0, 6693, 3053, 3134, 3047, 3153, 3133, 1028, 3047, 6630, 3044, 1055, 1055, 6631, 3111, 3065, 2055, 3053, 1038, 6630, 3053, 3047, 3123, 3133, 0, 6630, 3143, 3066, 1057, 3047, 3053, 3047, 6609, 6630, 1037, 1055, 3044, 1055, 6630, 3053, 3111, 3123, 0, 3053, 3026, 6630, 3123, 3067, 3047, 1054, 6631, 3053, 3123, 3047, 3133, 6630, 2031, 1055, 3047, 3044, 0, 1055, 6029, 2031, 3067, 3076, 1028, 6630, 3053, 3065, 3047, 3067, 3133, 1055, 6630, 1033, 3047, 3053, 1028, 1054, 6692, 3047, 3026, 3133, 3067, 3053, 6630, 1029, 3047, 1029, 1029, 6609, 1057, 6630, 3053, 3047, 1036, 3143, 3047, 6630, 3053, 3065, 0, 0, 3047, 6630, 3053, 1055, 3123, 1055, 6693, 3158, 0, 0, 0, 1055, 3047, 3153, 1036, 1036, 0, 1055, 6692, 3071, 3047, 6333, 1042, 1055, 6630, 3047, 3053, 6609, 3211, 6630, 3105, 3053, 3071, 3111, 1055, 6029, 3047, 1054, 3044, 2031, 1028, 6630, 6333, 3047, 0, 0, 3053, 3053, 1033, 6630, 3082, 3047, 3123, 3053, 6693, 2055, 3047, 1033, 3065, 3071, 6630, 3044, 1054, 3047, 0, 6630, 2421, 6609, 3047, 3053, 3211, 8001, 6631, 3047, 6333, 3110, 3044, 3047, 3053, 6630, 0, 3067, 1033, 1031, 3047, 6630, 3053, 3065, 3123, 3044, 2420, 6630, 3047, 1028, 2055]\n",
      "[['Goredrinker', 59], ['Plated Steelcaps', 59], [\"Sterak's Gage\", 47], ['null', 41], [\"Doran's Blade\", 23], [\"Doran's Shield\", 18], [\"Death's Dance\", 17], [\"Mercury's Treads\", 16], ['Phage', 15], ['Ruby Crystal', 12], ['Long Sword', 12], [\"Executioner's Calling\", 12], ['Spirit Visage', 10], ['Control Ward', 9], [\"Prowler's Claw\", 8], ['Guardian Angel', 8], ['Pickaxe', 7], ['Blade of The Ruined King', 7], ['Cloth Armor', 6], ['Null-Magic Mantle', 6], [\"Caulfield's Warhammer\", 6], ['Stridebreaker', 6], ['Broken Stopwatch', 6], ['Kindlegem', 6], ['Black Cleaver', 6], ['Bramble Vest', 5], ['Refillable Potion', 5], [\"Warden's Mail\", 4], [\"Spectre's Cowl\", 4], ['Negatron Cloak', 4], [\"Randuin's Omen\", 4], ['Chempunk Chainsword', 4], ['Thornmail', 3], ['Chain Vest', 3], ['Ironspike Whip', 3], ['Eclipse', 3], ['Gargoyle Stoneplate', 3], ['Stopwatch', 3], ['B. F. Sword', 2], ['Dagger', 2], ['Aegis of the Legion', 2], ['Titanic Hydra', 2], ['Force of Nature', 2], ['Serrated Dirk', 2], [\"Anathema's Chains\", 2], [\"Youmuu's Ghostblade\", 2], ['Last Whisper', 2], ['Boots', 2], ['Frostfire Gauntlet', 1], ['Frozen Heart', 1], ['Boots of Swiftness', 1], ['Health Potion', 1], ['Abyssal Mask', 1], ['Ionian Boots of Lucidity', 1], ['Hullbreaker', 1], ['Winged Moonplate', 1]]\n"
     ]
    }
   ],
   "source": [
    "# Calcul du nombre d'occurrences des items pour un champion donne\n",
    "ItemList = []\n",
    "WinOrNot = True\n",
    "for e in range(count):\n",
    "    for i in range(10):\n",
    "        for j in range(6):\n",
    "            if GamesInfo[e][\"info\"][\"participants\"][i][\"championName\"] == Champion:\n",
    "#                 est ce que c est une game win ou non (peut etre mis en commit)\n",
    "#                 if GamesInfo[e][\"info\"][\"participants\"][i][\"win\"] == TrueOrFalse:\n",
    "                    ItemList.append(GamesInfo[e][\"info\"][\"participants\"][i][\"item\" + str(j)])\n",
    "print(ItemList)\n",
    "ItemListcounter = [[x,ItemList.count(x)] for x in set(ItemList)]\n",
    "ItemListcounter = sorted(ItemListcounter, key=lambda x: x[1], reverse=True)\n",
    "\n",
    "# on change l'alias des items pour leur nom\n",
    "GetItemInfo = requests.get('https://ddragon.leagueoflegends.com/cdn/'+ Patch +'/data/en_US/item.json').json()\n",
    "for i in range(len(ItemListcounter)):\n",
    "    if ItemListcounter[i][0] != 0:\n",
    "        number = str(ItemListcounter[i][0])\n",
    "        ItemListcounter[i][0] = GetItemInfo[\"data\"][str(number)][\"name\"]\n",
    "    if ItemListcounter[i][0] == 0:\n",
    "        ItemListcounter[i][0] = \"null\"\n",
    "        \n",
    "print(ItemListcounter)"
   ]
  },
  {
   "cell_type": "code",
   "execution_count": 9,
   "id": "a02865cc",
   "metadata": {},
   "outputs": [
    {
     "name": "stdout",
     "output_type": "stream",
     "text": [
      "Winrate with inhibitor killed first 73.77\n"
     ]
    }
   ],
   "source": [
    "# calcul du winrate par rapport au premier objectif\n",
    "GamesFirstObjWin = 0\n",
    "for i in range(len(GamesInfo)):\n",
    "    for e in range(2):\n",
    "        if GamesInfo[i][\"info\"][\"teams\"][e][\"win\"] == GameWin and GamesInfo[i][\"info\"][\"teams\"][e][\"objectives\"][Obj][\"first\"] == FirstObj:\n",
    "            GamesFirstObjWin = GamesFirstObjWin + 1\n",
    "GamesFirstObjWinRate = GamesFirstObjWin * 100  / len(GamesInfo)\n",
    "GamesFirstObjWinRate = round(GamesFirstObjWinRate, 2)\n",
    "print(\"Winrate with\",Obj,\"killed first\",GamesFirstObjWinRate)"
   ]
  },
  {
   "cell_type": "code",
   "execution_count": 10,
   "id": "568f1549",
   "metadata": {},
   "outputs": [
    {
     "name": "stdout",
     "output_type": "stream",
     "text": [
      "Most banned champ : [['Talon', 1248], ['Akshan', 980], ['Yuumi', 878], ['Kassadin', 799], ['Qiyana', 646], ['Viktor', 623], ['Irelia', 614], ['Draven', 495], ['Yone', 486], ['Viego', 481], ['Jax', 466], ['Fiora', 427], ['Lulu', 416], ['LeeSin', 400], ['Leblanc', 386], ['Zed', 331], ['Tryndamere', 294], ['Vex', 291], ['Evelynn', 268], ['Katarina', 242], ['Jinx', 221], ['Camille', 171], ['Rengar', 163], ['Jayce', 146], ['Akali', 144], ['Thresh', 143], ['Karthus', 138], ['Lucian', 128], ['Bard', 124], ['Yasuo', 114], ['TwistedFate', 113], ['Lux', 100], ['Nami', 96], ['Nidalee', 92], ['Kayn', 91], ['Jhin', 88], ['Vayne', 79], ['Singed', 75], ['Nunu', 73], ['Kaisa', 73], ['Darius', 72], ['Sona', 71], ['Karma', 71], ['Hecarim', 70], ['TahmKench', 70], ['Khazix', 69], ['Corki', 66], ['Caitlyn', 62], ['Malphite', 61], ['Riven', 60], ['Leona', 59], ['XinZhao', 55], ['Janna', 51], ['Xerath', 49], ['Pyke', 48], ['Anivia', 46], ['Shaco', 46], ['Blitzcrank', 46], ['Zilean', 45], ['Sett', 45], ['Xayah', 43], ['Nautilus', 40], ['Graves', 38], ['Poppy', 36], ['Warwick', 30], ['Vladimir', 28], ['Nocturne', 26], ['Zoe', 26], ['Twitch', 25], ['Syndra', 25], ['Rakan', 25], ['Sylas', 24], ['Aphelios', 24], ['Kennen', 23], ['Ezreal', 22], ['MasterYi', 20], ['Teemo', 20], ['Gwen', 19], ['Soraka', 18], ['Renekton', 18], ['Shen', 17], ['Fiddlesticks', 16], ['Kindred', 15], ['Morgana', 14], ['RekSai', 14], ['Urgot', 13], ['Ekko', 12], ['Ivern', 12], ['Ziggs', 11], ['Trundle', 10], ['KogMaw', 10], ['Samira', 10], ['Kayle', 9], ['Annie', 8], ['Elise', 8], ['Udyr', 8], ['Pantheon', 8], ['Diana', 8], ['Sion', 7], ['Amumu', 7], ['Fizz', 7], ['Alistar', 6], ['Gragas', 6], ['Braum', 6], ['Aatrox', 6], ['Ornn', 5], ['Ashe', 5], ['Rammus', 5], ['Heimerdinger', 5], ['Cassiopeia', 4], ['Illaoi', 4], ['Kalista', 4], ['DrMundo', 3], ['Gangplank', 3], ['Brand', 3], ['Tristana', 2], ['Veigar', 2], ['MonkeyKing', 2], ['Ryze', 2], ['Mordekaiser', 2], ['Malzahar', 2], ['Quinn', 2], ['AurelionSol', 2], ['Taliyah', 2], ['Lillia', 2], ['Galio', 1], ['MissFortune', 1], ['Chogath', 1], ['Taric', 1], ['Neeko', 1], ['Maokai', 1], ['Orianna', 1], ['Rumble', 1], ['Nasus', 1], ['Yorick', 1], ['Garen', 1], ['Shyvana', 1], ['Ahri', 1], ['Varus', 1], ['Lissandra', 1], ['Zac', 1], ['Velkoz', 1], ['Senna', 1], ['Kled', 1], ['Vi', 1], ['Azir', 1]]\n"
     ]
    }
   ],
   "source": [
    "# creation d un dictionaire avec la key et le nom du champion\n",
    "bannedchamp = []\n",
    "GetChampName = requests.get('https://ddragon.leagueoflegends.com/cdn/'+ Patch +'/data/en_US/champion.json').json()\n",
    "ChampNameList = []\n",
    "for k in GetChampName[\"data\"]:\n",
    "    ChampNameList.append(k)\n",
    "ChampListKey = []\n",
    "for i in range(len(ChampNameList)):\n",
    "    ChampListKey.append([ChampNameList[i], GetChampName[\"data\"][ChampNameList[i]][\"key\"]])\n",
    "\n",
    "# calcul du nombre de ban d un champion\n",
    "for f in range(len(GamesInfo)):\n",
    "    for e in range(2):\n",
    "        for i in range(5):\n",
    "            if GamesInfo[f][\"info\"][\"teams\"][e][\"bans\"][i][\"championId\"] != -1:\n",
    "                bannedchamp.append(GamesInfo[f][\"info\"][\"teams\"][e][\"bans\"][i][\"championId\"])\n",
    "bannedchamp = [[x,bannedchamp.count(x)] for x in set(bannedchamp)]\n",
    "bannedchamp = sorted(bannedchamp, key=lambda x: x[1], reverse=True)\n",
    "\n",
    "# on change la key par le nom du champion\n",
    "for i in range(len(bannedchamp)):\n",
    "    for e in range(len(ChampListKey)):\n",
    "        if str(bannedchamp[i][0]) == ChampListKey[e][1]:\n",
    "            bannedchamp[i][0] = ChampListKey[e][0]\n",
    "print(\"Most banned champ :\", bannedchamp)"
   ]
  },
  {
   "cell_type": "code",
   "execution_count": 11,
   "id": "eae1ee15",
   "metadata": {},
   "outputs": [
    {
     "name": "stdout",
     "output_type": "stream",
     "text": [
      "Blue side win :  830\n",
      "Blue side lose :  817\n"
     ]
    }
   ],
   "source": [
    "WinBlueCount = 0\n",
    "\n",
    "LoseBlueCount = 0\n",
    "\n",
    "for i in range(len(GamesInfo)):\n",
    "    if GamesInfo[i][\"info\"][\"teams\"][0][\"win\"] == True:\n",
    "        WinBlueCount = WinBlueCount + 1\n",
    "    elif GamesInfo[i][\"info\"][\"teams\"][0][\"win\"] == False:\n",
    "        LoseBlueCount = LoseBlueCount + 1\n",
    "\n",
    "print(\"Blue side win : \",WinBlueCount)\n",
    "\n",
    "print(\"Blue side lose : \",LoseBlueCount)\n"
   ]
  },
  {
   "cell_type": "code",
   "execution_count": 12,
   "id": "012c7ac6",
   "metadata": {},
   "outputs": [],
   "source": [
    "#Average game time \n",
    "GameTime = []\n",
    "AverageTime = 0\n",
    "for i in range(len(GamesInfo)):\n",
    "    GameTime.append(GamesInfo[i][\"info\"][\"gameDuration\"])\n",
    "AverageTime = round(sum(GameTime) / len(GameTime), 2)\n",
    "AverageTimeInMinute = time.strftime(\"%M:%S\", time.localtime(AverageTime))\n",
    "\n",
    "# calcul du gain d exp et de gold des supports\n",
    "SupportGoldEarned = []\n",
    "SupportExp = []\n",
    "AverageSupportGold = 0\n",
    "AverageSupportExp = 0\n",
    "for i in range(len(GamesInfo)):\n",
    "    for e in range(10):\n",
    "        if GamesInfo[i][\"info\"][\"participants\"][e][\"role\"] == \"SUPPORT\":\n",
    "            SupportGoldEarned.append(GamesInfo[i][\"info\"][\"participants\"][e][\"goldEarned\"])\n",
    "AverageSupportGold = sum(SupportGoldEarned) / len(SupportGoldEarned)\n",
    "AverageSupportGold = round(AverageSupportGold, 2)\n",
    "AverageSupportGoldMin = round((AverageSupportGold / AverageTime) * 60, 2)\n",
    "\n",
    "for i in range(len(GamesInfo)):\n",
    "    for e in range(10):\n",
    "        if GamesInfo[i][\"info\"][\"participants\"][e][\"role\"] == \"SUPPORT\":\n",
    "            SupportExp.append(GamesInfo[i][\"info\"][\"participants\"][e][\"champExperience\"])\n",
    "AverageSupportExp = sum(SupportExp) / len(SupportExp)\n",
    "AverageSupportExp = round(AverageSupportExp, 2)\n",
    "AverageSupportExpMin = round((AverageSupportExp / AverageTime) * 60, 2)\n",
    "\n",
    "# calcul du gain d exp et de gold des jungler\n",
    "JunglerGoldEarned = []\n",
    "JunglerExp = []\n",
    "AverageJunglerExp = 0\n",
    "AverageJunglerGold = 0\n",
    "for i in range(len(GamesInfo)):\n",
    "    for e in range(10):\n",
    "        if GamesInfo[i][\"info\"][\"participants\"][e][\"individualPosition\"] == \"JUNGLE\":\n",
    "            JunglerGoldEarned.append(GamesInfo[i][\"info\"][\"participants\"][e][\"goldEarned\"])\n",
    "AverageJunglerGold = sum(JunglerGoldEarned) / len(JunglerGoldEarned)\n",
    "AverageJunglerGold = round(AverageJunglerGold, 2)\n",
    "AverageJunglerGoldMin = round((AverageJunglerGold / AverageTime) * 60, 2)\n",
    "\n",
    "for i in range(len(GamesInfo)):\n",
    "    for e in range(10):\n",
    "        if GamesInfo[i][\"info\"][\"participants\"][e][\"individualPosition\"] == \"JUNGLE\":\n",
    "            JunglerExp.append(GamesInfo[i][\"info\"][\"participants\"][e][\"champExperience\"])\n",
    "AverageJunglerExp = sum(JunglerExp) / len(JunglerExp)\n",
    "AverageJunglerExp = round(AverageJunglerExp, 2)\n",
    "AverageJunglerExpMin = round((AverageJunglerExp / AverageTime) * 60, 2)\n",
    "    \n",
    "# calcul du gain d exp et de gold des adc\n",
    "CarryGoldEarned = []\n",
    "CarryExp = []\n",
    "AverageCarryExp = 0\n",
    "AverageGoldExp = 0\n",
    "for i in range(len(GamesInfo)):\n",
    "    for e in range(10):\n",
    "        if GamesInfo[i][\"info\"][\"participants\"][e][\"role\"] == \"CARRY\":\n",
    "            CarryGoldEarned.append(GamesInfo[i][\"info\"][\"participants\"][e][\"goldEarned\"])\n",
    "AverageCarryGold = sum(CarryGoldEarned) / len(CarryGoldEarned)\n",
    "AverageCarryGold = round(AverageCarryGold, 2)\n",
    "AverageCarryGoldMin = round((AverageCarryGold / AverageTime) * 60, 2)\n",
    "\n",
    "for i in range(len(GamesInfo)):\n",
    "    for e in range(10):\n",
    "        if GamesInfo[i][\"info\"][\"participants\"][e][\"role\"] == \"CARRY\":\n",
    "            CarryExp.append(GamesInfo[i][\"info\"][\"participants\"][e][\"champExperience\"])\n",
    "AverageCarryExp = sum(CarryExp) / len(CarryExp)\n",
    "AverageCarryExp = round(AverageCarryExp, 2)\n",
    "AverageCarryExpMin = round((AverageCarryExp / AverageTime) * 60, 2)\n",
    "\n",
    "# calcul du gain d exp et de gold des mid\n",
    "MidGoldEarned = []\n",
    "MidExp = []\n",
    "AverageMidExp = 0\n",
    "AverageMidGold = 0\n",
    "for i in range(len(GamesInfo)):\n",
    "    for e in range(10):\n",
    "        if GamesInfo[i][\"info\"][\"participants\"][e][\"individualPosition\"] == \"MIDDLE\":\n",
    "            MidGoldEarned.append(GamesInfo[i][\"info\"][\"participants\"][e][\"goldEarned\"])\n",
    "AverageMidGold = sum(MidGoldEarned) / len(MidGoldEarned)\n",
    "AverageMidGold = round(AverageMidGold, 2)\n",
    "AverageMidGoldMin = round((AverageMidGold / AverageTime) * 60, 2)\n",
    "\n",
    "for i in range(len(GamesInfo)):\n",
    "    for e in range(10):\n",
    "        if GamesInfo[i][\"info\"][\"participants\"][e][\"individualPosition\"] == \"MIDDLE\":\n",
    "            MidExp.append(GamesInfo[i][\"info\"][\"participants\"][e][\"champExperience\"])\n",
    "AverageMidExp = sum(MidExp) / len(MidExp)\n",
    "AverageMidExp = round(AverageMidExp, 2)\n",
    "AverageMidExpMin = round((AverageMidExp / AverageTime) * 60, 2)\n",
    "\n",
    "# calcul du gain d exp et de gold des top\n",
    "TopGoldEarned = []\n",
    "TopExp = []\n",
    "AverageTopExp = 0\n",
    "AverageTopGold = 0\n",
    "for i in range(len(GamesInfo)):\n",
    "    for e in range(10):\n",
    "        if GamesInfo[i][\"info\"][\"participants\"][e][\"individualPosition\"] == \"TOP\":\n",
    "            TopGoldEarned.append(GamesInfo[i][\"info\"][\"participants\"][e][\"goldEarned\"])\n",
    "AverageTopGold = sum(TopGoldEarned) / len(TopGoldEarned)\n",
    "AverageTopGold = round(AverageTopGold, 2)\n",
    "AverageTopGoldMin = round((AverageTopGold / AverageTime) * 60, 2)\n",
    "\n",
    "for i in range(len(GamesInfo)):\n",
    "    for e in range(10):\n",
    "        if GamesInfo[i][\"info\"][\"participants\"][e][\"individualPosition\"] == \"TOP\":\n",
    "            TopExp.append(GamesInfo[i][\"info\"][\"participants\"][e][\"champExperience\"])\n",
    "AverageTopExp = sum(TopExp) / len(TopExp)\n",
    "AverageTopExp = round(AverageTopExp, 2)\n",
    "AverageTopExpMin = round((AverageTopExp / AverageTime) * 60, 2)"
   ]
  },
  {
   "cell_type": "code",
   "execution_count": 13,
   "id": "b293e366",
   "metadata": {},
   "outputs": [
    {
     "name": "stdout",
     "output_type": "stream",
     "text": [
      "427.37\n",
      "432.57\n",
      "435.58\n",
      "478.97\n",
      "291.15\n"
     ]
    }
   ],
   "source": [
    "print(AverageTopGoldMin)\n",
    "print(AverageJunglerGoldMin)\n",
    "print(AverageMidGoldMin)\n",
    "print(AverageCarryGoldMin)\n",
    "print(AverageSupportGoldMin)"
   ]
  },
  {
   "cell_type": "code",
   "execution_count": null,
   "id": "b9e8c07e",
   "metadata": {},
   "outputs": [],
   "source": []
  },
  {
   "cell_type": "code",
   "execution_count": null,
   "id": "464c0661",
   "metadata": {},
   "outputs": [],
   "source": []
  },
  {
   "cell_type": "code",
   "execution_count": null,
   "id": "8cd3bfa2",
   "metadata": {},
   "outputs": [],
   "source": []
  },
  {
   "cell_type": "code",
   "execution_count": null,
   "id": "1cd5e3de",
   "metadata": {},
   "outputs": [],
   "source": []
  }
 ],
 "metadata": {
  "kernelspec": {
   "display_name": "Python 3 (ipykernel)",
   "language": "python",
   "name": "python3"
  },
  "language_info": {
   "codemirror_mode": {
    "name": "ipython",
    "version": 3
   },
   "file_extension": ".py",
   "mimetype": "text/x-python",
   "name": "python",
   "nbconvert_exporter": "python",
   "pygments_lexer": "ipython3",
   "version": "3.9.7"
  }
 },
 "nbformat": 4,
 "nbformat_minor": 5
}
