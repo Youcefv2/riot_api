{
 "cells": [
  {
   "cell_type": "code",
   "execution_count": 34,
   "id": "8dc76555",
   "metadata": {},
   "outputs": [],
   "source": [
    "import requests\n",
    "import json\n",
    "import time\n",
    "import pandas\n",
    "from operator import itemgetter\n",
    "# variables \n",
    "# patch note\n",
    "Patch = \"12.1.1\"\n",
    "# minimum games played for a champ win rate \n",
    "MinimumGamesPlayed = 1\n",
    "# specify champ name to get most buy items\n",
    "Champion = \"Renekton\"\n",
    "# objectiv you wanna win rate when took first\n",
    "Obj = \"inhibitor\"\n",
    "# did they win the game ?\n",
    "GameWin = True\n",
    "# did they took it first ?\n",
    "FirstObj = True\n",
    "date = \"1641373200\"\n",
    " "
   ]
  },
  {
   "cell_type": "code",
   "execution_count": 12,
   "id": "9bc01fb5",
   "metadata": {
    "scrolled": true
   },
   "outputs": [],
   "source": [
    "# Recupere la list des chall\n",
    "api_key = \"\"\n",
    "GetChallPlayers = \"https://euw1.api.riotgames.com/lol/league/v4/challengerleagues/by-queue/RANKED_SOLO_5x5\" + \"?api_key=\" + api_key\n",
    "response1 = requests.get(GetChallPlayers).json()\n"
   ]
  },
  {
   "cell_type": "code",
   "execution_count": 13,
   "id": "66c388c6",
   "metadata": {
    "scrolled": true
   },
   "outputs": [
    {
     "name": "stdout",
     "output_type": "stream",
     "text": [
      "10 : 28 : 17\n",
      "end\n",
      "10 : 38 : 52\n",
      "10 : 38 : 52\n",
      "end\n",
      "10 : 49 : 27\n",
      "281\n",
      "135\n",
      "10 : 49 : 27\n",
      "end\n",
      "10 : 54 : 16\n"
     ]
    }
   ],
   "source": [
    "# recupere le puuid des chall\n",
    "print (time.strftime(\"%H : %M : %S\"))\n",
    "info = (response1['entries'])\n",
    "playersPuuid = []\n",
    "playersName = []\n",
    "for i in range(299):\n",
    "        GetPlayersPuuid = \"https://euw1.api.riotgames.com/lol/summoner/v4/summoners/\" + info[i]['summonerId'] + \"?api_key=\" + api_key\n",
    "        response2 = requests.get(GetPlayersPuuid).json()\n",
    "        playersPuuid.append(response2[\"puuid\"])\n",
    "        time.sleep(2)\n",
    "print(\"end\")\n",
    "print (time.strftime(\"%H : %M : %S\"))\n",
    "# recupere les 20 last games de chaque joueur depuis une certaine date\n",
    "print (time.strftime(\"%H : %M : %S\"))\n",
    "PlayersGames = []\n",
    "for i in range(299):\n",
    "        GetPlayersGames = \"https://europe.api.riotgames.com/lol/match/v5/matches/by-puuid/\" + playersPuuid[i] + \"/ids?startTime=\" + date + \"&queue=420&type=ranked&start=0&count=20&api_key=\" + api_key\n",
    "        response2 = requests.get(GetPlayersGames).json()\n",
    "        PlayersGames = PlayersGames + response2\n",
    "        time.sleep(2)\n",
    "print(\"end\")\n",
    "print (time.strftime(\"%H : %M : %S\"))\n",
    "PlayersGames.sort()\n",
    "# verifie que la liste des games a ete trie\n",
    "print(len(PlayersGames))\n",
    "PlayersGames = list(set(PlayersGames))\n",
    "seen = set()\n",
    "result = []\n",
    "for item in PlayersGames:\n",
    "    if item not in seen:\n",
    "        seen.add(item)\n",
    "        result.append(item)\n",
    "print(len(result))\n",
    "# recupere les infos de chaque game\n",
    "print (time.strftime(\"%H : %M : %S\"))\n",
    "GamesInfo = []\n",
    "PlayersGamesRange = len(PlayersGames) - 1\n",
    "for i in range(PlayersGamesRange):\n",
    "    GetGamesInfo = \"https://europe.api.riotgames.com/lol/match/v5/matches/\" + PlayersGames[i] + \"?api_key=\" + api_key\n",
    "    response3 = requests.get(GetGamesInfo).json()\n",
    "    GamesInfo.append(response3)\n",
    "    time.sleep(2)\n",
    "print(\"end\")\n",
    "print (time.strftime(\"%H : %M : %S\"))\n"
   ]
  },
  {
   "cell_type": "code",
   "execution_count": 35,
   "id": "bf7db7e1",
   "metadata": {
    "scrolled": true
   },
   "outputs": [],
   "source": [
    "# nb de games par champions\n",
    "# recupere la liste des champions joue sur toutes les games dispo, et on tri par ordre alphabet\n",
    "from operator import itemgetter\n",
    "champsList = []\n",
    "count = len(GamesInfo) - 1\n",
    "for j in range(count):\n",
    "    for i in range(10):\n",
    "        champsList.append(GamesInfo[j][\"info\"][\"participants\"][i][\"championName\"])\n",
    "# compte le nombre d apparition d un champion\n",
    "ChampWinList = [[x, champsList.count(x)] for x in set(champsList)]\n",
    "ChampPickedCounter = [[x, champsList.count(x)] for x in set(champsList)]\n",
    "# pour trier par nb de games : , key = itemgetter(1), reverse = True\n",
    "ChampPickedCounter = sorted(ChampPickedCounter)\n",
    "ChampWinList = sorted(ChampWinList)\n",
    "# nb de loose par champions\n",
    "# recupere la liste des champions joue sur toutes les games dispo, et on tri par ordre alphabet\n",
    "ChampLoseList = []\n",
    "count = len(GamesInfo) - 1\n",
    "for j in range(count):\n",
    "    for i in range(10):\n",
    "        if GamesInfo[j][\"info\"][\"participants\"][i][\"win\"] is False:\n",
    "            ChampLoseList.append(GamesInfo[j][\"info\"][\"participants\"][i][\"championName\"])\n",
    "# compte le nombre d apparition d un champion\n",
    "ChampLoseListCounter = [[x, ChampLoseList.count(x)] for x in set(ChampLoseList)]\n",
    "# pour trier par nb de games : , key = itemgetter(1), reverse = True\n",
    "ChampLoseListCounter = sorted(ChampLoseListCounter)\n",
    "# nb de games loose par champions\n",
    "champWinRate = []\n",
    "countLose = len(ChampLoseListCounter) - 1\n",
    "countPick = len(ChampPickedCounter) - 1\n",
    "# calcul du winrate d un champion\n",
    "for i in range(countPick):\n",
    "    for j in range(countLose):\n",
    "        if ChampWinList[i][0] == ChampLoseListCounter[j][0]:\n",
    "            ChampWinList[i][1] = ChampWinList[i][1] - ChampLoseListCounter[j][1]\n",
    "            winrate = round(ChampWinList[i][1] * 100 / ChampPickedCounter[i][1], 2)\n",
    "            if ChampPickedCounter[i][1] > MinimumGamesPlayed:\n",
    "                champWinRate.append([ChampWinList[i][0], winrate])\n",
    "champWinRate = sorted(champWinRate, key = lambda x: x[1], reverse = True)\n"
   ]
  },
  {
   "cell_type": "code",
   "execution_count": 36,
   "id": "badfebc6",
   "metadata": {},
   "outputs": [
    {
     "name": "stdout",
     "output_type": "stream",
     "text": [
      "------------Picks-----------------\n",
      "[['Jhin', 38], ['LeeSin', 38], ['Caitlyn', 36], ['Diana', 36], ['Yasuo', 36], ['Jayce', 35], ['Karma', 30], ['Jinx', 28], ['Lux', 28], ['Viktor', 27], ['Vex', 26], ['Talon', 25], ['Ezreal', 23], ['Kaisa', 23], ['Gangplank', 21], ['Irelia', 21], ['Sylas', 21], ['Thresh', 21], ['Draven', 19], ['Yone', 19], ['Fiora', 18], ['Graves', 18], ['Qiyana', 18], ['Zed', 18], ['Akali', 17], ['Viego', 16], ['XinZhao', 16], ['Nautilus', 15], ['Pyke', 15], ['Akshan', 14], ['Corki', 14], ['Ekko', 14], ['Leblanc', 14], ['Leona', 14], ['Lulu', 14], ['Gragas', 13], ['Janna', 13], ['Rakan', 13], ['Renekton', 13], ['Soraka', 13], ['Syndra', 13], ['Aphelios', 12], ['Kayn', 12], ['Nunu', 12], ['Tryndamere', 12], ['Vayne', 12], ['Camille', 11], ['Karthus', 11], ['Katarina', 11], ['Rell', 11], ['Lucian', 10], ['Poppy', 10], ['Sona', 10], ['Blitzcrank', 9], ['Hecarim', 9], ['Jax', 9], ['Nidalee', 9], ['Taric', 9], ['Xayah', 9], ['Ashe', 8], ['Nami', 8], ['Riven', 8], ['Veigar', 8], ['Evelynn', 7], ['Gwen', 7], ['Samira', 7], ['Sett', 7], ['Xerath', 7], ['Ziggs', 7], ['Aatrox', 6], ['JarvanIV', 6], ['Lissandra', 6], ['Rumble', 6], ['Shaco', 6], ['TwistedFate', 6], ['Yuumi', 6], ['Alistar', 5], ['Morgana', 5], ['Teemo', 5], ['Tristana', 5], ['Zoe', 5], ['Bard', 4], ['Kassadin', 4], ['Kennen', 4], ['Khazix', 4], ['Lillia', 4], ['Nasus', 4], ['Pantheon', 4], ['Ryze', 4], ['Seraphine', 4], ['Sion', 4], ['TahmKench', 4], ['Trundle', 4], ['Twitch', 4], ['Varus', 4], ['Braum', 3], ['Cassiopeia', 3], ['Darius', 3], ['FiddleSticks', 3], ['Kalista', 3], ['Kayle', 3], ['Malphite', 3], ['Orianna', 3], ['Senna', 3], ['Shen', 3], ['Sivir', 3], ['Taliyah', 3], ['Zilean', 3], ['Amumu', 2], ['Anivia', 2], ['Annie', 2], ['Azir', 2], ['Brand', 2], ['Galio', 2], ['Ivern', 2], ['KogMaw', 2], ['Neeko', 2], ['Ornn', 2], ['RekSai', 2], ['Singed', 2], ['Urgot', 2], ['Ahri', 1], ['Chogath', 1], ['Fizz', 1], ['Gnar', 1], ['Illaoi', 1], ['Kindred', 1], ['Maokai', 1], ['MonkeyKing', 1], ['Olaf', 1], ['Quinn', 1], ['Rengar', 1], ['Sejuani', 1], ['Udyr', 1], ['Velkoz', 1], ['Vi', 1], ['Volibear', 1]]\n",
      "-------------Win rate----------------\n",
      "[['Ziggs', 85.71], ['Renekton', 84.62], ['Alistar', 80.0], ['Teemo', 80.0], ['Lillia', 75.0], ['Nami', 75.0], ['Nasus', 75.0], ['TahmKench', 75.0], ['Trundle', 75.0], ['Twitch', 75.0], ['Veigar', 75.0], ['Gangplank', 71.43], ['Thresh', 71.43], ['Lucian', 70.0], ['Poppy', 70.0], ['Janna', 69.23], ['Draven', 68.42], ['Cassiopeia', 66.67], ['Hecarim', 66.67], ['Kayle', 66.67], ['Shen', 66.67], ['TwistedFate', 66.67], ['Ekko', 64.29], ['Leblanc', 64.29], ['Camille', 63.64], ['Viego', 62.5], ['Irelia', 61.9], ['Rakan', 61.54], ['Jinx', 60.71], ['Sona', 60.0], ['Kayn', 58.33], ['Tryndamere', 58.33], ['LeeSin', 57.89], ['Evelynn', 57.14], ['Lux', 57.14], ['Karma', 56.67], ['Blitzcrank', 55.56], ['Jax', 55.56], ['Taric', 55.56], ['Karthus', 54.55], ['Rell', 54.55], ['Jayce', 54.29], ['Syndra', 53.85], ['Nautilus', 53.33], ['Ezreal', 52.17], ['Aatrox', 50.0], ['Ashe', 50.0], ['Brand', 50.0], ['Ivern', 50.0], ['Kassadin', 50.0], ['Lissandra', 50.0], ['Nunu', 50.0], ['Qiyana', 50.0], ['Riven', 50.0], ['Ryze', 50.0], ['Singed', 50.0], ['Sion', 50.0], ['Urgot', 50.0], ['Viktor', 48.15], ['Talon', 48.0], ['Jhin', 47.37], ['Akali', 47.06], ['Pyke', 46.67], ['Vex', 46.15], ['Katarina', 45.45], ['Caitlyn', 44.44], ['Diana', 44.44], ['Nidalee', 44.44], ['XinZhao', 43.75], ['Leona', 42.86], ['Lulu', 42.86], ['Samira', 42.86], ['Sett', 42.86], ['Sylas', 42.86], ['Vayne', 41.67], ['Morgana', 40.0], ['Tristana', 40.0], ['Yasuo', 38.89], ['Yone', 36.84], ['Akshan', 35.71], ['Corki', 35.71], ['Kaisa', 34.78], ['Aphelios', 33.33], ['Darius', 33.33], ['Graves', 33.33], ['Kalista', 33.33], ['Orianna', 33.33], ['Senna', 33.33], ['Sivir', 33.33], ['Xayah', 33.33], ['Zilean', 33.33], ['Gragas', 30.77], ['Soraka', 30.77], ['Gwen', 28.57], ['Xerath', 28.57], ['Bard', 25.0], ['Kennen', 25.0], ['Pantheon', 25.0], ['Seraphine', 25.0], ['Varus', 25.0], ['Zed', 22.22], ['Fiora', 16.67], ['Rumble', 16.67], ['Shaco', 16.67], ['Yuumi', 16.67], ['Amumu', 0.0], ['Azir', 0.0], ['Braum', 0.0], ['FiddleSticks', 0.0], ['Khazix', 0.0], ['KogMaw', 0.0], ['Ornn', 0.0], ['Taliyah', 0.0]]\n",
      "------------win nb-----------------\n",
      "[['Aatrox', 3], ['Ahri', 1], ['Akali', 8], ['Akshan', 5], ['Alistar', 4], ['Amumu', 0], ['Anivia', 2], ['Annie', 2], ['Aphelios', 4], ['Ashe', 4], ['Azir', 0], ['Bard', 1], ['Blitzcrank', 5], ['Brand', 1], ['Braum', 0], ['Caitlyn', 16], ['Camille', 7], ['Cassiopeia', 2], ['Chogath', 0], ['Corki', 5], ['Darius', 1], ['Diana', 16], ['Draven', 13], ['Ekko', 9], ['Evelynn', 4], ['Ezreal', 12], ['FiddleSticks', 0], ['Fiora', 3], ['Fizz', 1], ['Galio', 2], ['Gangplank', 15], ['Gnar', 0], ['Gragas', 4], ['Graves', 6], ['Gwen', 2], ['Hecarim', 6], ['Illaoi', 0], ['Irelia', 13], ['Ivern', 1], ['Janna', 9], ['JarvanIV', 6], ['Jax', 5], ['Jayce', 19], ['Jhin', 18], ['Jinx', 17], ['Kaisa', 8], ['Kalista', 1], ['Karma', 17], ['Karthus', 6], ['Kassadin', 2], ['Katarina', 5], ['Kayle', 2], ['Kayn', 7], ['Kennen', 1], ['Khazix', 0], ['Kindred', 1], ['KogMaw', 0], ['Leblanc', 9], ['LeeSin', 22], ['Leona', 6], ['Lillia', 3], ['Lissandra', 3], ['Lucian', 7], ['Lulu', 6], ['Lux', 16], ['Malphite', 3], ['Maokai', 0], ['MonkeyKing', 1], ['Morgana', 2], ['Nami', 6], ['Nasus', 3], ['Nautilus', 8], ['Neeko', 2], ['Nidalee', 4], ['Nunu', 6], ['Olaf', 0], ['Orianna', 1], ['Ornn', 0], ['Pantheon', 1], ['Poppy', 7], ['Pyke', 7], ['Qiyana', 9], ['Quinn', 0], ['Rakan', 8], ['RekSai', 2], ['Rell', 6], ['Renekton', 11], ['Rengar', 0], ['Riven', 4], ['Rumble', 1], ['Ryze', 2], ['Samira', 3], ['Sejuani', 0], ['Senna', 1], ['Seraphine', 1], ['Sett', 3], ['Shaco', 1], ['Shen', 2], ['Singed', 1], ['Sion', 2], ['Sivir', 1], ['Sona', 6], ['Soraka', 4], ['Sylas', 9], ['Syndra', 7], ['TahmKench', 3], ['Taliyah', 0], ['Talon', 12], ['Taric', 5], ['Teemo', 4], ['Thresh', 15], ['Tristana', 2], ['Trundle', 3], ['Tryndamere', 7], ['TwistedFate', 4], ['Twitch', 3], ['Udyr', 0], ['Urgot', 1], ['Varus', 1], ['Vayne', 5], ['Veigar', 6], ['Velkoz', 1], ['Vex', 12], ['Vi', 1], ['Viego', 10], ['Viktor', 13], ['Volibear', 0], ['Xayah', 3], ['Xerath', 2], ['XinZhao', 7], ['Yasuo', 14], ['Yone', 7], ['Yuumi', 1], ['Zed', 4], ['Ziggs', 6], ['Zilean', 1], ['Zoe', 5]]\n",
      "-------------lose nb----------------\n",
      "[['Aatrox', 3], ['Akali', 9], ['Akshan', 9], ['Alistar', 1], ['Amumu', 2], ['Aphelios', 8], ['Ashe', 4], ['Azir', 2], ['Bard', 3], ['Blitzcrank', 4], ['Brand', 1], ['Braum', 3], ['Caitlyn', 20], ['Camille', 4], ['Cassiopeia', 1], ['Chogath', 1], ['Corki', 9], ['Darius', 2], ['Diana', 20], ['Draven', 6], ['Ekko', 5], ['Evelynn', 3], ['Ezreal', 11], ['FiddleSticks', 3], ['Fiora', 15], ['Gangplank', 6], ['Gnar', 1], ['Gragas', 9], ['Graves', 12], ['Gwen', 5], ['Hecarim', 3], ['Illaoi', 1], ['Irelia', 8], ['Ivern', 1], ['Janna', 4], ['Jax', 4], ['Jayce', 16], ['Jhin', 20], ['Jinx', 11], ['Kaisa', 15], ['Kalista', 2], ['Karma', 13], ['Karthus', 5], ['Kassadin', 2], ['Katarina', 6], ['Kayle', 1], ['Kayn', 5], ['Kennen', 3], ['Khazix', 4], ['KogMaw', 2], ['Leblanc', 5], ['LeeSin', 16], ['Leona', 8], ['Lillia', 1], ['Lissandra', 3], ['Lucian', 3], ['Lulu', 8], ['Lux', 12], ['Maokai', 1], ['Morgana', 3], ['Nami', 2], ['Nasus', 1], ['Nautilus', 7], ['Nidalee', 5], ['Nunu', 6], ['Olaf', 1], ['Orianna', 2], ['Ornn', 2], ['Pantheon', 3], ['Poppy', 3], ['Pyke', 8], ['Qiyana', 9], ['Quinn', 1], ['Rakan', 5], ['Rell', 5], ['Renekton', 2], ['Rengar', 1], ['Riven', 4], ['Rumble', 5], ['Ryze', 2], ['Samira', 4], ['Sejuani', 1], ['Senna', 2], ['Seraphine', 3], ['Sett', 4], ['Shaco', 5], ['Shen', 1], ['Singed', 1], ['Sion', 2], ['Sivir', 2], ['Sona', 4], ['Soraka', 9], ['Sylas', 12], ['Syndra', 6], ['TahmKench', 1], ['Taliyah', 3], ['Talon', 13], ['Taric', 4], ['Teemo', 1], ['Thresh', 6], ['Tristana', 3], ['Trundle', 1], ['Tryndamere', 5], ['TwistedFate', 2], ['Twitch', 1], ['Udyr', 1], ['Urgot', 1], ['Varus', 3], ['Vayne', 7], ['Veigar', 2], ['Vex', 14], ['Viego', 6], ['Viktor', 14], ['Volibear', 1], ['Xayah', 6], ['Xerath', 5], ['XinZhao', 9], ['Yasuo', 22], ['Yone', 12], ['Yuumi', 5], ['Zed', 14], ['Ziggs', 1], ['Zilean', 2], ['Zoe', 2]]\n"
     ]
    }
   ],
   "source": [
    "# on affiche toutes nos donnees\n",
    "\n",
    "print(\"------------Picks-----------------\")\n",
    "print(sorted(ChampPickedCounter, key=lambda x: x[1], reverse=True))\n",
    "print(\"-------------Win rate----------------\")\n",
    "print(champWinRate)\n",
    "print(\"------------win nb-----------------\")\n",
    "print(ChampWinList)\n",
    "print(\"-------------lose nb----------------\")\n",
    "print(ChampLoseListCounter)"
   ]
  },
  {
   "cell_type": "code",
   "execution_count": 28,
   "id": "7ae69a17",
   "metadata": {
    "scrolled": true
   },
   "outputs": [
    {
     "name": "stdout",
     "output_type": "stream",
     "text": [
      "[3053, 6333, 6630, 3047, 1038, 3071, 1038, 2421, 6630, 2055, 3047, 3053, 1055, 3047, 6630, 3123, 0, 0, 1037, 6630, 2031, 3047, 1055, 1036, 3047, 0, 6630, 1055, 3044, 1028, 3047, 6693, 3067, 1054, 3211, 3053, 1055, 3053, 6630, 3111, 1038, 3123, 3053, 6630, 3111, 3133, 1054, 1029, 1054, 6631, 3053, 1033, 3047, 0, 6630, 6333, 3153, 3071, 1033, 3047, 6630, 3053, 8001, 3047, 3026, 1054, 1028, 6630, 3047, 1037, 1036, 1054, 3053, 2421, 6630, 3211, 3082, 3047]\n",
      "[['Goredrinker', 11], ['Plated Steelcaps', 11], [\"Sterak's Gage\", 8], [\"Doran's Shield\", 5], ['null', 4], [\"Doran's Blade\", 4], ['B. F. Sword', 3], ['Ruby Crystal', 2], ['Null-Magic Mantle', 2], [\"Spectre's Cowl\", 2], ['Long Sword', 2], ['Pickaxe', 2], [\"Mercury's Treads\", 2], [\"Executioner's Calling\", 2], [\"Death's Dance\", 2], ['Broken Stopwatch', 2], ['Black Cleaver', 2], ['Cloth Armor', 1], ['Control Ward', 1], [\"Warden's Mail\", 1], [\"Prowler's Claw\", 1], [\"Caulfield's Warhammer\", 1], [\"Anathema's Chains\", 1], ['Blade of The Ruined King', 1], ['Guardian Angel', 1], ['Phage', 1], ['Stridebreaker', 1], ['Refillable Potion', 1], ['Kindlegem', 1]]\n"
     ]
    }
   ],
   "source": [
    "# Calcul du nombre d'occurrences des items pour un champion donne\n",
    "ItemList = []\n",
    "WinOrNot = True\n",
    "for e in range(count):\n",
    "    for i in range(10):\n",
    "        for j in range(6):\n",
    "            if GamesInfo[e][\"info\"][\"participants\"][i][\"championName\"] == Champion:\n",
    "                # est ce que c est une game win ou non (peut etre mis en commit)\n",
    "                # if GamesInfo[e][\"info\"][\"participants\"][i][\"win\"] == TrueOrFalse:\n",
    "                    ItemList.append(GamesInfo[e][\"info\"][\"participants\"][i][\"item\" + str(j)])\n",
    "print(ItemList)\n",
    "ItemListcounter = [[x, ItemList.count(x)] for x in set(ItemList)]\n",
    "ItemListcounter = sorted(ItemListcounter, key = lambda x: x[1], reverse = True)\n",
    "\n",
    "# on change l'alias des items pour leur nom\n",
    "GetItemInfo = requests.get('https://ddragon.leagueoflegends.com/cdn/' + Patch + '/data/en_US/item.json').json()\n",
    "for i in range(len(ItemListcounter)):\n",
    "    if ItemListcounter[i][0] != 0:\n",
    "        number = str(ItemListcounter[i][0])\n",
    "        ItemListcounter[i][0] = GetItemInfo[\"data\"][str(number)][\"name\"]\n",
    "    if ItemListcounter[i][0] == 0:\n",
    "        ItemListcounter[i][0] = \"null\"\n",
    "print(ItemListcounter)\n"
   ]
  },
  {
   "cell_type": "code",
   "execution_count": 19,
   "id": "a02865cc",
   "metadata": {},
   "outputs": [
    {
     "name": "stdout",
     "output_type": "stream",
     "text": [
      "Winrate with inhibitor killed first 71.64\n"
     ]
    }
   ],
   "source": [
    "# calcul du winrate par rapport au premier objectif\n",
    "GamesFirstObjWin = 0\n",
    "for i in range(len(GamesInfo)):\n",
    "    for e in range(2):\n",
    "        if GamesInfo[i][\"info\"][\"teams\"][e][\"win\"] == GameWin and GamesInfo[i][\"info\"][\"teams\"][e][\"objectives\"][Obj][\"first\"] == FirstObj:\n",
    "            GamesFirstObjWin = GamesFirstObjWin + 1\n",
    "GamesFirstObjWinRate = GamesFirstObjWin * 100 / len(GamesInfo)\n",
    "GamesFirstObjWinRate = round(GamesFirstObjWinRate, 2)\n",
    "print(\"Winrate with\", Obj, \"killed first\", GamesFirstObjWinRate)\n"
   ]
  },
  {
   "cell_type": "code",
   "execution_count": 20,
   "id": "568f1549",
   "metadata": {},
   "outputs": [
    {
     "name": "stdout",
     "output_type": "stream",
     "text": [
      "Most banned champ : [['Akshan', 99], ['Talon', 73], ['Yuumi', 64], ['Kassadin', 56], ['Draven', 56], ['Qiyana', 46], ['Irelia', 41], ['Lulu', 40], ['Yone', 40], ['Jax', 39], ['Viego', 39], ['LeeSin', 35], ['Leblanc', 33], ['Diana', 26], ['Viktor', 25], ['Vex', 23], ['Fiora', 22], ['Evelynn', 21], ['Caitlyn', 20], ['Jayce', 20], ['Tryndamere', 19], ['Sona', 19], ['Jinx', 18], ['Zed', 17], ['Katarina', 16], ['Akali', 16], ['Shaco', 14], ['Vayne', 14], ['Bard', 14], ['Lux', 13], ['Rengar', 13], ['Camille', 13], ['Thresh', 13], ['Kayn', 11], ['Anivia', 9], ['Janna', 9], ['Pyke', 9], ['Nidalee', 9], ['Nautilus', 8], ['Kaisa', 7], ['TwistedFate', 6], ['Sylas', 6], ['Singed', 6], ['XinZhao', 5], ['Karma', 5], ['Ezreal', 5], ['Riven', 5], ['Lucian', 5], ['Soraka', 4], ['Karthus', 4], ['Gangplank', 4], ['Nocturne', 4], ['Graves', 4], ['Yasuo', 4], ['Ekko', 4], ['Zilean', 3], ['Malphite', 3], ['Leona', 3], ['Zoe', 3], ['TahmKench', 3], ['Nami', 3], ['Nunu', 2], ['Corki', 2], ['Trundle', 2], ['Elise', 2], ['Shen', 2], ['Darius', 2], ['Syndra', 2], ['Zyra', 2], ['Xayah', 2], ['Olaf', 1], ['Vladimir', 1], ['Sivir', 1], ['Warwick', 1], ['Veigar', 1], ['Blitzcrank', 1], ['Renekton', 1], ['Brand', 1], ['Hecarim', 1], ['Khazix', 1], ['Jhin', 1], ['Aatrox', 1], ['Azir', 1], ['Samira', 1], ['Ivern', 1], ['Rakan', 1]]\n"
     ]
    }
   ],
   "source": [
    "# creation d un dictionaire avec la key et le nom du champion\n",
    "bannedchamp = []\n",
    "GetChampName = requests.get('https://ddragon.leagueoflegends.com/cdn/' + Patch + '/data/en_US/champion.json').json()\n",
    "ChampNameList = []\n",
    "for k in GetChampName[\"data\"]:\n",
    "    ChampNameList.append(k)\n",
    "ChampListKey = []\n",
    "for i in range(len(ChampNameList)):\n",
    "    ChampListKey.append([ChampNameList[i], GetChampName[\"data\"][ChampNameList[i]][\"key\"]])\n",
    "\n",
    "# calcul du nombre de ban d un champion\n",
    "for f in range(len(GamesInfo)):\n",
    "    for e in range(2):\n",
    "        for i in range(5):\n",
    "            if GamesInfo[f][\"info\"][\"teams\"][e][\"bans\"][i][\"championId\"] != -1:\n",
    "                bannedchamp.append(GamesInfo[f][\"info\"][\"teams\"][e][\"bans\"][i][\"championId\"])\n",
    "bannedchamp = [[x, bannedchamp.count(x)] for x in set(bannedchamp)]\n",
    "bannedchamp = sorted(bannedchamp, key = lambda x: x[1], reverse = True)\n",
    "\n",
    "# on change la key par le nom du champion\n",
    "for i in range(len(bannedchamp)):\n",
    "    for e in range(len(ChampListKey)):\n",
    "        if str(bannedchamp[i][0]) == ChampListKey[e][1]:\n",
    "            bannedchamp[i][0] = ChampListKey[e][0]\n",
    "print(\"Most banned champ :\", bannedchamp)\n"
   ]
  },
  {
   "cell_type": "code",
   "execution_count": 21,
   "id": "eae1ee15",
   "metadata": {},
   "outputs": [
    {
     "name": "stdout",
     "output_type": "stream",
     "text": [
      "Blue side win :  72\n",
      "Blue side lose :  62\n"
     ]
    }
   ],
   "source": [
    "WinBlueCount = 0\n",
    "\n",
    "LoseBlueCount = 0\n",
    "\n",
    "for i in range(len(GamesInfo)):\n",
    "    if GamesInfo[i][\"info\"][\"teams\"][0][\"win\"] is True:\n",
    "        WinBlueCount = WinBlueCount + 1\n",
    "    elif GamesInfo[i][\"info\"][\"teams\"][0][\"win\"] is False:\n",
    "        LoseBlueCount = LoseBlueCount + 1\n",
    "\n",
    "print(\"Blue side win : \", WinBlueCount)\n",
    "\n",
    "print(\"Blue side lose : \", LoseBlueCount)\n"
   ]
  },
  {
   "cell_type": "code",
   "execution_count": 22,
   "id": "012c7ac6",
   "metadata": {},
   "outputs": [],
   "source": [
    "# Average game time\n",
    "GameTime = []\n",
    "AverageTime = 0\n",
    "for i in range(len(GamesInfo)):\n",
    "    GameTime.append(GamesInfo[i][\"info\"][\"gameDuration\"])\n",
    "AverageTime = round(sum(GameTime) / len(GameTime), 2)\n",
    "AverageTimeInMinute = time.strftime(\"%M:%S\", time.localtime(AverageTime))\n",
    "\n",
    "# calcul du gain d exp et de gold des supports\n",
    "SupportGoldEarned = []\n",
    "SupportExp = []\n",
    "AverageSupportGold = 0\n",
    "AverageSupportExp = 0\n",
    "for i in range(len(GamesInfo)):\n",
    "    for e in range(10):\n",
    "        if GamesInfo[i][\"info\"][\"participants\"][e][\"role\"] == \"SUPPORT\":\n",
    "            SupportGoldEarned.append(GamesInfo[i][\"info\"][\"participants\"][e][\"goldEarned\"])\n",
    "AverageSupportGold = sum(SupportGoldEarned) / len(SupportGoldEarned)\n",
    "AverageSupportGold = round(AverageSupportGold, 2)\n",
    "AverageSupportGoldMin = round((AverageSupportGold / AverageTime) * 60, 2)\n",
    "\n",
    "for i in range(len(GamesInfo)):\n",
    "    for e in range(10):\n",
    "        if GamesInfo[i][\"info\"][\"participants\"][e][\"role\"] == \"SUPPORT\":\n",
    "            SupportExp.append(GamesInfo[i][\"info\"][\"participants\"][e][\"champExperience\"])\n",
    "AverageSupportExp = sum(SupportExp) / len(SupportExp)\n",
    "AverageSupportExp = round(AverageSupportExp, 2)\n",
    "AverageSupportExpMin = round((AverageSupportExp / AverageTime) * 60, 2)\n",
    "\n",
    "# calcul du gain d exp et de gold des jungler\n",
    "JunglerGoldEarned = []\n",
    "JunglerExp = []\n",
    "AverageJunglerExp = 0\n",
    "AverageJunglerGold = 0\n",
    "for i in range(len(GamesInfo)):\n",
    "    for e in range(10):\n",
    "        if GamesInfo[i][\"info\"][\"participants\"][e][\"individualPosition\"] == \"JUNGLE\":\n",
    "            JunglerGoldEarned.append(GamesInfo[i][\"info\"][\"participants\"][e][\"goldEarned\"])\n",
    "AverageJunglerGold = sum(JunglerGoldEarned) / len(JunglerGoldEarned)\n",
    "AverageJunglerGold = round(AverageJunglerGold, 2)\n",
    "AverageJunglerGoldMin = round((AverageJunglerGold / AverageTime) * 60, 2)\n",
    "\n",
    "for i in range(len(GamesInfo)):\n",
    "    for e in range(10):\n",
    "        if GamesInfo[i][\"info\"][\"participants\"][e][\"individualPosition\"] == \"JUNGLE\":\n",
    "            JunglerExp.append(GamesInfo[i][\"info\"][\"participants\"][e][\"champExperience\"])\n",
    "AverageJunglerExp = sum(JunglerExp) / len(JunglerExp)\n",
    "AverageJunglerExp = round(AverageJunglerExp, 2)\n",
    "AverageJunglerExpMin = round((AverageJunglerExp / AverageTime) * 60, 2)\n",
    "# calcul du gain d exp et de gold des adc\n",
    "CarryGoldEarned = []\n",
    "CarryExp = []\n",
    "AverageCarryExp = 0\n",
    "AverageGoldExp = 0\n",
    "for i in range(len(GamesInfo)):\n",
    "    for e in range(10):\n",
    "        if GamesInfo[i][\"info\"][\"participants\"][e][\"role\"] == \"CARRY\":\n",
    "            CarryGoldEarned.append(GamesInfo[i][\"info\"][\"participants\"][e][\"goldEarned\"])\n",
    "AverageCarryGold = sum(CarryGoldEarned) / len(CarryGoldEarned)\n",
    "AverageCarryGold = round(AverageCarryGold, 2)\n",
    "AverageCarryGoldMin = round((AverageCarryGold / AverageTime) * 60, 2)\n",
    "\n",
    "for i in range(len(GamesInfo)):\n",
    "    for e in range(10):\n",
    "        if GamesInfo[i][\"info\"][\"participants\"][e][\"role\"] == \"CARRY\":\n",
    "            CarryExp.append(GamesInfo[i][\"info\"][\"participants\"][e][\"champExperience\"])\n",
    "AverageCarryExp = sum(CarryExp) / len(CarryExp)\n",
    "AverageCarryExp = round(AverageCarryExp, 2)\n",
    "AverageCarryExpMin = round((AverageCarryExp / AverageTime) * 60, 2)\n",
    "\n",
    "# calcul du gain d exp et de gold des mid\n",
    "MidGoldEarned = []\n",
    "MidExp = []\n",
    "AverageMidExp = 0\n",
    "AverageMidGold = 0\n",
    "for i in range(len(GamesInfo)):\n",
    "    for e in range(10):\n",
    "        if GamesInfo[i][\"info\"][\"participants\"][e][\"individualPosition\"] == \"MIDDLE\":\n",
    "            MidGoldEarned.append(GamesInfo[i][\"info\"][\"participants\"][e][\"goldEarned\"])\n",
    "AverageMidGold = sum(MidGoldEarned) / len(MidGoldEarned)\n",
    "AverageMidGold = round(AverageMidGold, 2)\n",
    "AverageMidGoldMin = round((AverageMidGold / AverageTime) * 60, 2)\n",
    "\n",
    "for i in range(len(GamesInfo)):\n",
    "    for e in range(10):\n",
    "        if GamesInfo[i][\"info\"][\"participants\"][e][\"individualPosition\"] == \"MIDDLE\":\n",
    "            MidExp.append(GamesInfo[i][\"info\"][\"participants\"][e][\"champExperience\"])\n",
    "AverageMidExp = sum(MidExp) / len(MidExp)\n",
    "AverageMidExp = round(AverageMidExp, 2)\n",
    "AverageMidExpMin = round((AverageMidExp / AverageTime) * 60, 2)\n",
    "\n",
    "# calcul du gain d exp et de gold des top\n",
    "TopGoldEarned = []\n",
    "TopExp = []\n",
    "AverageTopExp = 0\n",
    "AverageTopGold = 0\n",
    "for i in range(len(GamesInfo)):\n",
    "    for e in range(10):\n",
    "        if GamesInfo[i][\"info\"][\"participants\"][e][\"individualPosition\"] == \"TOP\":\n",
    "            TopGoldEarned.append(GamesInfo[i][\"info\"][\"participants\"][e][\"goldEarned\"])\n",
    "AverageTopGold = sum(TopGoldEarned) / len(TopGoldEarned)\n",
    "AverageTopGold = round(AverageTopGold, 2)\n",
    "AverageTopGoldMin = round((AverageTopGold / AverageTime) * 60, 2)\n",
    "\n",
    "for i in range(len(GamesInfo)):\n",
    "    for e in range(10):\n",
    "        if GamesInfo[i][\"info\"][\"participants\"][e][\"individualPosition\"] == \"TOP\":\n",
    "            TopExp.append(GamesInfo[i][\"info\"][\"participants\"][e][\"champExperience\"])\n",
    "AverageTopExp = sum(TopExp) / len(TopExp)\n",
    "AverageTopExp = round(AverageTopExp, 2)\n",
    "AverageTopExpMin = round((AverageTopExp / AverageTime) * 60, 2)\n"
   ]
  },
  {
   "cell_type": "code",
   "execution_count": 23,
   "id": "b293e366",
   "metadata": {},
   "outputs": [
    {
     "name": "stdout",
     "output_type": "stream",
     "text": [
      "431.98\n",
      "448.54\n",
      "434.39\n",
      "473.52\n",
      "295.33\n"
     ]
    }
   ],
   "source": [
    "print(AverageTopGoldMin)\n",
    "print(AverageJunglerGoldMin)\n",
    "print(AverageMidGoldMin)\n",
    "print(AverageCarryGoldMin)\n",
    "print(AverageSupportGoldMin)"
   ]
  },
  {
   "cell_type": "code",
   "execution_count": null,
   "id": "b9e8c07e",
   "metadata": {},
   "outputs": [],
   "source": []
  },
  {
   "cell_type": "code",
   "execution_count": null,
   "id": "464c0661",
   "metadata": {},
   "outputs": [],
   "source": []
  },
  {
   "cell_type": "code",
   "execution_count": null,
   "id": "8cd3bfa2",
   "metadata": {},
   "outputs": [],
   "source": []
  },
  {
   "cell_type": "code",
   "execution_count": null,
   "id": "1cd5e3de",
   "metadata": {},
   "outputs": [],
   "source": []
  }
 ],
 "metadata": {
  "kernelspec": {
   "display_name": "Python 3 (ipykernel)",
   "language": "python",
   "name": "python3"
  },
  "language_info": {
   "codemirror_mode": {
    "name": "ipython",
    "version": 3
   },
   "file_extension": ".py",
   "mimetype": "text/x-python",
   "name": "python",
   "nbconvert_exporter": "python",
   "pygments_lexer": "ipython3",
   "version": "3.9.7"
  }
 },
 "nbformat": 4,
 "nbformat_minor": 5
}
