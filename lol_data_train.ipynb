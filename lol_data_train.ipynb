{
 "cells": [
  {
   "cell_type": "code",
   "execution_count": 1,
   "id": "18f8a218",
   "metadata": {},
   "outputs": [],
   "source": [
    "import requests, json, time\n",
    "\n",
    "# files\n",
    "ChampPickedCounterFile = open(\"ChampPickedCounter.txt\", \"w\")\n",
    "champWinRateFile = open(\"champWinRate.txt\", \"w\")\n",
    "ChampWinListFile = open(\"ChampWinList.txt\", \"w\")\n",
    "ChampLoseListCounterFile = open(\"ChampLoseListCounter.txt\", \"w\")\n",
    "GamesInfoFile = open(\"GamesInfo.txt\", \"w\")\n",
    "\n",
    "# variables \n",
    "Patch = \"11.24.1\"\n",
    "MinimumGamesPlayed = 100\n",
    "Champion = \"Evelynn\""
   ]
  },
  {
   "cell_type": "code",
   "execution_count": 2,
   "id": "9bc01fb5",
   "metadata": {
    "scrolled": true
   },
   "outputs": [],
   "source": [
    "# Recupere la list des chall\n",
    "api_key = \"RGAPI-034a4ddc-4862-4229-80cf-face74a491d9\"\n",
    "GetChallPlayers = \"https://euw1.api.riotgames.com/lol/league/v4/challengerleagues/by-queue/RANKED_SOLO_5x5\"+ \"?api_key=\" + api_key\n",
    "response1 = requests.get(GetChallPlayers).json()"
   ]
  },
  {
   "cell_type": "code",
   "execution_count": null,
   "id": "66c388c6",
   "metadata": {
    "scrolled": true
   },
   "outputs": [
    {
     "name": "stdout",
     "output_type": "stream",
     "text": [
      "11 : 46 : 02\n",
      "end\n",
      "11 : 56 : 40\n",
      "11 : 56 : 40\n",
      "end\n",
      "12 : 07 : 16\n",
      "2443\n",
      "1638\n",
      "12 : 07 : 16\n"
     ]
    }
   ],
   "source": [
    "# recupere le puuid des chall\n",
    "print (time.strftime(\"%H : %M : %S\"))\n",
    "info = (response1['entries'])\n",
    "playersPuuid = []\n",
    "playersName = []\n",
    "for i in range(299):\n",
    "        GetPlayersPuuid = \"https://euw1.api.riotgames.com/lol/summoner/v4/summoners/\"+info[i]['summonerId']+ \"?api_key=\" + api_key\n",
    "        response2 = requests.get(GetPlayersPuuid).json()\n",
    "        playersPuuid.append(response2[\"puuid\"])\n",
    "        time.sleep(2)\n",
    "print(\"end\")\n",
    "print (time.strftime(\"%H : %M : %S\"))\n",
    "# recupere les 20 dernieres games de chaque joueur depuis une certaine date\n",
    "print (time.strftime(\"%H : %M : %S\"))\n",
    "PlayersGames = []\n",
    "date = \"1639029600\"\n",
    "for i in range(299):\n",
    "        GetPlayersGames = \"https://europe.api.riotgames.com/lol/match/v5/matches/by-puuid/\" + playersPuuid[i] + \"/ids?startTime=\" + date +\"&queue=420&type=ranked&start=0&count=20&api_key=\" + api_key\n",
    "        response2 = requests.get(GetPlayersGames).json()\n",
    "        PlayersGames = PlayersGames + response2\n",
    "        time.sleep(2)\n",
    "print(\"end\")\n",
    "print (time.strftime(\"%H : %M : %S\"))\n",
    "PlayersGames.sort()\n",
    "# verifie que la liste des games a ete trie\n",
    "print(len(PlayersGames))\n",
    "PlayersGames = list(set(PlayersGames))\n",
    "seen = set()\n",
    "result = []\n",
    "for item in PlayersGames:\n",
    "    if item not in seen:\n",
    "        seen.add(item)\n",
    "        result.append(item)\n",
    "print(len(result))\n",
    "# recupere les infos de chaque game\n",
    "print (time.strftime(\"%H : %M : %S\"))\n",
    "GamesInfo = []\n",
    "PlayersGamesRange = len(PlayersGames) - 1\n",
    "for i in range(PlayersGamesRange):\n",
    "    GetGamesInfo = \"https://europe.api.riotgames.com/lol/match/v5/matches/\" + PlayersGames[i] + \"?api_key=\" + api_key\n",
    "    response3 = requests.get(GetGamesInfo).json()\n",
    "    GamesInfo.append(response3)\n",
    "    time.sleep(2)\n",
    "print(\"end\")\n",
    "print (time.strftime(\"%H : %M : %S\"))\n"
   ]
  },
  {
   "cell_type": "code",
   "execution_count": 8,
   "id": "bf7db7e1",
   "metadata": {
    "scrolled": true
   },
   "outputs": [],
   "source": [
    "#nb de games par champions\n",
    "# recupere la liste des champions joue sur toutes les games dispo, et on tri par ordre alphabet\n",
    "from operator import itemgetter\n",
    "champsList = []\n",
    "count = len(GamesInfo) - 1\n",
    "for j in range (count):\n",
    "    for i in range (10):\n",
    "        champsList.append(GamesInfo[j][\"info\"][\"participants\"][i][\"championName\"])\n",
    "# compte le nombre d apparition d un champion\n",
    "ChampWinList = [[x,champsList.count(x)] for x in set(champsList)]\n",
    "ChampPickedCounter = [[x,champsList.count(x)] for x in set(champsList)]\n",
    "# pour trier par nb de games : , key=itemgetter(1), reverse=True\n",
    "ChampPickedCounter = sorted(ChampPickedCounter)\n",
    "ChampWinList = sorted(ChampWinList)\n",
    "#nb de loose par champions\n",
    "# recupere la liste des champions joue sur toutes les games dispo, et on tri par ordre alphabet\n",
    "from operator import itemgetter\n",
    "ChampLoseList = []\n",
    "count = len(GamesInfo) - 1\n",
    "for j in range (count):\n",
    "    for i in range (10):\n",
    "        if GamesInfo[j][\"info\"][\"participants\"][i][\"win\"] == False:\n",
    "            ChampLoseList.append(GamesInfo[j][\"info\"][\"participants\"][i][\"championName\"])\n",
    "# compte le nombre d apparition d un champion\n",
    "ChampLoseListCounter = [[x,ChampLoseList.count(x)] for x in set(ChampLoseList)]\n",
    "# pour trier par nb de games : , key=itemgetter(1), reverse=True\n",
    "ChampLoseListCounter = sorted(ChampLoseListCounter)\n",
    "#nb de games loose par champions\n",
    "import copy\n",
    "champWinRate = []\n",
    "countLose =  len(ChampLoseListCounter) - 1\n",
    "countPick = len(ChampPickedCounter) - 1\n",
    "# calcul du winrate d un champion \n",
    "for i in range (countPick):\n",
    "    for j in range (countLose):\n",
    "        if ChampWinList[i][0] == ChampLoseListCounter[j][0]:\n",
    "            ChampWinList[i][1] = ChampWinList[i][1] - ChampLoseListCounter[j][1]\n",
    "            winrate = round(ChampWinList[i][1] * 100 / ChampPickedCounter[i][1], 2)\n",
    "            if ChampPickedCounter[i][1] > MinimumGamesPlayed:\n",
    "                champWinRate.append([ChampWinList[i][0], winrate])\n",
    "champWinRate = sorted(champWinRate, key=lambda x: x[1], reverse=True)"
   ]
  },
  {
   "cell_type": "code",
   "execution_count": 9,
   "id": "badfebc6",
   "metadata": {},
   "outputs": [
    {
     "name": "stdout",
     "output_type": "stream",
     "text": [
      "------------Picks-----------------\n",
      "[['LeeSin', 523], ['Viego', 445], ['Jhin', 395], ['Jinx', 387], ['Kaisa', 366], ['Lux', 348], ['Viktor', 330], ['Qiyana', 329], ['Yone', 324], ['Jayce', 311], ['Lulu', 310], ['Ezreal', 288], ['Akshan', 287], ['Caitlyn', 280], ['Zed', 257], ['Karma', 252], ['Akali', 247], ['Talon', 236], ['Vex', 234], ['Graves', 231], ['Rakan', 230], ['Irelia', 221], ['Lucian', 214], ['Thresh', 212], ['Corki', 209], ['Sylas', 206], ['Fiora', 205], ['Nami', 205], ['Janna', 202], ['Syndra', 202], ['Nidalee', 191], ['Yasuo', 185], ['Leona', 181], ['Gragas', 170], ['Leblanc', 165], ['Pyke', 163], ['Ekko', 162], ['XinZhao', 160], ['Draven', 150], ['Nautilus', 150], ['TwistedFate', 147], ['Vayne', 142], ['Kayn', 136], ['Aphelios', 135], ['Camille', 119], ['Twitch', 112], ['Bard', 110], ['Zoe', 108], ['Jax', 107], ['Singed', 107], ['Ashe', 105], ['Kassadin', 104], ['Sona', 103], ['Xerath', 99], ['Riven', 98], ['Orianna', 90], ['Blitzcrank', 89], ['Tryndamere', 86], ['Gwen', 85], ['Yuumi', 83], ['Warwick', 82], ['Urgot', 81], ['Karthus', 79], ['Hecarim', 77], ['Khazix', 76], ['Varus', 76], ['Xayah', 76], ['Gangplank', 75], ['Renekton', 74], ['Ryze', 74], ['Ornn', 73], ['Soraka', 72], ['Sett', 71], ['Rengar', 70], ['Zilean', 70], ['Rumble', 69], ['Ziggs', 68], ['TahmKench', 67], ['Poppy', 66], ['Vladimir', 66], ['Pantheon', 64], ['Kennen', 62], ['Tristana', 62], ['Rell', 60], ['Sion', 59], ['Senna', 56], ['Shen', 56], ['Trundle', 56], ['Darius', 53], ['Kayle', 52], ['KogMaw', 52], ['Cassiopeia', 50], ['Evelynn', 50], ['RekSai', 50], ['Aatrox', 47], ['Alistar', 47], ['JarvanIV', 47], ['MissFortune', 46], ['Morgana', 46], ['Galio', 45], ['Kindred', 44], ['Samira', 42], ['Katarina', 41], ['Braum', 40], ['Malphite', 39], ['Seraphine', 38], ['Veigar', 37], ['Brand', 35], ['Lillia', 35], ['Shaco', 35], ['Teemo', 35], ['MasterYi', 34], ['Nunu', 34], ['Kalista', 33], ['Fizz', 31], ['Taliyah', 31], ['FiddleSticks', 28], ['Chogath', 27], ['Ivern', 27], ['Olaf', 27], ['Taric', 27], ['Quinn', 26], ['Annie', 22], ['Diana', 22], ['Nasus', 22], ['Sejuani', 22], ['MonkeyKing', 20], ['Zac', 20], ['Anivia', 18], ['Neeko', 18], ['Azir', 17], ['Elise', 17], ['Gnar', 17], ['DrMundo', 15], ['Lissandra', 15], ['Maokai', 15], ['Sivir', 15], ['Ahri', 14], ['Kled', 14], ['Nocturne', 14], ['Velkoz', 14], ['Vi', 14], ['Malzahar', 13], ['Volibear', 13], ['Zyra', 12], ['Swain', 11], ['Udyr', 10], ['Amumu', 9], ['Illaoi', 8], ['Heimerdinger', 7], ['Shyvana', 6], ['Yorick', 6], ['Garen', 4], ['Rammus', 4], ['Mordekaiser', 3], ['Skarner', 3]]\n",
      "-------------Win rate----------------\n",
      "[['Camille', 57.98], ['Janna', 56.44], ['Lulu', 55.81], ['TwistedFate', 55.78], ['Lucian', 55.14], ['Vex', 55.13], ['Kayn', 54.41], ['Sona', 54.37], ['Ashe', 54.29], ['Thresh', 54.25], ['Vayne', 54.23], ['Nami', 53.66], ['Jax', 53.27], ['Jhin', 52.91], ['Leblanc', 52.73], ['Draven', 52.67], ['Qiyana', 52.58], ['Ekko', 52.47], ['Viktor', 52.42], ['Singed', 52.34], ['Karma', 51.98], ['Sylas', 51.94], ['Bard', 51.82], ['LeeSin', 51.63], ['Jinx', 51.42], ['Gragas', 51.18], ['Graves', 51.08], ['Kassadin', 50.96], ['Zoe', 50.93], ['Nidalee', 50.79], ['Pyke', 50.31], ['Fiora', 50.24], ['Yone', 50.0], ['Viego', 49.66], ['Rakan', 49.57], ['Akshan', 49.13], ['Nautilus', 48.67], ['Syndra', 48.51], ['Talon', 48.31], ['Zed', 47.86], ['Kaisa', 47.54], ['XinZhao', 47.5], ['Lux', 46.26], ['Twitch', 45.54], ['Leona', 45.3], ['Akali', 44.94], ['Yasuo', 44.86], ['Caitlyn', 44.64], ['Irelia', 43.89], ['Jayce', 43.73], ['Corki', 42.58], ['Aphelios', 42.22], ['Ezreal', 42.01]]\n",
      "------------win nb-----------------\n",
      "[['Aatrox', 30], ['Ahri', 8], ['Akali', 111], ['Akshan', 141], ['Alistar', 27], ['Amumu', 5], ['Anivia', 10], ['Annie', 16], ['Aphelios', 57], ['Ashe', 57], ['Azir', 5], ['Bard', 57], ['Blitzcrank', 45], ['Brand', 16], ['Braum', 22], ['Caitlyn', 125], ['Camille', 69], ['Cassiopeia', 30], ['Chogath', 11], ['Corki', 89], ['Darius', 29], ['Diana', 11], ['DrMundo', 7], ['Draven', 79], ['Ekko', 85], ['Elise', 5], ['Evelynn', 24], ['Ezreal', 121], ['FiddleSticks', 17], ['Fiora', 103], ['Fizz', 16], ['Galio', 27], ['Gangplank', 38], ['Garen', 1], ['Gnar', 9], ['Gragas', 87], ['Graves', 118], ['Gwen', 37], ['Hecarim', 43], ['Heimerdinger', 4], ['Illaoi', 3], ['Irelia', 97], ['Ivern', 11], ['Janna', 114], ['JarvanIV', 27], ['Jax', 57], ['Jayce', 136], ['Jhin', 209], ['Jinx', 199], ['Kaisa', 174], ['Kalista', 16], ['Karma', 131], ['Karthus', 30], ['Kassadin', 53], ['Katarina', 20], ['Kayle', 23], ['Kayn', 74], ['Kennen', 26], ['Khazix', 45], ['Kindred', 25], ['Kled', 6], ['KogMaw', 29], ['Leblanc', 87], ['LeeSin', 270], ['Leona', 82], ['Lillia', 18], ['Lissandra', 7], ['Lucian', 118], ['Lulu', 173], ['Lux', 161], ['Malphite', 18], ['Malzahar', 6], ['Maokai', 9], ['MasterYi', 13], ['MissFortune', 20], ['MonkeyKing', 7], ['Mordekaiser', 1], ['Morgana', 27], ['Nami', 110], ['Nasus', 9], ['Nautilus', 73], ['Neeko', 14], ['Nidalee', 97], ['Nocturne', 4], ['Nunu', 14], ['Olaf', 12], ['Orianna', 47], ['Ornn', 37], ['Pantheon', 38], ['Poppy', 37], ['Pyke', 82], ['Qiyana', 173], ['Quinn', 16], ['Rakan', 114], ['Rammus', 1], ['RekSai', 35], ['Rell', 27], ['Renekton', 37], ['Rengar', 38], ['Riven', 48], ['Rumble', 33], ['Ryze', 30], ['Samira', 20], ['Sejuani', 11], ['Senna', 27], ['Seraphine', 20], ['Sett', 36], ['Shaco', 17], ['Shen', 32], ['Shyvana', 2], ['Singed', 56], ['Sion', 22], ['Sivir', 6], ['Skarner', 0], ['Sona', 56], ['Soraka', 33], ['Swain', 7], ['Sylas', 107], ['Syndra', 98], ['TahmKench', 38], ['Taliyah', 16], ['Talon', 114], ['Taric', 9], ['Teemo', 13], ['Thresh', 115], ['Tristana', 41], ['Trundle', 23], ['Tryndamere', 48], ['TwistedFate', 82], ['Twitch', 51], ['Udyr', 5], ['Urgot', 36], ['Varus', 34], ['Vayne', 77], ['Veigar', 27], ['Velkoz', 3], ['Vex', 129], ['Vi', 6], ['Viego', 221], ['Viktor', 173], ['Vladimir', 30], ['Volibear', 6], ['Warwick', 44], ['Xayah', 34], ['Xerath', 49], ['XinZhao', 76], ['Yasuo', 83], ['Yone', 162], ['Yorick', 4], ['Yuumi', 36], ['Zac', 9], ['Zed', 123], ['Ziggs', 32], ['Zilean', 28], ['Zoe', 55], ['Zyra', 12]]\n",
      "-------------lose nb----------------\n",
      "[['Aatrox', 17], ['Ahri', 6], ['Akali', 136], ['Akshan', 146], ['Alistar', 20], ['Amumu', 4], ['Anivia', 8], ['Annie', 6], ['Aphelios', 78], ['Ashe', 48], ['Azir', 12], ['Bard', 53], ['Blitzcrank', 44], ['Brand', 19], ['Braum', 18], ['Caitlyn', 155], ['Camille', 50], ['Cassiopeia', 20], ['Chogath', 16], ['Corki', 120], ['Darius', 24], ['Diana', 11], ['DrMundo', 8], ['Draven', 71], ['Ekko', 77], ['Elise', 12], ['Evelynn', 26], ['Ezreal', 167], ['FiddleSticks', 11], ['Fiora', 102], ['Fizz', 15], ['Galio', 18], ['Gangplank', 37], ['Garen', 3], ['Gnar', 8], ['Gragas', 83], ['Graves', 113], ['Gwen', 48], ['Hecarim', 34], ['Heimerdinger', 3], ['Illaoi', 5], ['Irelia', 124], ['Ivern', 16], ['Janna', 88], ['JarvanIV', 20], ['Jax', 50], ['Jayce', 175], ['Jhin', 186], ['Jinx', 188], ['Kaisa', 192], ['Kalista', 17], ['Karma', 121], ['Karthus', 49], ['Kassadin', 51], ['Katarina', 21], ['Kayle', 29], ['Kayn', 62], ['Kennen', 36], ['Khazix', 31], ['Kindred', 19], ['Kled', 8], ['KogMaw', 23], ['Leblanc', 78], ['LeeSin', 253], ['Leona', 99], ['Lillia', 17], ['Lissandra', 8], ['Lucian', 96], ['Lulu', 137], ['Lux', 187], ['Malphite', 21], ['Malzahar', 7], ['Maokai', 6], ['MasterYi', 21], ['MissFortune', 26], ['MonkeyKing', 13], ['Mordekaiser', 2], ['Morgana', 19], ['Nami', 95], ['Nasus', 13], ['Nautilus', 77], ['Neeko', 4], ['Nidalee', 94], ['Nocturne', 10], ['Nunu', 20], ['Olaf', 15], ['Orianna', 43], ['Ornn', 36], ['Pantheon', 26], ['Poppy', 29], ['Pyke', 81], ['Qiyana', 156], ['Quinn', 10], ['Rakan', 116], ['Rammus', 3], ['RekSai', 15], ['Rell', 33], ['Renekton', 37], ['Rengar', 32], ['Riven', 50], ['Rumble', 36], ['Ryze', 44], ['Samira', 22], ['Sejuani', 11], ['Senna', 29], ['Seraphine', 18], ['Sett', 35], ['Shaco', 18], ['Shen', 24], ['Shyvana', 4], ['Singed', 51], ['Sion', 37], ['Sivir', 9], ['Skarner', 3], ['Sona', 47], ['Soraka', 39], ['Swain', 4], ['Sylas', 99], ['Syndra', 104], ['TahmKench', 29], ['Taliyah', 15], ['Talon', 122], ['Taric', 18], ['Teemo', 22], ['Thresh', 97], ['Tristana', 21], ['Trundle', 33], ['Tryndamere', 38], ['TwistedFate', 65], ['Twitch', 61], ['Udyr', 5], ['Urgot', 45], ['Varus', 42], ['Vayne', 65], ['Veigar', 10], ['Velkoz', 11], ['Vex', 105], ['Vi', 8], ['Viego', 224], ['Viktor', 157], ['Vladimir', 36], ['Volibear', 7], ['Warwick', 38], ['Xayah', 42], ['Xerath', 50], ['XinZhao', 84], ['Yasuo', 102], ['Yone', 162], ['Yorick', 2], ['Yuumi', 47], ['Zac', 11], ['Zed', 134], ['Ziggs', 36], ['Zilean', 42], ['Zoe', 53], ['Zyra', 9]]\n"
     ]
    }
   ],
   "source": [
    "# on affiche toutes nos donnees\n",
    "\n",
    "print(\"------------Picks-----------------\")\n",
    "print(sorted(ChampPickedCounter, key=lambda x: x[1], reverse=True))\n",
    "print(\"-------------Win rate----------------\")\n",
    "print(champWinRate)\n",
    "print(\"------------win nb-----------------\")\n",
    "print(ChampWinList)\n",
    "print(\"-------------lose nb----------------\")\n",
    "print(ChampLoseListCounter)\n",
    "\n",
    "\n",
    "# on ecrit les infos dans des fichiers pour pouvoir les stocker\n",
    "AllGameFile = open(\"AllGame.json\", \"w\")\n",
    "AllGameFile.write(json.dumps(GamesInfo))\n",
    "AllGameFile.close()\n",
    "\n",
    "ChampPickedCounterFile = open(\"ChampPickedCounter.json\", \"w\")\n",
    "ChampPickedCounterFile.write(json.dumps(ChampPickedCounter))\n",
    "ChampPickedCounterFile.close()\n",
    "\n",
    "ChampPickedCounterFile = open(\"ChampPickedCounter.json\", \"w\")\n",
    "ChampPickedCounterFile.write(json.dumps(ChampPickedCounter))\n",
    "ChampPickedCounterFile.close()\n",
    "\n",
    "champWinRateFile = open(\"champWinRate.json\", \"w\")\n",
    "champWinRateFile.write(json.dumps(champWinRate))\n",
    "champWinRateFile.close()\n",
    "\n",
    "ChampWinListFile = open(\"ChampWinList.json\", \"w\")\n",
    "ChampWinListFile.write(json.dumps(ChampWinList))\n",
    "ChampWinListFile.close()\n",
    "\n",
    "ChampLoseListCounterFile = open(\"ChampLoseListCounter.json\", \"w\")\n",
    "ChampLoseListCounterFile.write(json.dumps(ChampLoseListCounter))\n",
    "ChampLoseListCounterFile.close()\n",
    "\n",
    "GamesInfoFile = open(\"GamesInfo.json\", \"w\")\n",
    "GamesInfoFile.write(json.dumps(GamesInfo))\n",
    "GamesInfoFile.close()"
   ]
  },
  {
   "cell_type": "code",
   "execution_count": 23,
   "id": "7ae69a17",
   "metadata": {
    "scrolled": true
   },
   "outputs": [
    {
     "name": "stdout",
     "output_type": "stream",
     "text": [
      "[3135, 4632, 3152, 1082, 3020, 3108, 3089, 3041, 3152, 3020, 3100, 1026, 3152, 4645, 3089, 3135, 1052, 3020, 3041, 3135, 3152, 3020, 3089, 0, 3152, 4645, 4630, 3020, 3089, 0, 3152, 3041, 0, 0, 0, 3020, 4645, 0, 3152, 3135, 3089, 3020, 3152, 3089, 3135, 3020, 3102, 0, 3020, 3152, 4645, 1082, 0, 3135, 1058, 3041, 3152, 3020, 3135, 0, 3152, 3108, 3041, 3020, 3089, 1052, 3152, 1026, 3020, 1082, 3102, 4630, 3152, 3020, 3089, 3145, 1082, 0, 3152, 3041, 3102, 3020, 4630, 3089, 3102, 3100, 3152, 3089, 3020, 3135, 3152, 3102, 3041, 3020, 0, 0, 3020, 3100, 3152, 3089, 1026, 3041, 3020, 2031, 3041, 3089, 0, 3152, 1058, 2031, 3152, 3041, 3020, 4645, 3152, 3100, 4629, 3102, 3089, 3041, 2055, 2031, 3152, 3041, 3089, 3020, 4645, 3135, 3152, 3089, 4629, 3020, 3152, 3020, 3041, 3089, 3135, 1058, 3152, 3100, 3089, 0, 3102, 3020, 3152, 3089, 3041, 3135, 3020, 3108, 3020, 3135, 3152, 3041, 0, 1028, 3152, 1026, 3089, 0, 3041, 3020, 2422, 2031, 3152, 3041, 1052, 0, 3152, 3102, 4630, 3041, 3020, 0, 3152, 2031, 3089, 3020, 3041, 0, 3152, 3102, 1058, 3041, 2055, 3020, 3020, 3152, 1026, 3041, 4645, 0, 3020, 3102, 3152, 1082, 4645, 1058, 4645, 3152, 1058, 1082, 1058, 3020, 3152, 3100, 3135, 4645, 3089, 3020, 3020, 3135, 3152, 3041, 1058, 1058, 1052, 3152, 3041, 3020, 0, 0, 3020, 3057, 3152, 1082, 1026, 3113, 3152, 1058, 3020, 1082, 3102, 1058, 2422, 2031, 3152, 3041, 1052, 0, 0, 3089, 3152, 4645, 3020, 1052, 3152, 2031, 3020, 1082, 1058, 3145, 3089, 3020, 3152, 3102, 3135, 1052, 3152, 3089, 3102, 3041, 3135, 3020, 3020, 4645, 3152, 3041, 1026, 1052, 3152, 3089, 3020, 1082, 0, 0, 3020, 1026, 3152, 3041, 3089, 0, 3020, 3041, 3152, 4645, 1058, 0, 2031, 3152, 3041, 0, 3020, 0, 3152, 1058, 3020, 4645, 1058, 3041]\n",
      "[['Hextech Rocketbelt', 50], [\"Sorcerer's Shoes\", 47], ['null', 30], [\"Mejai's Soulstealer\", 30], [\"Rabadon's Deathcap\", 26], ['Void Staff', 16], ['Needlessly Large Rod', 15], ['Shadowflame', 14], [\"Banshee's Veil\", 13], ['Dark Seal', 10], ['Blasting Wand', 8], ['Amplifying Tome', 8], ['Refillable Potion', 8], ['Lich Bane', 6], ['Blighting Jewel', 4], ['Fiendish Codex', 3], ['Control Ward', 2], ['Cosmic Drive', 2], ['Hextech Alternator', 2], ['Slightly Magical Footwear', 2], ['Ruby Crystal', 1], ['Verdant Barrier', 1], ['Aether Wisp', 1], ['Sheen', 1]]\n"
     ]
    }
   ],
   "source": [
    "# Calcul du nombre d'occurrences des items pour un champion donne\n",
    "ItemList = []\n",
    "WinOrNot = True\n",
    "for e in range(count):\n",
    "    for i in range(10):\n",
    "        for j in range(6):\n",
    "            if GamesInfo[e][\"info\"][\"participants\"][i][\"championName\"] == Champion:\n",
    "#                 est ce que c est une game win ou non (peut etre mis en commit)\n",
    "#                 if GamesInfo[e][\"info\"][\"participants\"][i][\"win\"] == TrueOrFalse:\n",
    "                    ItemList.append(GamesInfo[e][\"info\"][\"participants\"][i][\"item\" + str(j)])\n",
    "print(ItemList)\n",
    "ItemListcounter = [[x,ItemList.count(x)] for x in set(ItemList)]\n",
    "ItemListcounter = sorted(ItemListcounter, key=lambda x: x[1], reverse=True)\n",
    "\n",
    "# on change l'alias des items pour leur nom\n",
    "GetItemInfo = requests.get('https://ddragon.leagueoflegends.com/cdn/'+ Patch +'/data/en_US/item.json').json()\n",
    "for i in range(len(ItemListcounter)):\n",
    "    if ItemListcounter[i][0] != 0:\n",
    "        number = str(ItemListcounter[i][0])\n",
    "        ItemListcounter[i][0] = GetItemInfo[\"data\"][str(number)][\"name\"]\n",
    "    if ItemListcounter[i][0] == 0:\n",
    "        ItemListcounter[i][0] = \"null\"\n",
    "        \n",
    "print(ItemListcounter)"
   ]
  },
  {
   "cell_type": "code",
   "execution_count": 108,
   "id": "a02865cc",
   "metadata": {},
   "outputs": [
    {
     "name": "stdout",
     "output_type": "stream",
     "text": [
      "Winrate with inhibitor killed first 73.97\n"
     ]
    }
   ],
   "source": [
    "# calcul du winrate par rapport au premier objectif\n",
    "GamesFirstObjWin = 0\n",
    "Obj = \"inhibitor\"\n",
    "GameWin = True\n",
    "FirstObj = True\n",
    "for i in range(len(GamesInfo)):\n",
    "    for e in range(2):\n",
    "        if GamesInfo[i][\"info\"][\"teams\"][e][\"win\"] == GameWin and GamesInfo[i][\"info\"][\"teams\"][e][\"objectives\"][Obj][\"first\"] == FirstObj:\n",
    "            GamesFirstObjWin = GamesFirstObjWin + 1\n",
    "GamesFirstObjWinRate = GamesFirstObjWin * 100  / len(GamesInfo)\n",
    "GamesFirstObjWinRate = round(GamesFirstObjWinRate, 2)\n",
    "print(\"Winrate with\",Obj,\"killed first\",GamesFirstObjWinRate)"
   ]
  },
  {
   "cell_type": "code",
   "execution_count": 107,
   "id": "568f1549",
   "metadata": {},
   "outputs": [
    {
     "name": "stdout",
     "output_type": "stream",
     "text": [
      "Most banned champ : [['Talon', 1227], ['Akshan', 946], ['Yuumi', 881], ['Kassadin', 773], ['Viktor', 650], ['Qiyana', 629], ['Irelia', 590], ['Jax', 472], ['Draven', 470], ['Yone', 444], ['Viego', 443], ['Fiora', 437], ['Lulu', 388], ['LeeSin', 386], ['Leblanc', 369], ['Zed', 337], ['Vex', 291], ['Evelynn', 284], ['Tryndamere', 265], ['Katarina', 250], ['Jinx', 222], ['Rengar', 169], ['Camille', 164], ['Thresh', 159], ['Jayce', 148], ['Lucian', 137], ['Karthus', 131], ['Akali', 127], ['Bard', 114], ['TwistedFate', 109], ['Yasuo', 109], ['Kayn', 91], ['Jhin', 89], ['Lux', 87], ['Nami', 85], ['Nidalee', 79], ['Hecarim', 77], ['Singed', 76], ['Vayne', 76], ['Nunu', 75], ['Corki', 71], ['Darius', 70], ['Kaisa', 70], ['Karma', 68], ['Malphite', 68], ['Khazix', 68], ['Leona', 65], ['Sona', 63], ['TahmKench', 58], ['Riven', 54], ['Caitlyn', 53], ['Xerath', 53], ['Zilean', 52], ['XinZhao', 48], ['Pyke', 45], ['Blitzcrank', 45], ['Xayah', 45], ['Nautilus', 44], ['Anivia', 42], ['Sett', 40], ['Graves', 38], ['Poppy', 37], ['Shaco', 36], ['Janna', 33], ['Vladimir', 32], ['Sylas', 29], ['Twitch', 28], ['Rakan', 28], ['Aphelios', 27], ['Warwick', 26], ['Zoe', 26], ['Kennen', 24], ['Syndra', 24], ['Nocturne', 23], ['MasterYi', 21], ['Soraka', 20], ['Ezreal', 20], ['Renekton', 19], ['Teemo', 18], ['Morgana', 18], ['Gwen', 18], ['Shen', 17], ['Urgot', 15], ['Kindred', 15], ['Ekko', 15], ['Fiddlesticks', 14], ['RekSai', 14], ['Ivern', 13], ['Ziggs', 11], ['Samira', 11], ['Kayle', 10], ['Trundle', 9], ['Pantheon', 9], ['KogMaw', 9], ['Annie', 8], ['Amumu', 8], ['Elise', 8], ['Alistar', 7], ['Gragas', 7], ['Aatrox', 7], ['Sion', 6], ['Rammus', 6], ['Kalista', 6], ['Ornn', 5], ['Heimerdinger', 5], ['Udyr', 5], ['Fizz', 5], ['Varus', 5], ['Brand', 4], ['Cassiopeia', 4], ['Braum', 4], ['Illaoi', 4], ['Ashe', 3], ['MonkeyKing', 3], ['Ryze', 2], ['DrMundo', 2], ['Gangplank', 2], ['Veigar', 2], ['Malzahar', 2], ['Ahri', 2], ['AurelionSol', 2], ['Taliyah', 2], ['Lillia', 2], ['Olaf', 1], ['Galio', 1], ['MissFortune', 1], ['Taric', 1], ['Neeko', 1], ['Maokai', 1], ['Orianna', 1], ['Rumble', 1], ['Nasus', 1], ['Mordekaiser', 1], ['Yorick', 1], ['Garen', 1], ['Tristana', 1], ['Shyvana', 1], ['Volibear', 1], ['Diana', 1], ['Gnar', 1], ['Zac', 1], ['Velkoz', 1], ['Kled', 1], ['Vi', 1], ['Azir', 1]]\n"
     ]
    }
   ],
   "source": [
    "# creation d un dictionaire avec la key et le nom du champion\n",
    "bannedchamp = []\n",
    "GetChampName = requests.get('https://ddragon.leagueoflegends.com/cdn/'+ Patch +'/data/en_US/champion.json').json()\n",
    "ChampNameList = []\n",
    "for k in GetChampName[\"data\"]:\n",
    "    ChampNameList.append(k)\n",
    "ChampListKey = []\n",
    "for i in range(len(ChampNameList)):\n",
    "    ChampListKey.append([ChampNameList[i], GetChampName[\"data\"][ChampNameList[i]][\"key\"]])\n",
    "\n",
    "# calcul du nombre de ban d un champion\n",
    "for f in range(len(GamesInfo)):\n",
    "    for e in range(2):\n",
    "        for i in range(5):\n",
    "            if GamesInfo[f][\"info\"][\"teams\"][e][\"bans\"][i][\"championId\"] != -1:\n",
    "                bannedchamp.append(GamesInfo[f][\"info\"][\"teams\"][e][\"bans\"][i][\"championId\"])\n",
    "bannedchamp = [[x,bannedchamp.count(x)] for x in set(bannedchamp)]\n",
    "bannedchamp = sorted(bannedchamp, key=lambda x: x[1], reverse=True)\n",
    "\n",
    "# on change la key par le nom du champion\n",
    "for i in range(len(bannedchamp)):\n",
    "    for e in range(len(ChampListKey)):\n",
    "        if str(bannedchamp[i][0]) == ChampListKey[e][1]:\n",
    "            bannedchamp[i][0] = ChampListKey[e][0]\n",
    "print(\"Most banned champ :\", bannedchamp)"
   ]
  },
  {
   "cell_type": "code",
   "execution_count": 105,
   "id": "eae1ee15",
   "metadata": {},
   "outputs": [
    {
     "name": "stdout",
     "output_type": "stream",
     "text": [
      "Blue side win :  815\n",
      "Blue side lose :  791\n"
     ]
    }
   ],
   "source": [
    "WinBlueCount = 0\n",
    "\n",
    "LoseBlueCount = 0\n",
    "\n",
    "for i in range(len(GamesInfo)):\n",
    "    if GamesInfo[i][\"info\"][\"teams\"][0][\"win\"] == True:\n",
    "        WinBlueCount = WinBlueCount + 1\n",
    "    elif GamesInfo[i][\"info\"][\"teams\"][0][\"win\"] == False:\n",
    "        LoseBlueCount = LoseBlueCount + 1\n",
    "\n",
    "print(\"Blue side win : \",WinBlueCount)\n",
    "\n",
    "print(\"Blue side lose : \",LoseBlueCount)\n"
   ]
  },
  {
   "cell_type": "code",
   "execution_count": 127,
   "id": "012c7ac6",
   "metadata": {},
   "outputs": [],
   "source": [
    "# calcul du gain d exp et de gold des supports\n",
    "SupportGoldEarned = []\n",
    "SupportExp = []\n",
    "for i in range(len(GamesInfo)):\n",
    "    for e in range(10):\n",
    "        if GamesInfo[i][\"info\"][\"participants\"][e][\"role\"] == \"SUPPORT\":\n",
    "            SupportGoldEarned.append(GamesInfo[i][\"info\"][\"participants\"][e][\"goldEarned\"])\n",
    "\n",
    "\n",
    "for i in range(len(GamesInfo)):\n",
    "    for e in range(10):\n",
    "        if GamesInfo[i][\"info\"][\"participants\"][e][\"role\"] == \"SUPPORT\":\n",
    "            SupportExp.append(GamesInfo[i][\"info\"][\"participants\"][e][\"champExperience\"])\n",
    "\n",
    "# calcul du gain d exp et de gold des jungler\n",
    "JunglerGoldEarned = []\n",
    "JunglerExp = []\n",
    "for i in range(len(GamesInfo)):\n",
    "    for e in range(10):\n",
    "        if GamesInfo[i][\"info\"][\"participants\"][e][\"individualPosition\"] == \"JUNGLE\":\n",
    "            JunglerGoldEarned.append(GamesInfo[i][\"info\"][\"participants\"][e][\"goldEarned\"])\n",
    "\n",
    "\n",
    "for i in range(len(GamesInfo)):\n",
    "    for e in range(10):\n",
    "        if GamesInfo[i][\"info\"][\"participants\"][e][\"individualPosition\"] == \"JUNGLE\":\n",
    "            JunglerExp.append(GamesInfo[i][\"info\"][\"participants\"][e][\"champExperience\"])\n",
    "            \n",
    "# calcul du gain d exp et de gold des jungler\n",
    "CarryGoldEarned = []\n",
    "CarryExp = []\n",
    "for i in range(len(GamesInfo)):\n",
    "    for e in range(10):\n",
    "        if GamesInfo[i][\"info\"][\"participants\"][e][\"role\"] == \"CARRY\":\n",
    "            CarryGoldEarned.append(GamesInfo[i][\"info\"][\"participants\"][e][\"goldEarned\"])\n",
    "\n",
    "\n",
    "for i in range(len(GamesInfo)):\n",
    "    for e in range(10):\n",
    "        if GamesInfo[i][\"info\"][\"participants\"][e][\"role\"] == \"CARRY\":\n",
    "            CarryExp.append(GamesInfo[i][\"info\"][\"participants\"][e][\"champExperience\"])"
   ]
  },
  {
   "cell_type": "code",
   "execution_count": 131,
   "id": "b293e366",
   "metadata": {},
   "outputs": [
    {
     "name": "stdout",
     "output_type": "stream",
     "text": [
      "13145.71336293904\n"
     ]
    }
   ],
   "source": [
    "somme = sum(CarryExp)\n",
    "moyenne = somme / len(CarryExp)\n",
    "print(moyenne)"
   ]
  },
  {
   "cell_type": "code",
   "execution_count": null,
   "id": "b9e8c07e",
   "metadata": {},
   "outputs": [],
   "source": []
  },
  {
   "cell_type": "code",
   "execution_count": null,
   "id": "464c0661",
   "metadata": {},
   "outputs": [],
   "source": []
  },
  {
   "cell_type": "code",
   "execution_count": null,
   "id": "8cd3bfa2",
   "metadata": {},
   "outputs": [],
   "source": []
  },
  {
   "cell_type": "code",
   "execution_count": null,
   "id": "1cd5e3de",
   "metadata": {},
   "outputs": [],
   "source": []
  }
 ],
 "metadata": {
  "kernelspec": {
   "display_name": "Python 3 (ipykernel)",
   "language": "python",
   "name": "python3"
  },
  "language_info": {
   "codemirror_mode": {
    "name": "ipython",
    "version": 3
   },
   "file_extension": ".py",
   "mimetype": "text/x-python",
   "name": "python",
   "nbconvert_exporter": "python",
   "pygments_lexer": "ipython3",
   "version": "3.9.7"
  }
 },
 "nbformat": 4,
 "nbformat_minor": 5
}
