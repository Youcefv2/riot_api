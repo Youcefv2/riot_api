{
 "cells": [
  {
   "cell_type": "code",
   "execution_count": 1,
   "id": "18f8a218",
   "metadata": {},
   "outputs": [],
   "source": [
    "import requests, json, time\n",
    "\n",
    "# files\n",
    "ChampPickedCounterFile = open(\"ChampPickedCounter.txt\", \"w\")\n",
    "champWinRateFile = open(\"champWinRate.txt\", \"w\")\n",
    "ChampWinListFile = open(\"ChampWinList.txt\", \"w\")\n",
    "ChampLoseListCounterFile = open(\"ChampLoseListCounter.txt\", \"w\")\n",
    "GamesInfoFile = open(\"GamesInfo.txt\", \"w\")\n",
    "\n",
    "# variables \n",
    "Patch = \"11.24.1\"\n",
    "MinimumGamesPlayed = 100\n",
    "Champion = \"Evelynn\""
   ]
  },
  {
   "cell_type": "code",
   "execution_count": 2,
   "id": "9bc01fb5",
   "metadata": {
    "scrolled": true
   },
   "outputs": [],
   "source": [
    "# Recupere la list des chall\n",
    "api_key = \"RGAPI-034a4ddc-4862-4229-80cf-face74a491d9\"\n",
    "GetChallPlayers = \"https://euw1.api.riotgames.com/lol/league/v4/challengerleagues/by-queue/RANKED_SOLO_5x5\"+ \"?api_key=\" + api_key\n",
    "response1 = requests.get(GetChallPlayers).json()"
   ]
  },
  {
   "cell_type": "code",
   "execution_count": 3,
   "id": "66c388c6",
   "metadata": {
    "scrolled": true
   },
   "outputs": [
    {
     "name": "stdout",
     "output_type": "stream",
     "text": [
      "11 : 46 : 02\n",
      "end\n",
      "11 : 56 : 40\n",
      "11 : 56 : 40\n",
      "end\n",
      "12 : 07 : 16\n",
      "2443\n",
      "1638\n",
      "12 : 07 : 16\n",
      "end\n",
      "13 : 06 : 44\n"
     ]
    }
   ],
   "source": [
    "# recupere le puuid des chall\n",
    "print (time.strftime(\"%H : %M : %S\"))\n",
    "info = (response1['entries'])\n",
    "playersPuuid = []\n",
    "playersName = []\n",
    "for i in range(299):\n",
    "        GetPlayersPuuid = \"https://euw1.api.riotgames.com/lol/summoner/v4/summoners/\"+info[i]['summonerId']+ \"?api_key=\" + api_key\n",
    "        response2 = requests.get(GetPlayersPuuid).json()\n",
    "        playersPuuid.append(response2[\"puuid\"])\n",
    "        time.sleep(2)\n",
    "print(\"end\")\n",
    "print (time.strftime(\"%H : %M : %S\"))\n",
    "# recupere les 20 dernieres games de chaque joueur depuis une certaine date\n",
    "print (time.strftime(\"%H : %M : %S\"))\n",
    "PlayersGames = []\n",
    "date = \"1639029600\"\n",
    "for i in range(299):\n",
    "        GetPlayersGames = \"https://europe.api.riotgames.com/lol/match/v5/matches/by-puuid/\" + playersPuuid[i] + \"/ids?startTime=\" + date +\"&queue=420&type=ranked&start=0&count=20&api_key=\" + api_key\n",
    "        response2 = requests.get(GetPlayersGames).json()\n",
    "        PlayersGames = PlayersGames + response2\n",
    "        time.sleep(2)\n",
    "print(\"end\")\n",
    "print (time.strftime(\"%H : %M : %S\"))\n",
    "PlayersGames.sort()\n",
    "# verifie que la liste des games a ete trie\n",
    "print(len(PlayersGames))\n",
    "PlayersGames = list(set(PlayersGames))\n",
    "seen = set()\n",
    "result = []\n",
    "for item in PlayersGames:\n",
    "    if item not in seen:\n",
    "        seen.add(item)\n",
    "        result.append(item)\n",
    "print(len(result))\n",
    "# recupere les infos de chaque game\n",
    "print (time.strftime(\"%H : %M : %S\"))\n",
    "GamesInfo = []\n",
    "PlayersGamesRange = len(PlayersGames) - 1\n",
    "for i in range(PlayersGamesRange):\n",
    "    GetGamesInfo = \"https://europe.api.riotgames.com/lol/match/v5/matches/\" + PlayersGames[i] + \"?api_key=\" + api_key\n",
    "    response3 = requests.get(GetGamesInfo).json()\n",
    "    GamesInfo.append(response3)\n",
    "    time.sleep(2)\n",
    "print(\"end\")\n",
    "print (time.strftime(\"%H : %M : %S\"))\n"
   ]
  },
  {
   "cell_type": "code",
   "execution_count": 13,
   "id": "bf7db7e1",
   "metadata": {
    "scrolled": true
   },
   "outputs": [],
   "source": [
    "#nb de games par champions\n",
    "# recupere la liste des champions joue sur toutes les games dispo, et on tri par ordre alphabet\n",
    "from operator import itemgetter\n",
    "champsList = []\n",
    "count = len(GamesInfo) - 1\n",
    "for j in range (count):\n",
    "    for i in range (10):\n",
    "        champsList.append(GamesInfo[j][\"info\"][\"participants\"][i][\"championName\"])\n",
    "# compte le nombre d apparition d un champion\n",
    "ChampWinList = [[x,champsList.count(x)] for x in set(champsList)]\n",
    "ChampPickedCounter = [[x,champsList.count(x)] for x in set(champsList)]\n",
    "# pour trier par nb de games : , key=itemgetter(1), reverse=True\n",
    "ChampPickedCounter = sorted(ChampPickedCounter)\n",
    "ChampWinList = sorted(ChampWinList)\n",
    "#nb de loose par champions\n",
    "# recupere la liste des champions joue sur toutes les games dispo, et on tri par ordre alphabet\n",
    "from operator import itemgetter\n",
    "ChampLoseList = []\n",
    "count = len(GamesInfo) - 1\n",
    "for j in range (count):\n",
    "    for i in range (10):\n",
    "        if GamesInfo[j][\"info\"][\"participants\"][i][\"win\"] == False:\n",
    "            ChampLoseList.append(GamesInfo[j][\"info\"][\"participants\"][i][\"championName\"])\n",
    "# compte le nombre d apparition d un champion\n",
    "ChampLoseListCounter = [[x,ChampLoseList.count(x)] for x in set(ChampLoseList)]\n",
    "# pour trier par nb de games : , key=itemgetter(1), reverse=True\n",
    "ChampLoseListCounter = sorted(ChampLoseListCounter)\n",
    "#nb de games loose par champions\n",
    "import copy\n",
    "champWinRate = []\n",
    "countLose =  len(ChampLoseListCounter) - 1\n",
    "countPick = len(ChampPickedCounter) - 1\n",
    "# calcul du winrate d un champion \n",
    "for i in range (countPick):\n",
    "    for j in range (countLose):\n",
    "        if ChampWinList[i][0] == ChampLoseListCounter[j][0]:\n",
    "            ChampWinList[i][1] = ChampWinList[i][1] - ChampLoseListCounter[j][1]\n",
    "            winrate = round(ChampWinList[i][1] * 100 / ChampPickedCounter[i][1], 2)\n",
    "            if ChampPickedCounter[i][1] > MinimumGamesPlayed:\n",
    "                champWinRate.append([ChampWinList[i][0], winrate])\n",
    "champWinRate = sorted(champWinRate, key=lambda x: x[1], reverse=True)"
   ]
  },
  {
   "cell_type": "code",
   "execution_count": 14,
   "id": "badfebc6",
   "metadata": {},
   "outputs": [
    {
     "name": "stdout",
     "output_type": "stream",
     "text": [
      "------------Picks-----------------\n",
      "[['LeeSin', 552], ['Viego', 452], ['Jinx', 415], ['Jhin', 398], ['Kaisa', 368], ['Lux', 352], ['Qiyana', 344], ['Viktor', 335], ['Yone', 332], ['Lulu', 323], ['Jayce', 318], ['Caitlyn', 295], ['Ezreal', 293], ['Akshan', 288], ['Zed', 263], ['Karma', 254], ['Akali', 247], ['Vex', 242], ['Rakan', 241], ['Graves', 240], ['Talon', 234], ['Irelia', 232], ['Thresh', 227], ['Lucian', 217], ['Syndra', 217], ['Corki', 211], ['Fiora', 210], ['Nami', 207], ['Janna', 200], ['Sylas', 200], ['Yasuo', 195], ['Nidalee', 193], ['Leona', 181], ['Gragas', 178], ['Leblanc', 173], ['Ekko', 170], ['XinZhao', 165], ['Nautilus', 160], ['Pyke', 158], ['Vayne', 148], ['TwistedFate', 147], ['Aphelios', 141], ['Draven', 141], ['Kayn', 132], ['Singed', 119], ['Camille', 113], ['Bard', 112], ['Twitch', 112], ['Sona', 109], ['Zoe', 109], ['Jax', 108], ['Kassadin', 102], ['Xerath', 102], ['Ashe', 96], ['Riven', 91], ['Orianna', 89], ['Tryndamere', 88], ['Yuumi', 88], ['Gwen', 86], ['Ryze', 83], ['Hecarim', 82], ['Blitzcrank', 81], ['Karthus', 81], ['Urgot', 81], ['Xayah', 81], ['Khazix', 79], ['Renekton', 77], ['Warwick', 77], ['Soraka', 76], ['Gangplank', 74], ['Varus', 72], ['Ornn', 70], ['Pantheon', 70], ['TahmKench', 70], ['Poppy', 69], ['Rengar', 69], ['Ziggs', 69], ['Vladimir', 68], ['Zilean', 67], ['Sett', 66], ['Rumble', 62], ['Kennen', 61], ['Rell', 60], ['Shen', 59], ['Tristana', 58], ['Sion', 57], ['Trundle', 57], ['KogMaw', 55], ['Darius', 54], ['Kayle', 53], ['Senna', 53], ['Cassiopeia', 49], ['Aatrox', 48], ['RekSai', 47], ['MissFortune', 46], ['JarvanIV', 45], ['Evelynn', 44], ['Galio', 44], ['Katarina', 44], ['Kindred', 44], ['Morgana', 44], ['Samira', 44], ['Alistar', 42], ['Braum', 41], ['Malphite', 41], ['Teemo', 41], ['Seraphine', 40], ['Brand', 39], ['Fizz', 38], ['Shaco', 38], ['Veigar', 38], ['Lillia', 33], ['Kalista', 32], ['Nunu', 32], ['Taric', 32], ['MasterYi', 31], ['Ivern', 30], ['Quinn', 30], ['Sejuani', 28], ['Taliyah', 28], ['FiddleSticks', 27], ['Chogath', 26], ['Diana', 24], ['Olaf', 24], ['Annie', 23], ['MonkeyKing', 23], ['Anivia', 21], ['Nasus', 21], ['Neeko', 21], ['Zac', 21], ['Lissandra', 18], ['Ahri', 16], ['Azir', 16], ['DrMundo', 15], ['Elise', 15], ['Gnar', 15], ['Kled', 15], ['Malzahar', 15], ['Maokai', 15], ['Sivir', 15], ['Vi', 15], ['Nocturne', 14], ['Velkoz', 14], ['Volibear', 13], ['Swain', 12], ['Udyr', 11], ['Zyra', 10], ['Amumu', 8], ['Heimerdinger', 7], ['Illaoi', 7], ['Shyvana', 6], ['Garen', 5], ['Yorick', 5], ['Rammus', 4], ['Mordekaiser', 3], ['Skarner', 3]]\n",
      "-------------Win rate----------------\n",
      "[['TwistedFate', 57.82], ['Camille', 57.52], ['Janna', 57.5], ['Leblanc', 56.65], ['Thresh', 55.95], ['Lulu', 55.73], ['Sona', 55.05], ['Jhin', 54.27], ['Vex', 54.13], ['Xerath', 53.92], ['Kayn', 53.79], ['Gragas', 53.37], ['Qiyana', 53.2], ['Draven', 53.19], ['Karma', 53.15], ['Lucian', 53.0], ['Jax', 52.78], ['Vayne', 52.7], ['Jinx', 52.53], ['Sylas', 52.5], ['Viktor', 52.24], ['LeeSin', 51.99], ['Graves', 51.25], ['Rakan', 51.04], ['Kassadin', 50.98], ['Nami', 50.72], ['Singed', 50.42], ['Yone', 50.3], ['Viego', 50.22], ['Syndra', 49.77], ['Nidalee', 49.74], ['XinZhao', 49.7], ['Zoe', 49.54], ['Fiora', 49.52], ['Ekko', 49.41], ['Pyke', 49.37], ['Talon', 47.86], ['Akshan', 47.57], ['Nautilus', 47.5], ['Twitch', 47.32], ['Zed', 47.15], ['Kaisa', 46.74], ['Akali', 46.56], ['Bard', 46.43], ['Lux', 46.31], ['Leona', 45.86], ['Yasuo', 45.64], ['Jayce', 45.28], ['Caitlyn', 45.08], ['Irelia', 44.83], ['Aphelios', 42.55], ['Ezreal', 40.96], ['Corki', 39.81]]\n",
      "------------win nb-----------------\n",
      "[['Aatrox', 30], ['Ahri', 9], ['Akali', 115], ['Akshan', 137], ['Alistar', 24], ['Amumu', 4], ['Anivia', 13], ['Annie', 17], ['Aphelios', 60], ['Ashe', 50], ['Azir', 7], ['Bard', 52], ['Blitzcrank', 41], ['Brand', 18], ['Braum', 22], ['Caitlyn', 133], ['Camille', 65], ['Cassiopeia', 30], ['Chogath', 10], ['Corki', 84], ['Darius', 29], ['Diana', 12], ['DrMundo', 6], ['Draven', 75], ['Ekko', 84], ['Elise', 5], ['Evelynn', 20], ['Ezreal', 120], ['FiddleSticks', 18], ['Fiora', 104], ['Fizz', 19], ['Galio', 24], ['Gangplank', 39], ['Garen', 1], ['Gnar', 9], ['Gragas', 95], ['Graves', 123], ['Gwen', 42], ['Hecarim', 46], ['Heimerdinger', 4], ['Illaoi', 3], ['Irelia', 104], ['Ivern', 12], ['Janna', 115], ['JarvanIV', 25], ['Jax', 57], ['Jayce', 144], ['Jhin', 216], ['Jinx', 218], ['Kaisa', 172], ['Kalista', 15], ['Karma', 135], ['Karthus', 30], ['Kassadin', 52], ['Katarina', 18], ['Kayle', 23], ['Kayn', 71], ['Kennen', 27], ['Khazix', 46], ['Kindred', 22], ['Kled', 7], ['KogMaw', 32], ['Leblanc', 98], ['LeeSin', 287], ['Leona', 83], ['Lillia', 17], ['Lissandra', 8], ['Lucian', 115], ['Lulu', 180], ['Lux', 163], ['Malphite', 18], ['Malzahar', 8], ['Maokai', 9], ['MasterYi', 12], ['MissFortune', 21], ['MonkeyKing', 10], ['Mordekaiser', 1], ['Morgana', 23], ['Nami', 105], ['Nasus', 8], ['Nautilus', 76], ['Neeko', 14], ['Nidalee', 96], ['Nocturne', 4], ['Nunu', 12], ['Olaf', 9], ['Orianna', 44], ['Ornn', 33], ['Pantheon', 43], ['Poppy', 40], ['Pyke', 78], ['Qiyana', 183], ['Quinn', 19], ['Rakan', 123], ['Rammus', 1], ['RekSai', 32], ['Rell', 27], ['Renekton', 39], ['Rengar', 36], ['Riven', 44], ['Rumble', 30], ['Ryze', 35], ['Samira', 21], ['Sejuani', 14], ['Senna', 25], ['Seraphine', 20], ['Sett', 35], ['Shaco', 19], ['Shen', 33], ['Shyvana', 3], ['Singed', 60], ['Sion', 20], ['Sivir', 5], ['Skarner', 0], ['Sona', 60], ['Soraka', 36], ['Swain', 7], ['Sylas', 105], ['Syndra', 108], ['TahmKench', 39], ['Taliyah', 14], ['Talon', 112], ['Taric', 12], ['Teemo', 14], ['Thresh', 127], ['Tristana', 39], ['Trundle', 25], ['Tryndamere', 49], ['TwistedFate', 85], ['Twitch', 53], ['Udyr', 6], ['Urgot', 34], ['Varus', 32], ['Vayne', 78], ['Veigar', 27], ['Velkoz', 3], ['Vex', 131], ['Vi', 6], ['Viego', 227], ['Viktor', 175], ['Vladimir', 31], ['Volibear', 5], ['Warwick', 41], ['Xayah', 37], ['Xerath', 55], ['XinZhao', 82], ['Yasuo', 89], ['Yone', 167], ['Yorick', 3], ['Yuumi', 39], ['Zac', 9], ['Zed', 124], ['Ziggs', 31], ['Zilean', 27], ['Zoe', 54], ['Zyra', 10]]\n",
      "-------------lose nb----------------\n",
      "[['Aatrox', 18], ['Ahri', 7], ['Akali', 132], ['Akshan', 151], ['Alistar', 18], ['Amumu', 4], ['Anivia', 8], ['Annie', 6], ['Aphelios', 81], ['Ashe', 46], ['Azir', 9], ['Bard', 60], ['Blitzcrank', 40], ['Brand', 21], ['Braum', 19], ['Caitlyn', 162], ['Camille', 48], ['Cassiopeia', 19], ['Chogath', 16], ['Corki', 127], ['Darius', 25], ['Diana', 12], ['DrMundo', 9], ['Draven', 66], ['Ekko', 86], ['Elise', 10], ['Evelynn', 24], ['Ezreal', 173], ['FiddleSticks', 9], ['Fiora', 106], ['Fizz', 19], ['Galio', 20], ['Gangplank', 35], ['Garen', 4], ['Gnar', 6], ['Gragas', 83], ['Graves', 117], ['Gwen', 44], ['Hecarim', 36], ['Heimerdinger', 3], ['Illaoi', 4], ['Irelia', 128], ['Ivern', 18], ['Janna', 85], ['JarvanIV', 20], ['Jax', 51], ['Jayce', 174], ['Jhin', 182], ['Jinx', 197], ['Kaisa', 196], ['Kalista', 17], ['Karma', 119], ['Karthus', 51], ['Kassadin', 50], ['Katarina', 26], ['Kayle', 30], ['Kayn', 61], ['Kennen', 34], ['Khazix', 33], ['Kindred', 22], ['Kled', 8], ['KogMaw', 23], ['Leblanc', 75], ['LeeSin', 265], ['Leona', 98], ['Lillia', 16], ['Lissandra', 10], ['Lucian', 102], ['Lulu', 143], ['Lux', 189], ['Malphite', 23], ['Malzahar', 7], ['Maokai', 6], ['MasterYi', 19], ['MissFortune', 25], ['MonkeyKing', 13], ['Mordekaiser', 2], ['Morgana', 21], ['Nami', 102], ['Nasus', 13], ['Nautilus', 84], ['Neeko', 7], ['Nidalee', 97], ['Nocturne', 10], ['Nunu', 20], ['Olaf', 15], ['Orianna', 45], ['Ornn', 37], ['Pantheon', 27], ['Poppy', 29], ['Pyke', 80], ['Qiyana', 161], ['Quinn', 11], ['Rakan', 118], ['Rammus', 3], ['RekSai', 15], ['Rell', 33], ['Renekton', 38], ['Rengar', 33], ['Riven', 47], ['Rumble', 32], ['Ryze', 48], ['Samira', 23], ['Sejuani', 14], ['Senna', 28], ['Seraphine', 20], ['Sett', 31], ['Shaco', 19], ['Shen', 26], ['Shyvana', 3], ['Singed', 59], ['Sion', 37], ['Sivir', 10], ['Skarner', 3], ['Sona', 49], ['Soraka', 40], ['Swain', 5], ['Sylas', 95], ['Syndra', 109], ['TahmKench', 31], ['Taliyah', 14], ['Talon', 122], ['Taric', 20], ['Teemo', 27], ['Thresh', 100], ['Tristana', 19], ['Trundle', 32], ['Tryndamere', 39], ['TwistedFate', 62], ['Twitch', 59], ['Udyr', 5], ['Urgot', 47], ['Varus', 40], ['Vayne', 70], ['Veigar', 11], ['Velkoz', 11], ['Vex', 111], ['Vi', 9], ['Viego', 225], ['Viktor', 160], ['Vladimir', 37], ['Volibear', 8], ['Warwick', 36], ['Xayah', 44], ['Xerath', 47], ['XinZhao', 83], ['Yasuo', 106], ['Yone', 165], ['Yorick', 2], ['Yuumi', 49], ['Zac', 12], ['Zed', 139], ['Ziggs', 38], ['Zilean', 40], ['Zoe', 55], ['Zyra', 7]]\n"
     ]
    }
   ],
   "source": [
    "# on affiche toutes nos donnees\n",
    "\n",
    "print(\"------------Picks-----------------\")\n",
    "print(sorted(ChampPickedCounter, key=lambda x: x[1], reverse=True))\n",
    "print(\"-------------Win rate----------------\")\n",
    "print(champWinRate)\n",
    "print(\"------------win nb-----------------\")\n",
    "print(ChampWinList)\n",
    "print(\"-------------lose nb----------------\")\n",
    "print(ChampLoseListCounter)"
   ]
  },
  {
   "cell_type": "code",
   "execution_count": 15,
   "id": "7ae69a17",
   "metadata": {
    "scrolled": true
   },
   "outputs": [
    {
     "name": "stdout",
     "output_type": "stream",
     "text": [
      "[3020, 3152, 4645, 1082, 0, 3135, 3152, 1026, 3089, 0, 3041, 3020, 3089, 3041, 3152, 3020, 3100, 1026, 3152, 1058, 3020, 1082, 3102, 1058, 3152, 2031, 3020, 3089, 3113, 3041, 3152, 3089, 3102, 3041, 3135, 3020, 3152, 2031, 3020, 1082, 1058, 3145, 3152, 3089, 3041, 3135, 3020, 3108, 3152, 3100, 3089, 0, 3102, 3020, 3020, 3135, 3152, 3041, 1058, 1058, 1052, 3152, 3041, 3020, 0, 0, 2031, 3152, 3041, 0, 3020, 0, 3020, 2031, 3041, 3089, 0, 3152, 2422, 2031, 3152, 3041, 1052, 0, 3152, 4645, 4630, 3020, 3089, 0, 3152, 3102, 3041, 3020, 0, 0, 3152, 3020, 3089, 3145, 1082, 0, 3102, 3100, 3152, 3089, 3020, 3135, 3020, 1026, 3152, 3041, 3089, 0, 4645, 3135, 3152, 3089, 4629, 3020, 3152, 3041, 3102, 3020, 4630, 3089, 3020, 4645, 3152, 3041, 1026, 1052, 1058, 2031, 3152, 3041, 3020, 4645, 3152, 3100, 4629, 3102, 3089, 3041, 3152, 1026, 3020, 1082, 3102, 4630, 2055, 2031, 3152, 3041, 3089, 3020, 3020, 3135, 3152, 3041, 0, 1028, 3020, 3057, 3152, 1082, 1026, 3113, 3152, 3020, 3041, 3089, 3135, 1058, 3152, 3108, 3041, 3020, 3089, 1052, 1058, 3041, 3152, 3020, 3135, 0, 3020, 3041, 3152, 4645, 1058, 0, 3135, 4632, 3152, 1082, 3020, 3108, 3152, 3089, 3020, 1082, 0, 0, 3089, 3020, 3152, 3102, 3135, 1052, 3041, 3135, 3152, 3020, 3089, 0, 3020, 3102, 3152, 1082, 4645, 1058, 4636, 3102, 3041, 3020, 3089, 0, 0, 3089, 3152, 4645, 3020, 1052, 3020, 3152, 1026, 3041, 4645, 0, 3152, 3041, 0, 0, 0, 3020, 3152, 3089, 3135, 3020, 3102, 0, 2422, 2031, 3152, 3041, 1052, 0, 3152, 1058, 3020, 4645, 1058, 3041]\n",
      "[['Hextech Rocketbelt', 43], [\"Sorcerer's Shoes\", 41], ['null', 28], [\"Mejai's Soulstealer\", 28], [\"Rabadon's Deathcap\", 23], ['Void Staff', 13], [\"Banshee's Veil\", 12], ['Needlessly Large Rod', 12], ['Shadowflame', 10], ['Dark Seal', 9], ['Refillable Potion', 8], ['Blasting Wand', 7], ['Amplifying Tome', 7], ['Lich Bane', 4], ['Blighting Jewel', 3], ['Fiendish Codex', 3], ['Cosmic Drive', 2], ['Aether Wisp', 2], ['Hextech Alternator', 2], ['Slightly Magical Footwear', 2], ['Ruby Crystal', 1], ['Control Ward', 1], ['Verdant Barrier', 1], ['Night Harvester', 1], ['Sheen', 1]]\n"
     ]
    }
   ],
   "source": [
    "# Calcul du nombre d'occurrences des items pour un champion donne\n",
    "ItemList = []\n",
    "WinOrNot = True\n",
    "for e in range(count):\n",
    "    for i in range(10):\n",
    "        for j in range(6):\n",
    "            if GamesInfo[e][\"info\"][\"participants\"][i][\"championName\"] == Champion:\n",
    "#                 est ce que c est une game win ou non (peut etre mis en commit)\n",
    "#                 if GamesInfo[e][\"info\"][\"participants\"][i][\"win\"] == TrueOrFalse:\n",
    "                    ItemList.append(GamesInfo[e][\"info\"][\"participants\"][i][\"item\" + str(j)])\n",
    "print(ItemList)\n",
    "ItemListcounter = [[x,ItemList.count(x)] for x in set(ItemList)]\n",
    "ItemListcounter = sorted(ItemListcounter, key=lambda x: x[1], reverse=True)\n",
    "\n",
    "# on change l'alias des items pour leur nom\n",
    "GetItemInfo = requests.get('https://ddragon.leagueoflegends.com/cdn/'+ Patch +'/data/en_US/item.json').json()\n",
    "for i in range(len(ItemListcounter)):\n",
    "    if ItemListcounter[i][0] != 0:\n",
    "        number = str(ItemListcounter[i][0])\n",
    "        ItemListcounter[i][0] = GetItemInfo[\"data\"][str(number)][\"name\"]\n",
    "    if ItemListcounter[i][0] == 0:\n",
    "        ItemListcounter[i][0] = \"null\"\n",
    "        \n",
    "print(ItemListcounter)"
   ]
  },
  {
   "cell_type": "code",
   "execution_count": 16,
   "id": "a02865cc",
   "metadata": {},
   "outputs": [
    {
     "name": "stdout",
     "output_type": "stream",
     "text": [
      "Winrate with inhibitor killed first 73.61\n"
     ]
    }
   ],
   "source": [
    "# calcul du winrate par rapport au premier objectif\n",
    "GamesFirstObjWin = 0\n",
    "Obj = \"inhibitor\"\n",
    "GameWin = True\n",
    "FirstObj = True\n",
    "for i in range(len(GamesInfo)):\n",
    "    for e in range(2):\n",
    "        if GamesInfo[i][\"info\"][\"teams\"][e][\"win\"] == GameWin and GamesInfo[i][\"info\"][\"teams\"][e][\"objectives\"][Obj][\"first\"] == FirstObj:\n",
    "            GamesFirstObjWin = GamesFirstObjWin + 1\n",
    "GamesFirstObjWinRate = GamesFirstObjWin * 100  / len(GamesInfo)\n",
    "GamesFirstObjWinRate = round(GamesFirstObjWinRate, 2)\n",
    "print(\"Winrate with\",Obj,\"killed first\",GamesFirstObjWinRate)"
   ]
  },
  {
   "cell_type": "code",
   "execution_count": 17,
   "id": "568f1549",
   "metadata": {},
   "outputs": [
    {
     "name": "stdout",
     "output_type": "stream",
     "text": [
      "Most banned champ : [['Talon', 1232], ['Akshan', 964], ['Yuumi', 893], ['Kassadin', 797], ['Viktor', 657], ['Qiyana', 629], ['Irelia', 594], ['Draven', 492], ['Jax', 474], ['Yone', 463], ['Viego', 457], ['Fiora', 444], ['Lulu', 407], ['LeeSin', 404], ['Leblanc', 376], ['Zed', 332], ['Vex', 296], ['Tryndamere', 277], ['Evelynn', 275], ['Katarina', 250], ['Jinx', 221], ['Camille', 170], ['Rengar', 167], ['Thresh', 158], ['Jayce', 152], ['Lucian', 135], ['Akali', 132], ['Karthus', 128], ['Bard', 117], ['Yasuo', 112], ['TwistedFate', 111], ['Nami', 96], ['Lux', 93], ['Kayn', 91], ['Jhin', 90], ['Nidalee', 85], ['Vayne', 81], ['Singed', 79], ['Nunu', 75], ['Karma', 75], ['Hecarim', 74], ['Kaisa', 73], ['TahmKench', 72], ['Khazix', 71], ['Darius', 69], ['Corki', 67], ['Malphite', 65], ['Sona', 62], ['Leona', 61], ['Caitlyn', 58], ['Riven', 58], ['XinZhao', 55], ['Xerath', 52], ['Anivia', 49], ['Zilean', 46], ['Xayah', 45], ['Blitzcrank', 43], ['Sett', 43], ['Pyke', 42], ['Shaco', 40], ['Nautilus', 40], ['Janna', 39], ['Poppy', 37], ['Graves', 37], ['Vladimir', 30], ['Twitch', 29], ['Warwick', 27], ['Rakan', 27], ['Sylas', 25], ['Aphelios', 25], ['Nocturne', 25], ['Zoe', 25], ['Kennen', 24], ['Syndra', 24], ['Soraka', 21], ['Ezreal', 21], ['MasterYi', 20], ['Teemo', 19], ['Gwen', 19], ['Renekton', 18], ['Morgana', 16], ['Shen', 16], ['Urgot', 15], ['Fiddlesticks', 15], ['Kindred', 15], ['Ivern', 15], ['Ekko', 13], ['RekSai', 13], ['Ziggs', 11], ['Samira', 11], ['Trundle', 10], ['KogMaw', 10], ['Annie', 9], ['Kayle', 9], ['Udyr', 8], ['Gragas', 8], ['Pantheon', 8], ['Elise', 7], ['Aatrox', 7], ['Sion', 6], ['Amumu', 6], ['Fizz', 6], ['Alistar', 5], ['Rammus', 5], ['Ornn', 5], ['Braum', 5], ['Brand', 4], ['Heimerdinger', 4], ['Varus', 4], ['Illaoi', 4], ['Kalista', 4], ['Cassiopeia', 3], ['Malzahar', 3], ['Ashe', 2], ['DrMundo', 2], ['Veigar', 2], ['Gangplank', 2], ['MonkeyKing', 2], ['Ryze', 2], ['Ahri', 2], ['AurelionSol', 2], ['Taliyah', 2], ['Lillia', 2], ['Galio', 1], ['Tristana', 1], ['MissFortune', 1], ['Taric', 1], ['Neeko', 1], ['Maokai', 1], ['Orianna', 1], ['Rumble', 1], ['Nasus', 1], ['Mordekaiser', 1], ['Yorick', 1], ['Garen', 1], ['Shyvana', 1], ['Volibear', 1], ['Diana', 1], ['Gnar', 1], ['Zac', 1], ['Velkoz', 1], ['Senna', 1], ['Kled', 1], ['Vi', 1], ['Azir', 1]]\n"
     ]
    }
   ],
   "source": [
    "# creation d un dictionaire avec la key et le nom du champion\n",
    "bannedchamp = []\n",
    "GetChampName = requests.get('https://ddragon.leagueoflegends.com/cdn/'+ Patch +'/data/en_US/champion.json').json()\n",
    "ChampNameList = []\n",
    "for k in GetChampName[\"data\"]:\n",
    "    ChampNameList.append(k)\n",
    "ChampListKey = []\n",
    "for i in range(len(ChampNameList)):\n",
    "    ChampListKey.append([ChampNameList[i], GetChampName[\"data\"][ChampNameList[i]][\"key\"]])\n",
    "\n",
    "# calcul du nombre de ban d un champion\n",
    "for f in range(len(GamesInfo)):\n",
    "    for e in range(2):\n",
    "        for i in range(5):\n",
    "            if GamesInfo[f][\"info\"][\"teams\"][e][\"bans\"][i][\"championId\"] != -1:\n",
    "                bannedchamp.append(GamesInfo[f][\"info\"][\"teams\"][e][\"bans\"][i][\"championId\"])\n",
    "bannedchamp = [[x,bannedchamp.count(x)] for x in set(bannedchamp)]\n",
    "bannedchamp = sorted(bannedchamp, key=lambda x: x[1], reverse=True)\n",
    "\n",
    "# on change la key par le nom du champion\n",
    "for i in range(len(bannedchamp)):\n",
    "    for e in range(len(ChampListKey)):\n",
    "        if str(bannedchamp[i][0]) == ChampListKey[e][1]:\n",
    "            bannedchamp[i][0] = ChampListKey[e][0]\n",
    "print(\"Most banned champ :\", bannedchamp)"
   ]
  },
  {
   "cell_type": "code",
   "execution_count": 18,
   "id": "eae1ee15",
   "metadata": {},
   "outputs": [
    {
     "name": "stdout",
     "output_type": "stream",
     "text": [
      "Blue side win :  833\n",
      "Blue side lose :  804\n"
     ]
    }
   ],
   "source": [
    "WinBlueCount = 0\n",
    "\n",
    "LoseBlueCount = 0\n",
    "\n",
    "for i in range(len(GamesInfo)):\n",
    "    if GamesInfo[i][\"info\"][\"teams\"][0][\"win\"] == True:\n",
    "        WinBlueCount = WinBlueCount + 1\n",
    "    elif GamesInfo[i][\"info\"][\"teams\"][0][\"win\"] == False:\n",
    "        LoseBlueCount = LoseBlueCount + 1\n",
    "\n",
    "print(\"Blue side win : \",WinBlueCount)\n",
    "\n",
    "print(\"Blue side lose : \",LoseBlueCount)\n"
   ]
  },
  {
   "cell_type": "code",
   "execution_count": 87,
   "id": "012c7ac6",
   "metadata": {},
   "outputs": [],
   "source": [
    "#Average game time \n",
    "GameTime = []\n",
    "AverageTime = 0\n",
    "for i in range(len(GamesInfo)):\n",
    "    GameTime.append(GamesInfo[i][\"info\"][\"gameDuration\"])\n",
    "AverageTime = round(sum(GameTime) / len(GameTime), 2)\n",
    "AverageTimeInMinute = time.strftime(\"%M:%S\", time.localtime(AverageTime))\n",
    "\n",
    "# calcul du gain d exp et de gold des supports\n",
    "SupportGoldEarned = []\n",
    "SupportExp = []\n",
    "AverageSupportGold = 0\n",
    "AverageSupportExp = 0\n",
    "for i in range(len(GamesInfo)):\n",
    "    for e in range(10):\n",
    "        if GamesInfo[i][\"info\"][\"participants\"][e][\"role\"] == \"SUPPORT\":\n",
    "            SupportGoldEarned.append(GamesInfo[i][\"info\"][\"participants\"][e][\"goldEarned\"])\n",
    "AverageSupportGold = sum(SupportGoldEarned) / len(SupportGoldEarned)\n",
    "AverageSupportGold = round(AverageSupportGold, 2)\n",
    "AverageSupportGoldMin = round((AverageSupportGold / AverageTime) * 60, 2)\n",
    "\n",
    "for i in range(len(GamesInfo)):\n",
    "    for e in range(10):\n",
    "        if GamesInfo[i][\"info\"][\"participants\"][e][\"role\"] == \"SUPPORT\":\n",
    "            SupportExp.append(GamesInfo[i][\"info\"][\"participants\"][e][\"champExperience\"])\n",
    "AverageSupportExp = sum(SupportExp) / len(SupportExp)\n",
    "AverageSupportExp = round(AverageSupportExp, 2)\n",
    "AverageSupportExpMin = round((AverageSupportExp / AverageTime) * 60, 2)\n",
    "\n",
    "# calcul du gain d exp et de gold des jungler\n",
    "JunglerGoldEarned = []\n",
    "JunglerExp = []\n",
    "AverageJunglerExp = 0\n",
    "AverageJunglerGold = 0\n",
    "for i in range(len(GamesInfo)):\n",
    "    for e in range(10):\n",
    "        if GamesInfo[i][\"info\"][\"participants\"][e][\"individualPosition\"] == \"JUNGLE\":\n",
    "            JunglerGoldEarned.append(GamesInfo[i][\"info\"][\"participants\"][e][\"goldEarned\"])\n",
    "AverageJunglerGold = sum(JunglerGoldEarned) / len(JunglerGoldEarned)\n",
    "AverageJunglerGold = round(AverageJunglerGold, 2)\n",
    "AverageJunglerGoldMin = round((AverageJunglerGold / AverageTime) * 60, 2)\n",
    "\n",
    "for i in range(len(GamesInfo)):\n",
    "    for e in range(10):\n",
    "        if GamesInfo[i][\"info\"][\"participants\"][e][\"individualPosition\"] == \"JUNGLE\":\n",
    "            JunglerExp.append(GamesInfo[i][\"info\"][\"participants\"][e][\"champExperience\"])\n",
    "AverageJunglerExp = sum(JunglerExp) / len(JunglerExp)\n",
    "AverageJunglerExp = round(AverageJunglerExp, 2)\n",
    "AverageJunglerExpMin = round((AverageJunglerExp / AverageTime) * 60, 2)\n",
    "    \n",
    "# calcul du gain d exp et de gold des adc\n",
    "CarryGoldEarned = []\n",
    "CarryExp = []\n",
    "AverageCarryExp = 0\n",
    "AverageGoldExp = 0\n",
    "for i in range(len(GamesInfo)):\n",
    "    for e in range(10):\n",
    "        if GamesInfo[i][\"info\"][\"participants\"][e][\"role\"] == \"CARRY\":\n",
    "            CarryGoldEarned.append(GamesInfo[i][\"info\"][\"participants\"][e][\"goldEarned\"])\n",
    "AverageCarryGold = sum(CarryGoldEarned) / len(CarryGoldEarned)\n",
    "AverageCarryGold = round(AverageCarryGold, 2)\n",
    "AverageCarryGoldMin = round((AverageCarryGold / AverageTime) * 60, 2)\n",
    "\n",
    "for i in range(len(GamesInfo)):\n",
    "    for e in range(10):\n",
    "        if GamesInfo[i][\"info\"][\"participants\"][e][\"role\"] == \"CARRY\":\n",
    "            CarryExp.append(GamesInfo[i][\"info\"][\"participants\"][e][\"champExperience\"])\n",
    "AverageCarryExp = sum(CarryExp) / len(CarryExp)\n",
    "AverageCarryExp = round(AverageCarryExp, 2)\n",
    "AverageCarryExpMin = round((AverageCarryExp / AverageTime) * 60, 2)\n",
    "\n",
    "# calcul du gain d exp et de gold des mid\n",
    "MidGoldEarned = []\n",
    "MidExp = []\n",
    "AverageMidExp = 0\n",
    "AverageMidGold = 0\n",
    "for i in range(len(GamesInfo)):\n",
    "    for e in range(10):\n",
    "        if GamesInfo[i][\"info\"][\"participants\"][e][\"individualPosition\"] == \"MIDDLE\":\n",
    "            MidGoldEarned.append(GamesInfo[i][\"info\"][\"participants\"][e][\"goldEarned\"])\n",
    "AverageMidGold = sum(MidGoldEarned) / len(MidGoldEarned)\n",
    "AverageMidGold = round(AverageMidGold, 2)\n",
    "AverageMidGoldMin = round((AverageMidGold / AverageTime) * 60, 2)\n",
    "\n",
    "for i in range(len(GamesInfo)):\n",
    "    for e in range(10):\n",
    "        if GamesInfo[i][\"info\"][\"participants\"][e][\"individualPosition\"] == \"MIDDLE\":\n",
    "            MidExp.append(GamesInfo[i][\"info\"][\"participants\"][e][\"champExperience\"])\n",
    "AverageMidExp = sum(MidExp) / len(MidExp)\n",
    "AverageMidExp = round(AverageMidExp, 2)\n",
    "AverageMidExpMin = round((AverageMidExp / AverageTime) * 60, 2)\n",
    "\n",
    "# calcul du gain d exp et de gold des top\n",
    "TopGoldEarned = []\n",
    "TopExp = []\n",
    "AverageTopExp = 0\n",
    "AverageTopGold = 0\n",
    "for i in range(len(GamesInfo)):\n",
    "    for e in range(10):\n",
    "        if GamesInfo[i][\"info\"][\"participants\"][e][\"individualPosition\"] == \"TOP\":\n",
    "            TopGoldEarned.append(GamesInfo[i][\"info\"][\"participants\"][e][\"goldEarned\"])\n",
    "AverageTopGold = sum(TopGoldEarned) / len(TopGoldEarned)\n",
    "AverageTopGold = round(AverageTopGold, 2)\n",
    "AverageTopGoldMin = round((AverageTopGold / AverageTime) * 60, 2)\n",
    "\n",
    "for i in range(len(GamesInfo)):\n",
    "    for e in range(10):\n",
    "        if GamesInfo[i][\"info\"][\"participants\"][e][\"individualPosition\"] == \"TOP\":\n",
    "            TopExp.append(GamesInfo[i][\"info\"][\"participants\"][e][\"champExperience\"])\n",
    "AverageTopExp = sum(TopExp) / len(TopExp)\n",
    "AverageTopExp = round(AverageTopExp, 2)\n",
    "AverageTopExpMin = round((AverageTopExp / AverageTime) * 60, 2)"
   ]
  },
  {
   "cell_type": "code",
   "execution_count": 89,
   "id": "b293e366",
   "metadata": {},
   "outputs": [
    {
     "name": "stdout",
     "output_type": "stream",
     "text": [
      "427.02\n",
      "431.84\n",
      "436.32\n",
      "479.96\n",
      "291.51\n"
     ]
    }
   ],
   "source": [
    "print(AverageTopGoldMin)\n",
    "print(AverageJunglerGoldMin)\n",
    "print(AverageMidGoldMin)\n",
    "print(AverageCarryGoldMin)\n",
    "print(AverageSupportGoldMin)"
   ]
  },
  {
   "cell_type": "code",
   "execution_count": 77,
   "id": "b9e8c07e",
   "metadata": {},
   "outputs": [],
   "source": []
  },
  {
   "cell_type": "code",
   "execution_count": 82,
   "id": "464c0661",
   "metadata": {},
   "outputs": [
    {
     "name": "stdout",
     "output_type": "stream",
     "text": [
      "506.84\n"
     ]
    }
   ],
   "source": []
  },
  {
   "cell_type": "code",
   "execution_count": null,
   "id": "8cd3bfa2",
   "metadata": {},
   "outputs": [],
   "source": []
  },
  {
   "cell_type": "code",
   "execution_count": null,
   "id": "1cd5e3de",
   "metadata": {},
   "outputs": [],
   "source": []
  }
 ],
 "metadata": {
  "kernelspec": {
   "display_name": "Python 3 (ipykernel)",
   "language": "python",
   "name": "python3"
  },
  "language_info": {
   "codemirror_mode": {
    "name": "ipython",
    "version": 3
   },
   "file_extension": ".py",
   "mimetype": "text/x-python",
   "name": "python",
   "nbconvert_exporter": "python",
   "pygments_lexer": "ipython3",
   "version": "3.9.7"
  }
 },
 "nbformat": 4,
 "nbformat_minor": 5
}
