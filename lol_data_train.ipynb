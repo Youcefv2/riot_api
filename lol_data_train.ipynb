{
 "cells": [
  {
   "cell_type": "code",
   "execution_count": 1,
   "id": "8dc76555",
   "metadata": {},
   "outputs": [],
   "source": [
    "import requests\n",
    "import json\n",
    "import time\n",
    "import pandas as pd\n",
    "from operator import itemgetter\n",
    "# variables \n",
    "# patch note\n",
    "Patch = \"12.1.1\"\n",
    "# minimum games played for a champ win rate \n",
    "MinimumGamesPlayed = 10\n",
    "# specify champ name to get most buy items\n",
    "Champion = \"Renekton\"\n",
    "# objectiv you wanna win rate when took first\n",
    "Obj = \"inhibitor\"\n",
    "# did they win the game ?\n",
    "GameWin = True\n",
    "# did they took it first ?\n",
    "FirstObj = True\n",
    "date = \"1641373200\"\n",
    " "
   ]
  },
  {
   "cell_type": "code",
   "execution_count": 2,
   "id": "9bc01fb5",
   "metadata": {
    "scrolled": true
   },
   "outputs": [],
   "source": [
    "# Recupere la list des chall\n",
    "api_key = \"RGAPI-c27a6635-4e09-4603-a2f6-701f8aa557e8\"\n",
    "GetChallPlayers = \"https://euw1.api.riotgames.com/lol/league/v4/challengerleagues/by-queue/RANKED_SOLO_5x5\" + \"?api_key=\" + api_key\n",
    "response1 = requests.get(GetChallPlayers).json()\n"
   ]
  },
  {
   "cell_type": "code",
   "execution_count": 5,
   "id": "66c388c6",
   "metadata": {
    "scrolled": true
   },
   "outputs": [
    {
     "name": "stdout",
     "output_type": "stream",
     "text": [
      "10 : 54 : 46\n",
      "end\n",
      "10 : 54 : 56\n",
      "10 : 54 : 56\n",
      "end\n",
      "10 : 55 : 07\n",
      "100\n",
      "89\n",
      "10 : 55 : 07\n",
      "end\n",
      "10 : 58 : 18\n"
     ]
    }
   ],
   "source": [
    "# recupere le puuid des chall\n",
    "print (time.strftime(\"%H : %M : %S\"))\n",
    "info = (response1['entries'])\n",
    "playersPuuid = []\n",
    "playersName = []\n",
    "for i in range(len(response1)):\n",
    "        GetPlayersPuuid = \"https://euw1.api.riotgames.com/lol/summoner/v4/summoners/\" + info[i]['summonerId'] + \"?api_key=\" + api_key\n",
    "        response2 = requests.get(GetPlayersPuuid).json()\n",
    "        playersPuuid.append(response2[\"puuid\"])\n",
    "        time.sleep(2)\n",
    "print(\"end\")\n",
    "print (time.strftime(\"%H : %M : %S\"))\n",
    "# recupere les 20 last games de chaque joueur depuis une certaine date\n",
    "print (time.strftime(\"%H : %M : %S\"))\n",
    "PlayersGames = []\n",
    "for i in range(len(response1)):\n",
    "        GetPlayersGames = \"https://europe.api.riotgames.com/lol/match/v5/matches/by-puuid/\" + playersPuuid[i] + \"/ids?startTime=\" + date + \"&queue=420&type=ranked&start=0&count=20&api_key=\" + api_key\n",
    "        response2 = requests.get(GetPlayersGames).json()\n",
    "        PlayersGames = PlayersGames + response2\n",
    "        time.sleep(2)\n",
    "print(\"end\")\n",
    "print (time.strftime(\"%H : %M : %S\"))\n",
    "PlayersGames.sort()\n",
    "# verifie que la liste des games a ete trie\n",
    "print(len(PlayersGames))\n",
    "PlayersGames = list(set(PlayersGames))\n",
    "seen = set()\n",
    "result = []\n",
    "for item in PlayersGames:\n",
    "    if item not in seen:\n",
    "        seen.add(item)\n",
    "        result.append(item)\n",
    "print(len(result))\n",
    "# recupere les infos de chaque game\n",
    "print (time.strftime(\"%H : %M : %S\"))\n",
    "GamesInfo = []\n",
    "PlayersGamesRange = len(PlayersGames) - 1\n",
    "for i in range(PlayersGamesRange):\n",
    "    GetGamesInfo = \"https://europe.api.riotgames.com/lol/match/v5/matches/\" + PlayersGames[i] + \"?api_key=\" + api_key\n",
    "    response3 = requests.get(GetGamesInfo).json()\n",
    "    GamesInfo.append(response3)\n",
    "    time.sleep(2)\n",
    "print(\"end\")\n",
    "print (time.strftime(\"%H : %M : %S\"))\n"
   ]
  },
  {
   "cell_type": "code",
   "execution_count": 28,
   "id": "bf7db7e1",
   "metadata": {
    "scrolled": true
   },
   "outputs": [],
   "source": [
    "# nb de games par champions\n",
    "# recupere la liste des champions joue sur toutes les games dispo, et on tri par ordre alphabet\n",
    "from operator import itemgetter\n",
    "champsList = []\n",
    "count = len(GamesInfo) - 1\n",
    "for j in range(count):\n",
    "    for i in range(10):\n",
    "        champsList.append(GamesInfo[j][\"info\"][\"participants\"][i][\"championName\"])\n",
    "# compte le nombre d apparition d un champion\n",
    "ChampWinList = [[x, champsList.count(x)] for x in set(champsList)]\n",
    "ChampPickedCounter = [[x, champsList.count(x)] for x in set(champsList)]\n",
    "# pour trier par nb de games : , key = itemgetter(1), reverse = True\n",
    "ChampPickedCounter = sorted(ChampPickedCounter, key=lambda x: x[1], reverse=True)\n",
    "ChampWinList = sorted(ChampWinList)\n",
    "# nb de loose par champions\n",
    "# recupere la liste des champions joue sur toutes les games dispo, et on tri par ordre alphabet\n",
    "ChampLoseList = []\n",
    "count = len(GamesInfo) - 1\n",
    "for j in range(count):\n",
    "    for i in range(10):\n",
    "        if GamesInfo[j][\"info\"][\"participants\"][i][\"win\"] is False:\n",
    "            ChampLoseList.append(GamesInfo[j][\"info\"][\"participants\"][i][\"championName\"])\n",
    "# compte le nombre d apparition d un champion\n",
    "ChampLoseListCounter = [[x, ChampLoseList.count(x)] for x in set(ChampLoseList)]\n",
    "# pour trier par nb de games : , key = itemgetter(1), reverse = True\n",
    "ChampLoseListCounter = sorted(ChampLoseListCounter)\n",
    "# nb de games loose par champions\n",
    "champWinRate = []\n",
    "countLose = len(ChampLoseListCounter) - 1\n",
    "countPick = len(ChampPickedCounter) - 1\n",
    "# calcul du winrate d un champion\n",
    "for i in range(countPick):\n",
    "    for j in range(countLose):\n",
    "        if ChampWinList[i][0] == ChampLoseListCounter[j][0]:\n",
    "            ChampWinList[i][1] = ChampWinList[i][1] - ChampLoseListCounter[j][1]\n",
    "            winrate = round(ChampWinList[i][1] * 100 / (ChampLoseListCounter[j][1] + ChampWinList[i][1]), 2)\n",
    "            if ChampPickedCounter[i][1] > MinimumGamesPlayed:\n",
    "                champWinRate.append([ChampWinList[i][0], winrate])\n",
    "champWinRate = sorted(champWinRate, key = lambda x: x[1], reverse = True)\n"
   ]
  },
  {
   "cell_type": "code",
   "execution_count": 31,
   "id": "badfebc6",
   "metadata": {},
   "outputs": [
    {
     "name": "stdout",
     "output_type": "stream",
     "text": [
      "------------top 10 Picks-----------------\n",
      "[['LeeSin', 28], ['Jinx', 27], ['Jhin', 24], ['Nami', 21], ['Karma', 19], ['Rakan', 18], ['Tryndamere', 18], ['Kaisa', 18], ['Thresh', 18], ['Akali', 16], ['Irelia', 14], ['Viktor', 14], ['Jayce', 14], ['Vex', 14], ['Renekton', 14], ['Diana', 14], ['Darius', 13], ['Viego', 13], ['Ezreal', 13], ['Lulu', 13], ['Lucian', 13], ['Caitlyn', 12], ['Fiora', 12], ['Janna', 12], ['Kayn', 12], ['Rengar', 11], ['Khazix', 11], ['Lux', 11], ['Kayle', 11], ['Bard', 11], ['Karthus', 10], ['RekSai', 10], ['Talon', 10], ['Graves', 10], ['Leona', 10], ['Akshan', 10], ['Qiyana', 9], ['Gwen', 9], ['Zed', 9], ['Pyke', 9], ['Jax', 9], ['Draven', 8], ['Hecarim', 8], ['Aphelios', 8], ['Leblanc', 8], ['Syndra', 8], ['Yone', 8], ['Blitzcrank', 7], ['Yasuo', 7], ['Nautilus', 7], ['Katarina', 7], ['XinZhao', 7], ['Vayne', 7], ['Kassadin', 6], ['Ornn', 6], ['Zoe', 6], ['Shen', 6], ['Kindred', 6], ['Yuumi', 6], ['Elise', 5], ['Aatrox', 5], ['Singed', 5], ['Gangplank', 5], ['Seraphine', 5], ['Evelynn', 5], ['Sion', 5], ['Zilean', 5], ['Veigar', 5], ['Ekko', 5], ['Vladimir', 4], ['Rumble', 4], ['Sylas', 4], ['Orianna', 4], ['Camille', 4], ['Corki', 4], ['Ryze', 4], ['Senna', 4], ['Nidalee', 4], ['TwistedFate', 3], ['AurelionSol', 3], ['Cassiopeia', 3], ['Poppy', 3], ['Brand', 3], ['Samira', 3], ['Ziggs', 3], ['Nunu', 3], ['Xayah', 3], ['Malphite', 3], ['Gragas', 3], ['Soraka', 3], ['Xerath', 3], ['Tristana', 3], ['Braum', 3], ['JarvanIV', 2], ['KogMaw', 2], ['Twitch', 2], ['Pantheon', 2], ['Riven', 2], ['Ivern', 2], ['Morgana', 2], ['Sona', 2], ['Olaf', 2], ['MissFortune', 2], ['Azir', 2], ['Ashe', 2], ['Trundle', 2], ['Lissandra', 2], ['Heimerdinger', 2], ['Fizz', 2], ['Galio', 1], ['Mordekaiser', 1], ['Taliyah', 1], ['Varus', 1], ['FiddleSticks', 1], ['Maokai', 1], ['Illaoi', 1], ['Malzahar', 1], ['Kalista', 1], ['Anivia', 1], ['Kled', 1], ['MasterYi', 1], ['Sett', 1], ['Shyvana', 1], ['Neeko', 1], ['Lillia', 1], ['Nasus', 1]]\n",
      "------------win nb-----------------\n",
      "[['Aatrox', 3], ['Akali', 11], ['Akshan', 5], ['Anivia', 1], ['Aphelios', 4], ['Ashe', 1], ['AurelionSol', 2], ['Azir', 0], ['Bard', 5], ['Blitzcrank', 4], ['Brand', 1], ['Braum', 0], ['Caitlyn', 7], ['Camille', 0], ['Cassiopeia', 0], ['Corki', 3], ['Darius', 6], ['Diana', 8], ['Draven', 3], ['Ekko', 2], ['Elise', 3], ['Evelynn', 3], ['Ezreal', 8], ['FiddleSticks', 1], ['Fiora', 3], ['Fizz', 0], ['Galio', 1], ['Gangplank', 5], ['Gragas', 2], ['Graves', 8], ['Gwen', 5], ['Hecarim', 2], ['Heimerdinger', 0], ['Illaoi', 1], ['Irelia', 7], ['Ivern', 2], ['Janna', 6], ['JarvanIV', 1], ['Jax', 4], ['Jayce', 6], ['Jhin', 14], ['Jinx', 13], ['Kaisa', 8], ['Kalista', 0], ['Karma', 9], ['Karthus', 5], ['Kassadin', 3], ['Katarina', 4], ['Kayle', 4], ['Kayn', 7], ['Khazix', 4], ['Kindred', 1], ['Kled', 1], ['KogMaw', 0], ['Leblanc', 4], ['LeeSin', 14], ['Leona', 5], ['Lillia', 1], ['Lissandra', 2], ['Lucian', 5], ['Lulu', 6], ['Lux', 5], ['Malphite', 0], ['Malzahar', 0], ['Maokai', 1], ['MasterYi', 0], ['MissFortune', 2], ['Mordekaiser', 0], ['Morgana', 1], ['Nami', 8], ['Nasus', 1], ['Nautilus', 5], ['Neeko', 1], ['Nidalee', 3], ['Nunu', 0], ['Olaf', 1], ['Orianna', 1], ['Ornn', 5], ['Pantheon', 1], ['Poppy', 1], ['Pyke', 4], ['Qiyana', 6], ['Rakan', 13], ['RekSai', 3], ['Renekton', 8], ['Rengar', 9], ['Riven', 2], ['Rumble', 2], ['Ryze', 3], ['Samira', 1], ['Senna', 2], ['Seraphine', 3], ['Sett', 0], ['Shen', 3], ['Shyvana', 0], ['Singed', 2], ['Sion', 3], ['Sona', 1], ['Soraka', 2], ['Sylas', 3], ['Syndra', 5], ['Taliyah', 0], ['Talon', 6], ['Thresh', 8], ['Tristana', 1], ['Trundle', 0], ['Tryndamere', 12], ['TwistedFate', 0], ['Twitch', 2], ['Varus', 1], ['Vayne', 5], ['Veigar', 4], ['Vex', 6], ['Viego', 4], ['Viktor', 5], ['Vladimir', 2], ['Xayah', 2], ['Xerath', 2], ['XinZhao', 3], ['Yasuo', 4], ['Yone', 0], ['Yuumi', 5], ['Zed', 4], ['Ziggs', 1], ['Zilean', 1], ['Zoe', 6]]\n",
      "-------------lose nb----------------\n",
      "[['Aatrox', 2], ['Akali', 5], ['Akshan', 5], ['Aphelios', 4], ['Ashe', 1], ['AurelionSol', 1], ['Azir', 2], ['Bard', 6], ['Blitzcrank', 3], ['Brand', 2], ['Braum', 3], ['Caitlyn', 5], ['Camille', 4], ['Cassiopeia', 3], ['Corki', 1], ['Darius', 7], ['Diana', 6], ['Draven', 5], ['Ekko', 3], ['Elise', 2], ['Evelynn', 2], ['Ezreal', 5], ['Fiora', 9], ['Fizz', 2], ['Gragas', 1], ['Graves', 2], ['Gwen', 4], ['Hecarim', 6], ['Heimerdinger', 2], ['Irelia', 7], ['Janna', 6], ['JarvanIV', 1], ['Jax', 5], ['Jayce', 8], ['Jhin', 10], ['Jinx', 14], ['Kaisa', 10], ['Kalista', 1], ['Karma', 10], ['Karthus', 5], ['Kassadin', 3], ['Katarina', 3], ['Kayle', 7], ['Kayn', 5], ['Khazix', 7], ['Kindred', 5], ['KogMaw', 2], ['Leblanc', 4], ['LeeSin', 14], ['Leona', 5], ['Lucian', 8], ['Lulu', 7], ['Lux', 6], ['Malphite', 3], ['Malzahar', 1], ['MasterYi', 1], ['Mordekaiser', 1], ['Morgana', 1], ['Nami', 13], ['Nautilus', 2], ['Nidalee', 1], ['Nunu', 3], ['Olaf', 1], ['Orianna', 3], ['Ornn', 1], ['Pantheon', 1], ['Poppy', 2], ['Pyke', 5], ['Qiyana', 3], ['Rakan', 5], ['RekSai', 7], ['Renekton', 6], ['Rengar', 2], ['Rumble', 2], ['Ryze', 1], ['Samira', 2], ['Senna', 2], ['Seraphine', 2], ['Sett', 1], ['Shen', 3], ['Shyvana', 1], ['Singed', 3], ['Sion', 2], ['Sona', 1], ['Soraka', 1], ['Sylas', 1], ['Syndra', 3], ['Taliyah', 1], ['Talon', 4], ['Thresh', 10], ['Tristana', 2], ['Trundle', 2], ['Tryndamere', 6], ['TwistedFate', 3], ['Vayne', 2], ['Veigar', 1], ['Vex', 8], ['Viego', 9], ['Viktor', 9], ['Vladimir', 2], ['Xayah', 1], ['Xerath', 1], ['XinZhao', 4], ['Yasuo', 3], ['Yone', 8], ['Yuumi', 1], ['Zed', 5], ['Ziggs', 2], ['Zilean', 4], ['Zoe', 4]]\n"
     ]
    },
    {
     "data": {
      "image/png": "[encoded data removed]",
      "text/plain": [
       "<Figure size 432x288 with 1 Axes>"
      ]
     },
     "metadata": {
      "needs_background": "light"
     },
     "output_type": "display_data"
    }
   ],
   "source": [
    "# on affiche toutes nos donnees\n",
    "\n",
    "print(\"------------top 10 Picks-----------------\")\n",
    "pickedChampList = []\n",
    "pickedChampName = []\n",
    "for i in range(10):\n",
    "    pickedChampList.append(ChampPickedCounter[i][1])\n",
    "    pickedChampName.append(ChampPickedCounter[i][0])\n",
    "df = pd.DataFrame({'Champions':pickedChampName, 'GamesPicked':pickedChampList})\n",
    "ax = df.plot.bar(x='Champions', y='GamesPicked', rot=0)\n",
    "print(ChampPickedCounter)\n",
    "print(\"------------win nb-----------------\")\n",
    "print(ChampWinList)\n",
    "print(\"-------------lose nb----------------\")\n",
    "print(ChampLoseListCounter)"
   ]
  },
  {
   "cell_type": "code",
   "execution_count": 33,
   "id": "3e56b50a",
   "metadata": {},
   "outputs": [
    {
     "name": "stdout",
     "output_type": "stream",
     "text": [
      "-------------Win rate----------------\n",
      "[['Graves', 80.0], ['Corki', 75.0], ['Akali', 68.75], ['AurelionSol', 66.67], ['Gragas', 66.67], ['Ezreal', 61.54], ['Aatrox', 60.0], ['Elise', 60.0], ['Evelynn', 60.0], ['Caitlyn', 58.33], ['Blitzcrank', 57.14], ['Diana', 57.14], ['Akshan', 50.0], ['Aphelios', 50.0], ['Ashe', 50.0], ['Darius', 46.15], ['Bard', 45.45], ['Ekko', 40.0], ['Draven', 37.5], ['Brand', 33.33], ['Fiora', 25.0], ['Azir', 0.0], ['Braum', 0.0], ['Camille', 0.0], ['Cassiopeia', 0.0], ['Fizz', 0.0]]\n"
     ]
    },
    {
     "data": {
      "image/png": "[encoded data removed]",
      "text/plain": [
       "<Figure size 432x288 with 1 Axes>"
      ]
     },
     "metadata": {
      "needs_background": "light"
     },
     "output_type": "display_data"
    }
   ],
   "source": [
    "# visualisation winrate \n",
    "print(\"-------------Win rate----------------\")\n",
    "winRateChampList = []\n",
    "winRateChampName = []\n",
    "for i in range(10):\n",
    "    winRateChampList.append(champWinRate[i][1])\n",
    "    winRateChampName.append(champWinRate[i][0])\n",
    "df = pd.DataFrame({'Champions':pickedChampName, 'GamesPicked':pickedChampList})\n",
    "ax = df.plot.bar(x='Champions', y='GamesPicked', rot=0)\n",
    "print(champWinRate)"
   ]
  },
  {
   "cell_type": "code",
   "execution_count": 9,
   "id": "7ae69a17",
   "metadata": {
    "scrolled": true
   },
   "outputs": [
    {
     "name": "stdout",
     "output_type": "stream",
     "text": [
      "[6692, 3071, 3153, 3047, 3082, 3067, 3153, 6693, 3742, 1028, 3047, 0, 3133, 6630, 3158, 3053, 3067, 0, 1054, 6029, 1028, 3047, 3123, 3044, 3047, 6630, 0, 6333, 3053, 0, 1055, 2031, 6630, 3076, 3044, 3047, 3067, 6630, 3123, 3047, 1028, 0, 6630, 3193, 0, 3044, 3047, 1054, 1055, 6630, 3047, 2055, 3065, 1028, 3053, 6630, 3047, 1028, 2055, 1057, 6630, 2421, 3065, 3053, 1029, 3047, 1083, 6029, 3067, 3044, 3047, 0, 1054, 3053, 6630, 3047, 3133, 0, 3053, 1057, 6630, 3047, 0, 3071]\n",
      "[['Plated Steelcaps', 13], ['Goredrinker', 10], ['null', 9], [\"Sterak's Gage\", 6], ['Ruby Crystal', 5], ['Phage', 4], ['Kindlegem', 4], [\"Doran's Shield\", 3], ['Control Ward', 2], ['Ironspike Whip', 2], [\"Doran's Blade\", 2], ['Negatron Cloak', 2], [\"Executioner's Calling\", 2], [\"Caulfield's Warhammer\", 2], ['Spirit Visage', 2], ['Blade of The Ruined King', 2], ['Black Cleaver', 2], ['Bramble Vest', 1], ['Cloth Armor', 1], [\"Warden's Mail\", 1], [\"Dead Man's Plate\", 1], ['Eclipse', 1], [\"Prowler's Claw\", 1], ['Cull', 1], [\"Death's Dance\", 1], ['Ionian Boots of Lucidity', 1], ['Refillable Potion', 1], ['Broken Stopwatch', 1], ['Gargoyle Stoneplate', 1]]\n"
     ]
    }
   ],
   "source": [
    "# Calcul du nombre d'occurrences des items pour un champion donne\n",
    "ItemList = []\n",
    "WinOrNot = True\n",
    "for e in range(count):\n",
    "    for i in range(10):\n",
    "        for j in range(6):\n",
    "            if GamesInfo[e][\"info\"][\"participants\"][i][\"championName\"] == Champion:\n",
    "                # est ce que c est une game win ou non (peut etre mis en commit)\n",
    "                # if GamesInfo[e][\"info\"][\"participants\"][i][\"win\"] == TrueOrFalse:\n",
    "                    ItemList.append(GamesInfo[e][\"info\"][\"participants\"][i][\"item\" + str(j)])\n",
    "print(ItemList)\n",
    "ItemListcounter = [[x, ItemList.count(x)] for x in set(ItemList)]\n",
    "ItemListcounter = sorted(ItemListcounter, key = lambda x: x[1], reverse = True)\n",
    "\n",
    "# on change l'alias des items pour leur nom\n",
    "GetItemInfo = requests.get('https://ddragon.leagueoflegends.com/cdn/' + Patch + '/data/en_US/item.json').json()\n",
    "for i in range(len(ItemListcounter)):\n",
    "    if ItemListcounter[i][0] != 0:\n",
    "        number = str(ItemListcounter[i][0])\n",
    "        ItemListcounter[i][0] = GetItemInfo[\"data\"][str(number)][\"name\"]\n",
    "    if ItemListcounter[i][0] == 0:\n",
    "        ItemListcounter[i][0] = \"null\"\n",
    "print(ItemListcounter)\n"
   ]
  },
  {
   "cell_type": "code",
   "execution_count": 10,
   "id": "a02865cc",
   "metadata": {},
   "outputs": [
    {
     "name": "stdout",
     "output_type": "stream",
     "text": [
      "Winrate with inhibitor killed first 81.82\n"
     ]
    }
   ],
   "source": [
    "# calcul du winrate par rapport au premier objectif\n",
    "GamesFirstObjWin = 0\n",
    "for i in range(len(GamesInfo)):\n",
    "    for e in range(2):\n",
    "        if GamesInfo[i][\"info\"][\"teams\"][e][\"win\"] == GameWin and GamesInfo[i][\"info\"][\"teams\"][e][\"objectives\"][Obj][\"first\"] == FirstObj:\n",
    "            GamesFirstObjWin = GamesFirstObjWin + 1\n",
    "GamesFirstObjWinRate = GamesFirstObjWin * 100 / len(GamesInfo)\n",
    "GamesFirstObjWinRate = round(GamesFirstObjWinRate, 2)\n",
    "print(\"Winrate with\", Obj, \"killed first\", GamesFirstObjWinRate)\n"
   ]
  },
  {
   "cell_type": "code",
   "execution_count": 11,
   "id": "568f1549",
   "metadata": {},
   "outputs": [
    {
     "name": "stdout",
     "output_type": "stream",
     "text": [
      "Most banned champ : [['Qiyana', 73], ['Talon', 58], ['Akshan', 48], ['Lulu', 38], ['Kassadin', 33], ['Yuumi', 32], ['LeeSin', 31], ['Jax', 30], ['Diana', 30], ['Draven', 25], ['Janna', 23], ['Vex', 20], ['Leblanc', 19], ['Tryndamere', 19], ['Caitlyn', 19], ['Viktor', 19], ['Yone', 19], ['Bard', 18], ['Viego', 17], ['Irelia', 15], ['Singed', 14], ['Akali', 14], ['Rengar', 14], ['Zed', 14], ['Fiora', 13], ['Karthus', 11], ['Hecarim', 11], ['Riven', 10], ['Katarina', 9], ['Jinx', 9], ['Evelynn', 8], ['Pyke', 7], ['Darius', 7], ['Kayn', 7], ['Thresh', 7], ['Nunu', 5], ['Vayne', 5], ['Lux', 5], ['Jayce', 5], ['TwistedFate', 4], ['XinZhao', 4], ['Fiddlesticks', 4], ['Nidalee', 4], ['Graves', 4], ['Vladimir', 3], ['Shaco', 3], ['Poppy', 3], ['Khazix', 3], ['Kaisa', 3], ['Camille', 3], ['Aatrox', 3], ['Kayle', 2], ['Soraka', 2], ['Morgana', 2], ['Twitch', 2], ['DrMundo', 2], ['Sona', 2], ['Karma', 2], ['Taric', 2], ['Malphite', 2], ['Renekton', 2], ['Xerath', 2], ['Nautilus', 2], ['Yasuo', 2], ['Jhin', 2], ['TahmKench', 2], ['Ekko', 2], ['Tristana', 1], ['Zilean', 1], ['Corki', 1], ['Trundle', 1], ['Blitzcrank', 1], ['Gragas', 1], ['Ezreal', 1], ['Malzahar', 1], ['Fizz', 1], ['AurelionSol', 1], ['Zoe', 1], ['Zyra', 1], ['Zac', 1], ['Kindred', 1], ['Lucian', 1], ['Nami', 1], ['Sett', 1], ['Gwen', 1], ['RekSai', 1], ['Rakan', 1]]\n"
     ]
    }
   ],
   "source": [
    "# creation d un dictionaire avec la key et le nom du champion\n",
    "bannedchamp = []\n",
    "GetChampName = requests.get('https://ddragon.leagueoflegends.com/cdn/' + Patch + '/data/en_US/champion.json').json()\n",
    "ChampNameList = []\n",
    "for k in GetChampName[\"data\"]:\n",
    "    ChampNameList.append(k)\n",
    "ChampListKey = []\n",
    "for i in range(len(ChampNameList)):\n",
    "    ChampListKey.append([ChampNameList[i], GetChampName[\"data\"][ChampNameList[i]][\"key\"]])\n",
    "\n",
    "# calcul du nombre de ban d un champion\n",
    "for f in range(len(GamesInfo)):\n",
    "    for e in range(2):\n",
    "        for i in range(5):\n",
    "            if GamesInfo[f][\"info\"][\"teams\"][e][\"bans\"][i][\"championId\"] != -1:\n",
    "                bannedchamp.append(GamesInfo[f][\"info\"][\"teams\"][e][\"bans\"][i][\"championId\"])\n",
    "bannedchamp = [[x, bannedchamp.count(x)] for x in set(bannedchamp)]\n",
    "bannedchamp = sorted(bannedchamp, key = lambda x: x[1], reverse = True)\n",
    "\n",
    "# on change la key par le nom du champion\n",
    "for i in range(len(bannedchamp)):\n",
    "    for e in range(len(ChampListKey)):\n",
    "        if str(bannedchamp[i][0]) == ChampListKey[e][1]:\n",
    "            bannedchamp[i][0] = ChampListKey[e][0]\n",
    "print(\"Most banned champ :\", bannedchamp)\n"
   ]
  },
  {
   "cell_type": "code",
   "execution_count": 12,
   "id": "eae1ee15",
   "metadata": {},
   "outputs": [
    {
     "name": "stdout",
     "output_type": "stream",
     "text": [
      "Blue side win :  45\n",
      "Blue side lose :  43\n"
     ]
    }
   ],
   "source": [
    "WinBlueCount = 0\n",
    "\n",
    "LoseBlueCount = 0\n",
    "\n",
    "for i in range(len(GamesInfo)):\n",
    "    if GamesInfo[i][\"info\"][\"teams\"][0][\"win\"] is True:\n",
    "        WinBlueCount = WinBlueCount + 1\n",
    "    elif GamesInfo[i][\"info\"][\"teams\"][0][\"win\"] is False:\n",
    "        LoseBlueCount = LoseBlueCount + 1\n",
    "\n",
    "print(\"Blue side win : \", WinBlueCount)\n",
    "\n",
    "print(\"Blue side lose : \", LoseBlueCount)\n"
   ]
  },
  {
   "cell_type": "code",
   "execution_count": 13,
   "id": "012c7ac6",
   "metadata": {},
   "outputs": [],
   "source": [
    "# Average game time\n",
    "GameTime = []\n",
    "AverageTime = 0\n",
    "for i in range(len(GamesInfo)):\n",
    "    GameTime.append(GamesInfo[i][\"info\"][\"gameDuration\"])\n",
    "AverageTime = round(sum(GameTime) / len(GameTime), 2)\n",
    "AverageTimeInMinute = time.strftime(\"%M:%S\", time.localtime(AverageTime))\n",
    "\n",
    "# calcul du gain d exp et de gold des supports\n",
    "SupportGoldEarned = []\n",
    "SupportExp = []\n",
    "AverageSupportGold = 0\n",
    "AverageSupportExp = 0\n",
    "for i in range(len(GamesInfo)):\n",
    "    for e in range(10):\n",
    "        if GamesInfo[i][\"info\"][\"participants\"][e][\"role\"] == \"SUPPORT\":\n",
    "            SupportGoldEarned.append(GamesInfo[i][\"info\"][\"participants\"][e][\"goldEarned\"])\n",
    "AverageSupportGold = sum(SupportGoldEarned) / len(SupportGoldEarned)\n",
    "AverageSupportGold = round(AverageSupportGold, 2)\n",
    "AverageSupportGoldMin = round((AverageSupportGold / AverageTime) * 60, 2)\n",
    "\n",
    "for i in range(len(GamesInfo)):\n",
    "    for e in range(10):\n",
    "        if GamesInfo[i][\"info\"][\"participants\"][e][\"role\"] == \"SUPPORT\":\n",
    "            SupportExp.append(GamesInfo[i][\"info\"][\"participants\"][e][\"champExperience\"])\n",
    "AverageSupportExp = sum(SupportExp) / len(SupportExp)\n",
    "AverageSupportExp = round(AverageSupportExp, 2)\n",
    "AverageSupportExpMin = round((AverageSupportExp / AverageTime) * 60, 2)\n",
    "\n",
    "# calcul du gain d exp et de gold des jungler\n",
    "JunglerGoldEarned = []\n",
    "JunglerExp = []\n",
    "AverageJunglerExp = 0\n",
    "AverageJunglerGold = 0\n",
    "for i in range(len(GamesInfo)):\n",
    "    for e in range(10):\n",
    "        if GamesInfo[i][\"info\"][\"participants\"][e][\"individualPosition\"] == \"JUNGLE\":\n",
    "            JunglerGoldEarned.append(GamesInfo[i][\"info\"][\"participants\"][e][\"goldEarned\"])\n",
    "AverageJunglerGold = sum(JunglerGoldEarned) / len(JunglerGoldEarned)\n",
    "AverageJunglerGold = round(AverageJunglerGold, 2)\n",
    "AverageJunglerGoldMin = round((AverageJunglerGold / AverageTime) * 60, 2)\n",
    "\n",
    "for i in range(len(GamesInfo)):\n",
    "    for e in range(10):\n",
    "        if GamesInfo[i][\"info\"][\"participants\"][e][\"individualPosition\"] == \"JUNGLE\":\n",
    "            JunglerExp.append(GamesInfo[i][\"info\"][\"participants\"][e][\"champExperience\"])\n",
    "AverageJunglerExp = sum(JunglerExp) / len(JunglerExp)\n",
    "AverageJunglerExp = round(AverageJunglerExp, 2)\n",
    "AverageJunglerExpMin = round((AverageJunglerExp / AverageTime) * 60, 2)\n",
    "# calcul du gain d exp et de gold des adc\n",
    "CarryGoldEarned = []\n",
    "CarryExp = []\n",
    "AverageCarryExp = 0\n",
    "AverageGoldExp = 0\n",
    "for i in range(len(GamesInfo)):\n",
    "    for e in range(10):\n",
    "        if GamesInfo[i][\"info\"][\"participants\"][e][\"role\"] == \"CARRY\":\n",
    "            CarryGoldEarned.append(GamesInfo[i][\"info\"][\"participants\"][e][\"goldEarned\"])\n",
    "AverageCarryGold = sum(CarryGoldEarned) / len(CarryGoldEarned)\n",
    "AverageCarryGold = round(AverageCarryGold, 2)\n",
    "AverageCarryGoldMin = round((AverageCarryGold / AverageTime) * 60, 2)\n",
    "\n",
    "for i in range(len(GamesInfo)):\n",
    "    for e in range(10):\n",
    "        if GamesInfo[i][\"info\"][\"participants\"][e][\"role\"] == \"CARRY\":\n",
    "            CarryExp.append(GamesInfo[i][\"info\"][\"participants\"][e][\"champExperience\"])\n",
    "AverageCarryExp = sum(CarryExp) / len(CarryExp)\n",
    "AverageCarryExp = round(AverageCarryExp, 2)\n",
    "AverageCarryExpMin = round((AverageCarryExp / AverageTime) * 60, 2)\n",
    "\n",
    "# calcul du gain d exp et de gold des mid\n",
    "MidGoldEarned = []\n",
    "MidExp = []\n",
    "AverageMidExp = 0\n",
    "AverageMidGold = 0\n",
    "for i in range(len(GamesInfo)):\n",
    "    for e in range(10):\n",
    "        if GamesInfo[i][\"info\"][\"participants\"][e][\"individualPosition\"] == \"MIDDLE\":\n",
    "            MidGoldEarned.append(GamesInfo[i][\"info\"][\"participants\"][e][\"goldEarned\"])\n",
    "AverageMidGold = sum(MidGoldEarned) / len(MidGoldEarned)\n",
    "AverageMidGold = round(AverageMidGold, 2)\n",
    "AverageMidGoldMin = round((AverageMidGold / AverageTime) * 60, 2)\n",
    "\n",
    "for i in range(len(GamesInfo)):\n",
    "    for e in range(10):\n",
    "        if GamesInfo[i][\"info\"][\"participants\"][e][\"individualPosition\"] == \"MIDDLE\":\n",
    "            MidExp.append(GamesInfo[i][\"info\"][\"participants\"][e][\"champExperience\"])\n",
    "AverageMidExp = sum(MidExp) / len(MidExp)\n",
    "AverageMidExp = round(AverageMidExp, 2)\n",
    "AverageMidExpMin = round((AverageMidExp / AverageTime) * 60, 2)\n",
    "\n",
    "# calcul du gain d exp et de gold des top\n",
    "TopGoldEarned = []\n",
    "TopExp = []\n",
    "AverageTopExp = 0\n",
    "AverageTopGold = 0\n",
    "for i in range(len(GamesInfo)):\n",
    "    for e in range(10):\n",
    "        if GamesInfo[i][\"info\"][\"participants\"][e][\"individualPosition\"] == \"TOP\":\n",
    "            TopGoldEarned.append(GamesInfo[i][\"info\"][\"participants\"][e][\"goldEarned\"])\n",
    "AverageTopGold = sum(TopGoldEarned) / len(TopGoldEarned)\n",
    "AverageTopGold = round(AverageTopGold, 2)\n",
    "AverageTopGoldMin = round((AverageTopGold / AverageTime) * 60, 2)\n",
    "\n",
    "for i in range(len(GamesInfo)):\n",
    "    for e in range(10):\n",
    "        if GamesInfo[i][\"info\"][\"participants\"][e][\"individualPosition\"] == \"TOP\":\n",
    "            TopExp.append(GamesInfo[i][\"info\"][\"participants\"][e][\"champExperience\"])\n",
    "AverageTopExp = sum(TopExp) / len(TopExp)\n",
    "AverageTopExp = round(AverageTopExp, 2)\n",
    "AverageTopExpMin = round((AverageTopExp / AverageTime) * 60, 2)\n"
   ]
  },
  {
   "cell_type": "code",
   "execution_count": 14,
   "id": "b293e366",
   "metadata": {},
   "outputs": [
    {
     "name": "stdout",
     "output_type": "stream",
     "text": [
      "417.71\n",
      "444.22\n",
      "434.58\n",
      "457.5\n",
      "292.58\n"
     ]
    }
   ],
   "source": [
    "print(AverageTopGoldMin)\n",
    "print(AverageJunglerGoldMin)\n",
    "print(AverageMidGoldMin)\n",
    "print(AverageCarryGoldMin)\n",
    "print(AverageSupportGoldMin)"
   ]
  },
  {
   "cell_type": "code",
   "execution_count": 46,
   "id": "b9e8c07e",
   "metadata": {},
   "outputs": [
    {
     "name": "stdout",
     "output_type": "stream",
     "text": [
      "{'x': 12845, 'y': 2977}\n"
     ]
    }
   ],
   "source": [
    "# position des kills sur la map  \n",
    "getgameevents = requests.get('https://europe.api.riotgames.com/lol/match/v5/matches/EUW1_5667123035/timeline?api_key=RGAPI-c27a6635-4e09-4603-a2f6-701f8aa557e8').json()\n",
    "# liste de la pos de chaque kill \n",
    "killsPos = []\n",
    "for i in range(len(getgameevents[\"info\"][\"frames\"])):\n",
    "    for j in range(len(getgameevents[\"info\"][\"frames\"][i][\"events\"])):\n",
    "        if(getgameevents[\"info\"][\"frames\"][i][\"events\"][j][\"type\"] == \"CHAMPION_KILL\"):\n",
    "            killsPos.append(getgameevents[\"info\"][\"frames\"][i][\"events\"][j][\"position\"])\n",
    "print(killsPos[1])"
   ]
  },
  {
   "cell_type": "code",
   "execution_count": null,
   "id": "464c0661",
   "metadata": {},
   "outputs": [],
   "source": []
  },
  {
   "cell_type": "code",
   "execution_count": null,
   "id": "8cd3bfa2",
   "metadata": {},
   "outputs": [],
   "source": []
  },
  {
   "cell_type": "code",
   "execution_count": null,
   "id": "1cd5e3de",
   "metadata": {},
   "outputs": [],
   "source": []
  }
 ],
 "metadata": {
  "kernelspec": {
   "display_name": "Python 3 (ipykernel)",
   "language": "python",
   "name": "python3"
  },
  "language_info": {
   "codemirror_mode": {
    "name": "ipython",
    "version": 3
   },
   "file_extension": ".py",
   "mimetype": "text/x-python",
   "name": "python",
   "nbconvert_exporter": "python",
   "pygments_lexer": "ipython3",
   "version": "3.9.7"
  }
 },
 "nbformat": 4,
 "nbformat_minor": 5
}
